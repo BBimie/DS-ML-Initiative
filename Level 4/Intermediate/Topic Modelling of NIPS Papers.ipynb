{
 "cells": [
  {
   "cell_type": "markdown",
   "metadata": {},
   "source": [
    "# Topic Modelling of All NeurIPS (NIPS) Papers\n",
    "\n",
    "Topic modeling is used to extract topics with keywords in unlabeled documents. \n",
    "\n",
    "\n",
    "## Background\n",
    "The Conference and Workshop on Neural Information Processing Systems (abbreviated as NeurIPS and formerly NIPS) is a machine learning and computational neuroscience conference that holds every December.\n",
    "\n",
    "This dataset is inspired by dataset [NIPS Papers of Ben Hamner](https://www.kaggle.com/benhamner/nips-papers). While the original dataset by Ben Hamner represent the time period of 1987-2017 covering over 7241 papers, 2439 more papers has been published in the year of 2018-19. Hence, Rohit Swami decided to get everything together for the Kaggle community [here](https://www.kaggle.com/rowhitswami/nips-papers-1987-2019-updated?select=papers.csv).\n",
    "\n",
    "## Data\n",
    "There are two datasets;\n",
    "\n",
    "- Authors: Containing author details\n",
    "- Papers: This dataset contains the source id, year of publication, title, abstracts, and full text of all NeurIPS papers from 1987 to 2019."
   ]
  },
  {
   "cell_type": "code",
   "execution_count": 1,
   "metadata": {},
   "outputs": [],
   "source": [
    "import pandas as pd\n",
    "import numpy as np\n",
    "import matplotlib.pyplot as plt\n",
    "import seaborn as sns\n",
    "\n",
    "import re\n",
    "import nltk\n",
    "from collections import Counter\n",
    "from nltk.stem import SnowballStemmer\n",
    "from nltk.corpus import stopwords\n",
    "from nltk.tokenize import word_tokenize \n",
    "from nltk import pos_tag\n",
    "\n",
    "from sklearn.decomposition import LatentDirichletAllocation\n",
    "from sklearn.feature_extraction.text import TfidfVectorizer"
   ]
  },
  {
   "cell_type": "markdown",
   "metadata": {},
   "source": [
    "## EDA"
   ]
  },
  {
   "cell_type": "code",
   "execution_count": 2,
   "metadata": {},
   "outputs": [
    {
     "data": {
      "text/html": [
       "<div>\n",
       "<style scoped>\n",
       "    .dataframe tbody tr th:only-of-type {\n",
       "        vertical-align: middle;\n",
       "    }\n",
       "\n",
       "    .dataframe tbody tr th {\n",
       "        vertical-align: top;\n",
       "    }\n",
       "\n",
       "    .dataframe thead th {\n",
       "        text-align: right;\n",
       "    }\n",
       "</style>\n",
       "<table border=\"1\" class=\"dataframe\">\n",
       "  <thead>\n",
       "    <tr style=\"text-align: right;\">\n",
       "      <th></th>\n",
       "      <th>source_id</th>\n",
       "      <th>first_name</th>\n",
       "      <th>last_name</th>\n",
       "      <th>institution</th>\n",
       "    </tr>\n",
       "  </thead>\n",
       "  <tbody>\n",
       "    <tr>\n",
       "      <th>0</th>\n",
       "      <td>27</td>\n",
       "      <td>Alan</td>\n",
       "      <td>Murray</td>\n",
       "      <td>NaN</td>\n",
       "    </tr>\n",
       "    <tr>\n",
       "      <th>1</th>\n",
       "      <td>27</td>\n",
       "      <td>Anthony</td>\n",
       "      <td>Smith</td>\n",
       "      <td>NaN</td>\n",
       "    </tr>\n",
       "    <tr>\n",
       "      <th>2</th>\n",
       "      <td>27</td>\n",
       "      <td>Zoe</td>\n",
       "      <td>Butler</td>\n",
       "      <td>NaN</td>\n",
       "    </tr>\n",
       "    <tr>\n",
       "      <th>3</th>\n",
       "      <td>63</td>\n",
       "      <td>Yaser</td>\n",
       "      <td>Abu-Mostafa</td>\n",
       "      <td>NaN</td>\n",
       "    </tr>\n",
       "    <tr>\n",
       "      <th>4</th>\n",
       "      <td>60</td>\n",
       "      <td>Michael</td>\n",
       "      <td>Fleisher</td>\n",
       "      <td>NaN</td>\n",
       "    </tr>\n",
       "  </tbody>\n",
       "</table>\n",
       "</div>"
      ],
      "text/plain": [
       "   source_id first_name    last_name institution\n",
       "0         27       Alan       Murray         NaN\n",
       "1         27    Anthony        Smith         NaN\n",
       "2         27        Zoe       Butler         NaN\n",
       "3         63      Yaser  Abu-Mostafa         NaN\n",
       "4         60    Michael     Fleisher         NaN"
      ]
     },
     "execution_count": 2,
     "metadata": {},
     "output_type": "execute_result"
    }
   ],
   "source": [
    "authors = pd.read_csv('NeurIPS Papers/authors.csv')\n",
    "authors.head()"
   ]
  },
  {
   "cell_type": "code",
   "execution_count": 3,
   "metadata": {},
   "outputs": [
    {
     "data": {
      "text/plain": [
       "14035"
      ]
     },
     "execution_count": 3,
     "metadata": {},
     "output_type": "execute_result"
    }
   ],
   "source": [
    "authors['full_name'] = authors['first_name'] + ' ' + authors['last_name']\n",
    "authors['full_name'].nunique()"
   ]
  },
  {
   "cell_type": "markdown",
   "metadata": {},
   "source": [
    "There are 14,035 unique authors contributing to NIPS papers"
   ]
  },
  {
   "cell_type": "code",
   "execution_count": 4,
   "metadata": {},
   "outputs": [
    {
     "data": {
      "text/html": [
       "<div>\n",
       "<style scoped>\n",
       "    .dataframe tbody tr th:only-of-type {\n",
       "        vertical-align: middle;\n",
       "    }\n",
       "\n",
       "    .dataframe tbody tr th {\n",
       "        vertical-align: top;\n",
       "    }\n",
       "\n",
       "    .dataframe thead th {\n",
       "        text-align: right;\n",
       "    }\n",
       "</style>\n",
       "<table border=\"1\" class=\"dataframe\">\n",
       "  <thead>\n",
       "    <tr style=\"text-align: right;\">\n",
       "      <th></th>\n",
       "      <th>source_id</th>\n",
       "      <th>year</th>\n",
       "      <th>title</th>\n",
       "      <th>abstract</th>\n",
       "      <th>full_text</th>\n",
       "    </tr>\n",
       "  </thead>\n",
       "  <tbody>\n",
       "    <tr>\n",
       "      <th>0</th>\n",
       "      <td>27</td>\n",
       "      <td>1987</td>\n",
       "      <td>Bit-Serial Neural Networks</td>\n",
       "      <td>NaN</td>\n",
       "      <td>573 \\n\\nBIT - SERIAL NEURAL  NETWORKS \\n\\nAlan...</td>\n",
       "    </tr>\n",
       "    <tr>\n",
       "      <th>1</th>\n",
       "      <td>63</td>\n",
       "      <td>1987</td>\n",
       "      <td>Connectivity Versus Entropy</td>\n",
       "      <td>NaN</td>\n",
       "      <td>1 \\n\\nCONNECTIVITY VERSUS ENTROPY \\n\\nYaser  S...</td>\n",
       "    </tr>\n",
       "    <tr>\n",
       "      <th>2</th>\n",
       "      <td>60</td>\n",
       "      <td>1987</td>\n",
       "      <td>The Hopfield Model with Multi-Level Neurons</td>\n",
       "      <td>NaN</td>\n",
       "      <td>278 \\n\\nTHE HOPFIELD MODEL WITH MUL TI-LEVEL N...</td>\n",
       "    </tr>\n",
       "    <tr>\n",
       "      <th>3</th>\n",
       "      <td>59</td>\n",
       "      <td>1987</td>\n",
       "      <td>How Neural Nets Work</td>\n",
       "      <td>NaN</td>\n",
       "      <td>442 \\n\\nAlan  Lapedes \\nRobert  Farber \\n\\nThe...</td>\n",
       "    </tr>\n",
       "    <tr>\n",
       "      <th>4</th>\n",
       "      <td>69</td>\n",
       "      <td>1987</td>\n",
       "      <td>Spatial Organization of Neural Networks: A Pro...</td>\n",
       "      <td>NaN</td>\n",
       "      <td>740 \\n\\nSPATIAL  ORGANIZATION  OF  NEURAL  NEn...</td>\n",
       "    </tr>\n",
       "  </tbody>\n",
       "</table>\n",
       "</div>"
      ],
      "text/plain": [
       "   source_id  year                                              title  \\\n",
       "0         27  1987                         Bit-Serial Neural Networks   \n",
       "1         63  1987                        Connectivity Versus Entropy   \n",
       "2         60  1987        The Hopfield Model with Multi-Level Neurons   \n",
       "3         59  1987                               How Neural Nets Work   \n",
       "4         69  1987  Spatial Organization of Neural Networks: A Pro...   \n",
       "\n",
       "  abstract                                          full_text  \n",
       "0      NaN  573 \\n\\nBIT - SERIAL NEURAL  NETWORKS \\n\\nAlan...  \n",
       "1      NaN  1 \\n\\nCONNECTIVITY VERSUS ENTROPY \\n\\nYaser  S...  \n",
       "2      NaN  278 \\n\\nTHE HOPFIELD MODEL WITH MUL TI-LEVEL N...  \n",
       "3      NaN  442 \\n\\nAlan  Lapedes \\nRobert  Farber \\n\\nThe...  \n",
       "4      NaN  740 \\n\\nSPATIAL  ORGANIZATION  OF  NEURAL  NEn...  "
      ]
     },
     "execution_count": 4,
     "metadata": {},
     "output_type": "execute_result"
    }
   ],
   "source": [
    "papers = pd.read_csv('NeurIPS Papers/papers.csv')\n",
    "papers.head()"
   ]
  },
  {
   "cell_type": "code",
   "execution_count": 5,
   "metadata": {},
   "outputs": [
    {
     "data": {
      "text/plain": [
       "(9680, 5)"
      ]
     },
     "execution_count": 5,
     "metadata": {},
     "output_type": "execute_result"
    }
   ],
   "source": [
    "papers.shape"
   ]
  },
  {
   "cell_type": "code",
   "execution_count": 6,
   "metadata": {},
   "outputs": [
    {
     "data": {
      "text/plain": [
       "source_id       0\n",
       "year            0\n",
       "title           0\n",
       "abstract     3319\n",
       "full_text       3\n",
       "dtype: int64"
      ]
     },
     "execution_count": 6,
     "metadata": {},
     "output_type": "execute_result"
    }
   ],
   "source": [
    "papers.isnull().sum()"
   ]
  },
  {
   "cell_type": "markdown",
   "metadata": {},
   "source": [
    "The papers dataset contains some missing values in the 'abstract' and 'full_text' columns, but because I did not use these columns at all, I did not bother with the missing values"
   ]
  },
  {
   "cell_type": "code",
   "execution_count": 7,
   "metadata": {},
   "outputs": [
    {
     "data": {
      "text/plain": [
       "914     9\n",
       "535     8\n",
       "805     8\n",
       "354     8\n",
       "1143    8\n",
       "95      8\n",
       "93      8\n",
       "1269    8\n",
       "1100    8\n",
       "780     8\n",
       "Name: source_id, dtype: int64"
      ]
     },
     "execution_count": 7,
     "metadata": {},
     "output_type": "execute_result"
    }
   ],
   "source": [
    "papers['source_id'].value_counts().head(10)"
   ]
  },
  {
   "cell_type": "markdown",
   "metadata": {},
   "source": [
    "Source ID is not unique to each publication, some publications have the same source ID, so the research were probably sponsored by the same institution."
   ]
  },
  {
   "cell_type": "code",
   "execution_count": 8,
   "metadata": {
    "scrolled": true
   },
   "outputs": [
    {
     "data": {
      "text/plain": [
       "2019    1428\n",
       "2018    1009\n",
       "2017     679\n",
       "2016     569\n",
       "2014     411\n",
       "2015     403\n",
       "2012     370\n",
       "2013     360\n",
       "2011     306\n",
       "2010     292\n",
       "2009     262\n",
       "2008     250\n",
       "2007     217\n",
       "2005     207\n",
       "2004     207\n",
       "2002     207\n",
       "2006     204\n",
       "2003     198\n",
       "2001     197\n",
       "1993     158\n",
       "1995     152\n",
       "2000     152\n",
       "1996     152\n",
       "1998     151\n",
       "1999     150\n",
       "1997     150\n",
       "1991     144\n",
       "1990     143\n",
       "1994     140\n",
       "1992     127\n",
       "1989     101\n",
       "1988      94\n",
       "1987      90\n",
       "Name: year, dtype: int64"
      ]
     },
     "execution_count": 8,
     "metadata": {},
     "output_type": "execute_result"
    },
    {
     "data": {
      "image/png": "[encoded data removed]",
      "text/plain": [
       "<Figure size 1080x432 with 1 Axes>"
      ]
     },
     "metadata": {
      "needs_background": "light"
     },
     "output_type": "display_data"
    }
   ],
   "source": [
    "#a quick look into the number of NIPS publications yearly\n",
    "papers['year'].value_counts().plot(figsize=(15,6), title=\"Number of Publications from 1987 to 2019\")\n",
    "papers['year'].value_counts()"
   ]
  },
  {
   "cell_type": "markdown",
   "metadata": {},
   "source": [
    "Over the years, Machine Learning Engineers and Neuroscientists have continued to release more and more publications starting with 90 publications in 1987 to more than 1400 publications in 2019."
   ]
  },
  {
   "cell_type": "code",
   "execution_count": 9,
   "metadata": {},
   "outputs": [],
   "source": [
    "stopwords = list(stopwords.words(\"english\"))"
   ]
  },
  {
   "cell_type": "code",
   "execution_count": 10,
   "metadata": {},
   "outputs": [],
   "source": [
    "def freq_words(x, N = 30):\n",
    "    all_words = ' '.join([text.lower() for text in x])\n",
    "    all_words = all_words.split()\n",
    "    for word in all_words:\n",
    "        if word in stopwords:\n",
    "            all_words.remove(word)\n",
    "    \n",
    "    words_counter = Counter(all_words)\n",
    "    words_df = pd.DataFrame({'word':list(words_counter.keys()), 'count':list(words_counter.values())})\n",
    "    \n",
    "    # selecting top N words\n",
    "    d = words_df.nlargest(columns=\"count\", n = N) \n",
    "\n",
    "    plt.figure(figsize=(20,7))\n",
    "    ax = sns.barplot(data=d, x= \"word\", y = \"count\")\n",
    "    ax.set_ylabel('Count', fontsize=15)\n",
    "    ax.set_xlabel('Words'.format(N), fontsize=15)\n",
    "    ax.set_title(\"Top {} Words Used in Paper Titles\".format(N), fontsize=17)\n",
    "    plt.xticks(rotation=45, fontsize=12)\n",
    "    plt.show()"
   ]
  },
  {
   "cell_type": "code",
   "execution_count": 11,
   "metadata": {
    "scrolled": false
   },
   "outputs": [
    {
     "data": {
      "image/png": "[encoded data removed]",
      "text/plain": [
       "<Figure size 1440x504 with 1 Axes>"
      ]
     },
     "metadata": {
      "needs_background": "light"
     },
     "output_type": "display_data"
    }
   ],
   "source": [
    "freq_words(papers['title'])"
   ]
  },
  {
   "cell_type": "markdown",
   "metadata": {},
   "source": [
    "As expected the most common words are the popular Deep Learning jargons like learning, neural, networks, optimization, model etc"
   ]
  },
  {
   "cell_type": "markdown",
   "metadata": {},
   "source": [
    "## Modelling\n",
    "\n",
    "I used the Latent Dirichlet Allocation model from sklearn.\n",
    "\n",
    "Latent Dirichlet Allocation(LDA) is a topic modeling algorithm based on Dirichlet distribution. The procedure of LDA can be explained as follows:\n",
    "1. Choose a fixed number of topics(=k).\n",
    "2. Go through each document, and randomly assign each word of the document to one of the k documents.\n",
    "3. Iterate over each word in every document.\n",
    "4. For each word in every document, for each topic t, find:\n",
    "\n",
    "`P(t|d) = Proportion of words in document d that are currently assigned to topic t  \n",
    "P(w|t) = Proportion of assignments to topic t over all documents that come from this word w`\n",
    "\n",
    "5. Reassign each word w a new topic, using:\n",
    "`t(w) = p(t|d) * p(w|t) = Probability that topic t generated word w`"
   ]
  },
  {
   "cell_type": "markdown",
   "metadata": {},
   "source": [
    "#### Text Preprocessing\n",
    "\n",
    "1. Clean the text by removing punctuations and stopwords\n",
    "2. Extract the nouns and adjectives in each title\n",
    "3. Create a vectorized document term matrix with TF-IDF Vectorization"
   ]
  },
  {
   "cell_type": "code",
   "execution_count": 12,
   "metadata": {},
   "outputs": [],
   "source": [
    "#function to remove punctuations and stopwords from text\n",
    "def clean_titles(text):\n",
    "    \"\"\"Given a text, convert to lowercase, remove all punctuations and remove stopwords\"\"\"\n",
    "    clean = text.lower()  #lowercase\n",
    "    clean = re.sub(r'[^\\w\\s]','', clean)\n",
    "    tokens = word_tokenize(clean)\n",
    "    for word in tokens:\n",
    "        if word in stopwords:\n",
    "            tokens.remove(word)\n",
    "    \n",
    "    return ' '.join(tokens)"
   ]
  },
  {
   "cell_type": "code",
   "execution_count": 13,
   "metadata": {},
   "outputs": [],
   "source": [
    "#function to extract only nouns and adjectives from text using NLTK's pos_tag\n",
    "def nouns_adj(text):\n",
    "    '''Given a string of text, tokenize the text and pull out only the nouns and adjectives.'''\n",
    "    is_noun_adj = lambda pos: pos[:2] == 'NN' or pos[:2] == 'JJ'\n",
    "    tokenized = word_tokenize(text)\n",
    "    nouns_adj = [word for (word, pos) in pos_tag(tokenized) if is_noun_adj(pos)] \n",
    "    return ' '.join(nouns_adj)"
   ]
  },
  {
   "cell_type": "code",
   "execution_count": 14,
   "metadata": {},
   "outputs": [],
   "source": [
    "#cleaned the title column and saved the clean version in a new column\n",
    "papers['clean_title'] = papers['title'].apply(clean_titles)"
   ]
  },
  {
   "cell_type": "code",
   "execution_count": 15,
   "metadata": {
    "scrolled": true
   },
   "outputs": [
    {
     "data": {
      "text/html": [
       "<div>\n",
       "<style scoped>\n",
       "    .dataframe tbody tr th:only-of-type {\n",
       "        vertical-align: middle;\n",
       "    }\n",
       "\n",
       "    .dataframe tbody tr th {\n",
       "        vertical-align: top;\n",
       "    }\n",
       "\n",
       "    .dataframe thead th {\n",
       "        text-align: right;\n",
       "    }\n",
       "</style>\n",
       "<table border=\"1\" class=\"dataframe\">\n",
       "  <thead>\n",
       "    <tr style=\"text-align: right;\">\n",
       "      <th></th>\n",
       "      <th>source_id</th>\n",
       "      <th>year</th>\n",
       "      <th>title</th>\n",
       "      <th>abstract</th>\n",
       "      <th>full_text</th>\n",
       "      <th>clean_title</th>\n",
       "      <th>title_nouns_adj</th>\n",
       "    </tr>\n",
       "  </thead>\n",
       "  <tbody>\n",
       "    <tr>\n",
       "      <th>0</th>\n",
       "      <td>27</td>\n",
       "      <td>1987</td>\n",
       "      <td>Bit-Serial Neural Networks</td>\n",
       "      <td>NaN</td>\n",
       "      <td>573 \\n\\nBIT - SERIAL NEURAL  NETWORKS \\n\\nAlan...</td>\n",
       "      <td>bitserial neural networks</td>\n",
       "      <td>bitserial neural networks</td>\n",
       "    </tr>\n",
       "    <tr>\n",
       "      <th>1</th>\n",
       "      <td>63</td>\n",
       "      <td>1987</td>\n",
       "      <td>Connectivity Versus Entropy</td>\n",
       "      <td>NaN</td>\n",
       "      <td>1 \\n\\nCONNECTIVITY VERSUS ENTROPY \\n\\nYaser  S...</td>\n",
       "      <td>connectivity versus entropy</td>\n",
       "      <td>connectivity versus entropy</td>\n",
       "    </tr>\n",
       "    <tr>\n",
       "      <th>2</th>\n",
       "      <td>60</td>\n",
       "      <td>1987</td>\n",
       "      <td>The Hopfield Model with Multi-Level Neurons</td>\n",
       "      <td>NaN</td>\n",
       "      <td>278 \\n\\nTHE HOPFIELD MODEL WITH MUL TI-LEVEL N...</td>\n",
       "      <td>hopfield model multilevel neurons</td>\n",
       "      <td>hopfield model multilevel neurons</td>\n",
       "    </tr>\n",
       "    <tr>\n",
       "      <th>3</th>\n",
       "      <td>59</td>\n",
       "      <td>1987</td>\n",
       "      <td>How Neural Nets Work</td>\n",
       "      <td>NaN</td>\n",
       "      <td>442 \\n\\nAlan  Lapedes \\nRobert  Farber \\n\\nThe...</td>\n",
       "      <td>neural nets work</td>\n",
       "      <td>neural nets</td>\n",
       "    </tr>\n",
       "    <tr>\n",
       "      <th>4</th>\n",
       "      <td>69</td>\n",
       "      <td>1987</td>\n",
       "      <td>Spatial Organization of Neural Networks: A Pro...</td>\n",
       "      <td>NaN</td>\n",
       "      <td>740 \\n\\nSPATIAL  ORGANIZATION  OF  NEURAL  NEn...</td>\n",
       "      <td>spatial organization neural networks probabili...</td>\n",
       "      <td>spatial organization neural networks probabili...</td>\n",
       "    </tr>\n",
       "    <tr>\n",
       "      <th>5</th>\n",
       "      <td>6</td>\n",
       "      <td>1987</td>\n",
       "      <td>A Neural-Network Solution to the Concentrator ...</td>\n",
       "      <td>NaN</td>\n",
       "      <td>775 \\n\\nA  NEURAL-NETWORK  SOLUTION TO  THE  C...</td>\n",
       "      <td>neuralnetwork solution the concentrator assign...</td>\n",
       "      <td>neuralnetwork solution concentrator assignment...</td>\n",
       "    </tr>\n",
       "    <tr>\n",
       "      <th>6</th>\n",
       "      <td>33</td>\n",
       "      <td>1987</td>\n",
       "      <td>LEARNING BY STATE RECURRENCE DETECTION</td>\n",
       "      <td>NaN</td>\n",
       "      <td>642 \\n\\nLEARNING BY ST ATE RECURRENCE DETECfIO...</td>\n",
       "      <td>learning state recurrence detection</td>\n",
       "      <td>state recurrence detection</td>\n",
       "    </tr>\n",
       "    <tr>\n",
       "      <th>7</th>\n",
       "      <td>36</td>\n",
       "      <td>1987</td>\n",
       "      <td>Stability Results for Neural Networks</td>\n",
       "      <td>NaN</td>\n",
       "      <td>554 \\n\\nSTABILITY RESULTS  FOR NEURAL  NETWORK...</td>\n",
       "      <td>stability results neural networks</td>\n",
       "      <td>stability results neural networks</td>\n",
       "    </tr>\n",
       "    <tr>\n",
       "      <th>8</th>\n",
       "      <td>35</td>\n",
       "      <td>1987</td>\n",
       "      <td>Introduction to a System for Implementing Neur...</td>\n",
       "      <td>NaN</td>\n",
       "      <td>804 \\n\\nINTRODUCTION TO A  SYSTEM FOR IMPLEMEN...</td>\n",
       "      <td>introduction a system implementing neural net ...</td>\n",
       "      <td>introduction system neural net connections sim...</td>\n",
       "    </tr>\n",
       "    <tr>\n",
       "      <th>9</th>\n",
       "      <td>19</td>\n",
       "      <td>1987</td>\n",
       "      <td>Optimization with Artificial Neural Network Sy...</td>\n",
       "      <td>NaN</td>\n",
       "      <td>474 \\n\\nOPTIMIZA nON WITH ARTIFICIAL NEURAL NE...</td>\n",
       "      <td>optimization artificial neural network systems...</td>\n",
       "      <td>optimization artificial neural network systems...</td>\n",
       "    </tr>\n",
       "  </tbody>\n",
       "</table>\n",
       "</div>"
      ],
      "text/plain": [
       "   source_id  year                                              title  \\\n",
       "0         27  1987                         Bit-Serial Neural Networks   \n",
       "1         63  1987                        Connectivity Versus Entropy   \n",
       "2         60  1987        The Hopfield Model with Multi-Level Neurons   \n",
       "3         59  1987                               How Neural Nets Work   \n",
       "4         69  1987  Spatial Organization of Neural Networks: A Pro...   \n",
       "5          6  1987  A Neural-Network Solution to the Concentrator ...   \n",
       "6         33  1987             LEARNING BY STATE RECURRENCE DETECTION   \n",
       "7         36  1987              Stability Results for Neural Networks   \n",
       "8         35  1987  Introduction to a System for Implementing Neur...   \n",
       "9         19  1987  Optimization with Artificial Neural Network Sy...   \n",
       "\n",
       "  abstract                                          full_text  \\\n",
       "0      NaN  573 \\n\\nBIT - SERIAL NEURAL  NETWORKS \\n\\nAlan...   \n",
       "1      NaN  1 \\n\\nCONNECTIVITY VERSUS ENTROPY \\n\\nYaser  S...   \n",
       "2      NaN  278 \\n\\nTHE HOPFIELD MODEL WITH MUL TI-LEVEL N...   \n",
       "3      NaN  442 \\n\\nAlan  Lapedes \\nRobert  Farber \\n\\nThe...   \n",
       "4      NaN  740 \\n\\nSPATIAL  ORGANIZATION  OF  NEURAL  NEn...   \n",
       "5      NaN  775 \\n\\nA  NEURAL-NETWORK  SOLUTION TO  THE  C...   \n",
       "6      NaN  642 \\n\\nLEARNING BY ST ATE RECURRENCE DETECfIO...   \n",
       "7      NaN  554 \\n\\nSTABILITY RESULTS  FOR NEURAL  NETWORK...   \n",
       "8      NaN  804 \\n\\nINTRODUCTION TO A  SYSTEM FOR IMPLEMEN...   \n",
       "9      NaN  474 \\n\\nOPTIMIZA nON WITH ARTIFICIAL NEURAL NE...   \n",
       "\n",
       "                                         clean_title  \\\n",
       "0                          bitserial neural networks   \n",
       "1                        connectivity versus entropy   \n",
       "2                  hopfield model multilevel neurons   \n",
       "3                                   neural nets work   \n",
       "4  spatial organization neural networks probabili...   \n",
       "5  neuralnetwork solution the concentrator assign...   \n",
       "6                learning state recurrence detection   \n",
       "7                  stability results neural networks   \n",
       "8  introduction a system implementing neural net ...   \n",
       "9  optimization artificial neural network systems...   \n",
       "\n",
       "                                     title_nouns_adj  \n",
       "0                          bitserial neural networks  \n",
       "1                        connectivity versus entropy  \n",
       "2                  hopfield model multilevel neurons  \n",
       "3                                        neural nets  \n",
       "4  spatial organization neural networks probabili...  \n",
       "5  neuralnetwork solution concentrator assignment...  \n",
       "6                         state recurrence detection  \n",
       "7                  stability results neural networks  \n",
       "8  introduction system neural net connections sim...  \n",
       "9  optimization artificial neural network systems...  "
      ]
     },
     "execution_count": 15,
     "metadata": {},
     "output_type": "execute_result"
    }
   ],
   "source": [
    "papers['title_nouns_adj'] = papers['clean_title'].apply(nouns_adj)\n",
    "papers.head(10)"
   ]
  },
  {
   "cell_type": "markdown",
   "metadata": {},
   "source": [
    "I chose to separate the documents into 10 topics, so that the outputs will be heterogenous"
   ]
  },
  {
   "cell_type": "code",
   "execution_count": 16,
   "metadata": {},
   "outputs": [],
   "source": [
    "tfidf = TfidfVectorizer(max_df=0.9, min_df=2, stop_words='english', token_pattern=r'(?u)\\b[A-Za-z]+\\b')\n",
    "dtm = tfidf.fit_transform(papers['title_nouns_adj'])"
   ]
  },
  {
   "cell_type": "markdown",
   "metadata": {},
   "source": [
    "#### Model Training and Topic Identification"
   ]
  },
  {
   "cell_type": "code",
   "execution_count": 17,
   "metadata": {},
   "outputs": [],
   "source": [
    "lda = LatentDirichletAllocation(random_state=1, learning_decay=0.5, n_components=10)"
   ]
  },
  {
   "cell_type": "code",
   "execution_count": 18,
   "metadata": {},
   "outputs": [
    {
     "data": {
      "text/plain": [
       "LatentDirichletAllocation(learning_decay=0.5, random_state=1)"
      ]
     },
     "execution_count": 18,
     "metadata": {},
     "output_type": "execute_result"
    }
   ],
   "source": [
    "lda.fit(dtm)"
   ]
  },
  {
   "cell_type": "code",
   "execution_count": 19,
   "metadata": {},
   "outputs": [],
   "source": [
    "topic_results = lda.transform(dtm)"
   ]
  },
  {
   "cell_type": "code",
   "execution_count": 20,
   "metadata": {},
   "outputs": [
    {
     "data": {
      "text/plain": [
       "array([0.0414264 , 0.04142522, 0.62717692, 0.04142377, 0.04142616,\n",
       "       0.0414241 , 0.04142374, 0.04142476, 0.04142358, 0.04142535])"
      ]
     },
     "execution_count": 20,
     "metadata": {},
     "output_type": "execute_result"
    }
   ],
   "source": [
    "topic_results[0]"
   ]
  },
  {
   "cell_type": "markdown",
   "metadata": {},
   "source": [
    "The array above, is an array of probabilties and it shows that there is a 62% chance that the first paper, has been grouped under topic 2"
   ]
  },
  {
   "cell_type": "markdown",
   "metadata": {},
   "source": [
    "**Display the results**"
   ]
  },
  {
   "cell_type": "code",
   "execution_count": 21,
   "metadata": {
    "scrolled": true
   },
   "outputs": [
    {
     "name": "stdout",
     "output_type": "stream",
     "text": [
      "THE TOP 7 WORDS FOR TOPIC #0\n",
      "['image', 'adaptation', 'networks', 'neural', 'language', 'natural', 'dynamics']\n",
      "\n",
      "\n",
      "THE TOP 7 WORDS FOR TOPIC #1\n",
      "['stochastic', 'active', 'methods', 'policy', 'learning', 'descent', 'gradient']\n",
      "\n",
      "\n",
      "THE TOP 7 WORDS FOR TOPIC #2\n",
      "['visual', 'network', 'convolutional', 'deep', 'recurrent', 'neural', 'networks']\n",
      "\n",
      "\n",
      "THE TOP 7 WORDS FOR TOPIC #3\n",
      "['dynamical', 'fields', 'systems', 'reduction', 'random', 'reinforcement', 'learning']\n",
      "\n",
      "\n",
      "THE TOP 7 WORDS FOR TOPIC #4\n",
      "['variational', 'neural', 'data', 'optimization', 'matrix', 'stochastic', 'bandits']\n",
      "\n",
      "\n",
      "THE TOP 7 WORDS FOR TOPIC #5\n",
      "['value', 'monte', 'machines', 'carlo', 'function', 'support', 'vector']\n",
      "\n",
      "\n",
      "THE TOP 7 WORDS FOR TOPIC #6\n",
      "['rank', 'topic', 'machine', 'detection', 'density', 'graphs', 'estimation']\n",
      "\n",
      "\n",
      "THE TOP 7 WORDS FOR TOPIC #7\n",
      "['hierarchical', 'sparse', 'tensor', 'clustering', 'pca', 'feature', 'kernels']\n",
      "\n",
      "\n",
      "THE TOP 7 WORDS FOR TOPIC #8\n",
      "['regression', 'latent', 'markov', 'process', 'gaussian', 'inference', 'models']\n",
      "\n",
      "\n",
      "THE TOP 7 WORDS FOR TOPIC #9\n",
      "['neural', 'online', 'learning', 'unsupervised', 'speech', 'object', 'recognition']\n",
      "\n",
      "\n"
     ]
    }
   ],
   "source": [
    "for index, topic in enumerate(lda.components_):\n",
    "    print(f\"THE TOP 7 WORDS FOR TOPIC #{index}\")\n",
    "    list_keywords = [tfidf.get_feature_names()[index] for index in topic.argsort()[-7:]]\n",
    "    print(list_keywords)\n",
    "    print(\"\\n\")"
   ]
  },
  {
   "cell_type": "code",
   "execution_count": 22,
   "metadata": {
    "scrolled": false
   },
   "outputs": [
    {
     "data": {
      "text/html": [
       "<div>\n",
       "<style scoped>\n",
       "    .dataframe tbody tr th:only-of-type {\n",
       "        vertical-align: middle;\n",
       "    }\n",
       "\n",
       "    .dataframe tbody tr th {\n",
       "        vertical-align: top;\n",
       "    }\n",
       "\n",
       "    .dataframe thead th {\n",
       "        text-align: right;\n",
       "    }\n",
       "</style>\n",
       "<table border=\"1\" class=\"dataframe\">\n",
       "  <thead>\n",
       "    <tr style=\"text-align: right;\">\n",
       "      <th></th>\n",
       "      <th>source_id</th>\n",
       "      <th>year</th>\n",
       "      <th>title</th>\n",
       "      <th>abstract</th>\n",
       "      <th>full_text</th>\n",
       "      <th>clean_title</th>\n",
       "      <th>title_nouns_adj</th>\n",
       "      <th>Topic</th>\n",
       "    </tr>\n",
       "  </thead>\n",
       "  <tbody>\n",
       "    <tr>\n",
       "      <th>0</th>\n",
       "      <td>27</td>\n",
       "      <td>1987</td>\n",
       "      <td>Bit-Serial Neural Networks</td>\n",
       "      <td>NaN</td>\n",
       "      <td>573 \\n\\nBIT - SERIAL NEURAL  NETWORKS \\n\\nAlan...</td>\n",
       "      <td>bitserial neural networks</td>\n",
       "      <td>bitserial neural networks</td>\n",
       "      <td>2</td>\n",
       "    </tr>\n",
       "    <tr>\n",
       "      <th>1</th>\n",
       "      <td>63</td>\n",
       "      <td>1987</td>\n",
       "      <td>Connectivity Versus Entropy</td>\n",
       "      <td>NaN</td>\n",
       "      <td>1 \\n\\nCONNECTIVITY VERSUS ENTROPY \\n\\nYaser  S...</td>\n",
       "      <td>connectivity versus entropy</td>\n",
       "      <td>connectivity versus entropy</td>\n",
       "      <td>7</td>\n",
       "    </tr>\n",
       "    <tr>\n",
       "      <th>2</th>\n",
       "      <td>60</td>\n",
       "      <td>1987</td>\n",
       "      <td>The Hopfield Model with Multi-Level Neurons</td>\n",
       "      <td>NaN</td>\n",
       "      <td>278 \\n\\nTHE HOPFIELD MODEL WITH MUL TI-LEVEL N...</td>\n",
       "      <td>hopfield model multilevel neurons</td>\n",
       "      <td>hopfield model multilevel neurons</td>\n",
       "      <td>2</td>\n",
       "    </tr>\n",
       "    <tr>\n",
       "      <th>3</th>\n",
       "      <td>59</td>\n",
       "      <td>1987</td>\n",
       "      <td>How Neural Nets Work</td>\n",
       "      <td>NaN</td>\n",
       "      <td>442 \\n\\nAlan  Lapedes \\nRobert  Farber \\n\\nThe...</td>\n",
       "      <td>neural nets work</td>\n",
       "      <td>neural nets</td>\n",
       "      <td>2</td>\n",
       "    </tr>\n",
       "    <tr>\n",
       "      <th>4</th>\n",
       "      <td>69</td>\n",
       "      <td>1987</td>\n",
       "      <td>Spatial Organization of Neural Networks: A Pro...</td>\n",
       "      <td>NaN</td>\n",
       "      <td>740 \\n\\nSPATIAL  ORGANIZATION  OF  NEURAL  NEn...</td>\n",
       "      <td>spatial organization neural networks probabili...</td>\n",
       "      <td>spatial organization neural networks probabili...</td>\n",
       "      <td>0</td>\n",
       "    </tr>\n",
       "    <tr>\n",
       "      <th>5</th>\n",
       "      <td>6</td>\n",
       "      <td>1987</td>\n",
       "      <td>A Neural-Network Solution to the Concentrator ...</td>\n",
       "      <td>NaN</td>\n",
       "      <td>775 \\n\\nA  NEURAL-NETWORK  SOLUTION TO  THE  C...</td>\n",
       "      <td>neuralnetwork solution the concentrator assign...</td>\n",
       "      <td>neuralnetwork solution concentrator assignment...</td>\n",
       "      <td>4</td>\n",
       "    </tr>\n",
       "    <tr>\n",
       "      <th>6</th>\n",
       "      <td>33</td>\n",
       "      <td>1987</td>\n",
       "      <td>LEARNING BY STATE RECURRENCE DETECTION</td>\n",
       "      <td>NaN</td>\n",
       "      <td>642 \\n\\nLEARNING BY ST ATE RECURRENCE DETECfIO...</td>\n",
       "      <td>learning state recurrence detection</td>\n",
       "      <td>state recurrence detection</td>\n",
       "      <td>4</td>\n",
       "    </tr>\n",
       "    <tr>\n",
       "      <th>7</th>\n",
       "      <td>36</td>\n",
       "      <td>1987</td>\n",
       "      <td>Stability Results for Neural Networks</td>\n",
       "      <td>NaN</td>\n",
       "      <td>554 \\n\\nSTABILITY RESULTS  FOR NEURAL  NETWORK...</td>\n",
       "      <td>stability results neural networks</td>\n",
       "      <td>stability results neural networks</td>\n",
       "      <td>3</td>\n",
       "    </tr>\n",
       "    <tr>\n",
       "      <th>8</th>\n",
       "      <td>35</td>\n",
       "      <td>1987</td>\n",
       "      <td>Introduction to a System for Implementing Neur...</td>\n",
       "      <td>NaN</td>\n",
       "      <td>804 \\n\\nINTRODUCTION TO A  SYSTEM FOR IMPLEMEN...</td>\n",
       "      <td>introduction a system implementing neural net ...</td>\n",
       "      <td>introduction system neural net connections sim...</td>\n",
       "      <td>6</td>\n",
       "    </tr>\n",
       "    <tr>\n",
       "      <th>9</th>\n",
       "      <td>19</td>\n",
       "      <td>1987</td>\n",
       "      <td>Optimization with Artificial Neural Network Sy...</td>\n",
       "      <td>NaN</td>\n",
       "      <td>474 \\n\\nOPTIMIZA nON WITH ARTIFICIAL NEURAL NE...</td>\n",
       "      <td>optimization artificial neural network systems...</td>\n",
       "      <td>optimization artificial neural network systems...</td>\n",
       "      <td>2</td>\n",
       "    </tr>\n",
       "  </tbody>\n",
       "</table>\n",
       "</div>"
      ],
      "text/plain": [
       "   source_id  year                                              title  \\\n",
       "0         27  1987                         Bit-Serial Neural Networks   \n",
       "1         63  1987                        Connectivity Versus Entropy   \n",
       "2         60  1987        The Hopfield Model with Multi-Level Neurons   \n",
       "3         59  1987                               How Neural Nets Work   \n",
       "4         69  1987  Spatial Organization of Neural Networks: A Pro...   \n",
       "5          6  1987  A Neural-Network Solution to the Concentrator ...   \n",
       "6         33  1987             LEARNING BY STATE RECURRENCE DETECTION   \n",
       "7         36  1987              Stability Results for Neural Networks   \n",
       "8         35  1987  Introduction to a System for Implementing Neur...   \n",
       "9         19  1987  Optimization with Artificial Neural Network Sy...   \n",
       "\n",
       "  abstract                                          full_text  \\\n",
       "0      NaN  573 \\n\\nBIT - SERIAL NEURAL  NETWORKS \\n\\nAlan...   \n",
       "1      NaN  1 \\n\\nCONNECTIVITY VERSUS ENTROPY \\n\\nYaser  S...   \n",
       "2      NaN  278 \\n\\nTHE HOPFIELD MODEL WITH MUL TI-LEVEL N...   \n",
       "3      NaN  442 \\n\\nAlan  Lapedes \\nRobert  Farber \\n\\nThe...   \n",
       "4      NaN  740 \\n\\nSPATIAL  ORGANIZATION  OF  NEURAL  NEn...   \n",
       "5      NaN  775 \\n\\nA  NEURAL-NETWORK  SOLUTION TO  THE  C...   \n",
       "6      NaN  642 \\n\\nLEARNING BY ST ATE RECURRENCE DETECfIO...   \n",
       "7      NaN  554 \\n\\nSTABILITY RESULTS  FOR NEURAL  NETWORK...   \n",
       "8      NaN  804 \\n\\nINTRODUCTION TO A  SYSTEM FOR IMPLEMEN...   \n",
       "9      NaN  474 \\n\\nOPTIMIZA nON WITH ARTIFICIAL NEURAL NE...   \n",
       "\n",
       "                                         clean_title  \\\n",
       "0                          bitserial neural networks   \n",
       "1                        connectivity versus entropy   \n",
       "2                  hopfield model multilevel neurons   \n",
       "3                                   neural nets work   \n",
       "4  spatial organization neural networks probabili...   \n",
       "5  neuralnetwork solution the concentrator assign...   \n",
       "6                learning state recurrence detection   \n",
       "7                  stability results neural networks   \n",
       "8  introduction a system implementing neural net ...   \n",
       "9  optimization artificial neural network systems...   \n",
       "\n",
       "                                     title_nouns_adj  Topic  \n",
       "0                          bitserial neural networks      2  \n",
       "1                        connectivity versus entropy      7  \n",
       "2                  hopfield model multilevel neurons      2  \n",
       "3                                        neural nets      2  \n",
       "4  spatial organization neural networks probabili...      0  \n",
       "5  neuralnetwork solution concentrator assignment...      4  \n",
       "6                         state recurrence detection      4  \n",
       "7                  stability results neural networks      3  \n",
       "8  introduction system neural net connections sim...      6  \n",
       "9  optimization artificial neural network systems...      2  "
      ]
     },
     "execution_count": 22,
     "metadata": {},
     "output_type": "execute_result"
    }
   ],
   "source": [
    "# linking topic to each of the papers\n",
    "papers['Topic'] = topic_results.argmax(axis=1)\n",
    "papers.head(10)"
   ]
  },
  {
   "cell_type": "code",
   "execution_count": 23,
   "metadata": {},
   "outputs": [
    {
     "data": {
      "text/plain": [
       "8    1220\n",
       "2    1079\n",
       "4    1038\n",
       "9     993\n",
       "3     975\n",
       "1     968\n",
       "7     916\n",
       "5     907\n",
       "0     877\n",
       "6     707\n",
       "Name: Topic, dtype: int64"
      ]
     },
     "execution_count": 23,
     "metadata": {},
     "output_type": "execute_result"
    }
   ],
   "source": [
    "papers['Topic'].value_counts()"
   ]
  },
  {
   "cell_type": "code",
   "execution_count": 24,
   "metadata": {},
   "outputs": [
    {
     "data": {
      "text/plain": [
       "<AxesSubplot:title={'center':'Topic Distribution'}>"
      ]
     },
     "execution_count": 24,
     "metadata": {},
     "output_type": "execute_result"
    },
    {
     "data": {
      "image/png": "[encoded data removed]",
      "text/plain": [
       "<Figure size 720x432 with 1 Axes>"
      ]
     },
     "metadata": {
      "needs_background": "light"
     },
     "output_type": "display_data"
    }
   ],
   "source": [
    "papers['Topic'].value_counts().plot(kind='bar', figsize=(10, 6), title='Topic Distribution')"
   ]
  },
  {
   "cell_type": "markdown",
   "metadata": {},
   "source": [
    "Most of the papers fall under topic 8 and the most common keywords for this topic are **'regression', 'latent', 'markov', 'process', 'gaussian', 'inference', 'models'**"
   ]
  }
 ],
 "metadata": {
  "kernelspec": {
   "display_name": "Python 3",
   "language": "python",
   "name": "python3"
  },
  "language_info": {
   "codemirror_mode": {
    "name": "ipython",
    "version": 3
   },
   "file_extension": ".py",
   "mimetype": "text/x-python",
   "name": "python",
   "nbconvert_exporter": "python",
   "pygments_lexer": "ipython3",
   "version": "3.8.5"
  }
 },
 "nbformat": 4,
 "nbformat_minor": 4
}
