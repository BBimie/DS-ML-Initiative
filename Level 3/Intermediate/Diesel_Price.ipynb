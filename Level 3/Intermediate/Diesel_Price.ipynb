{
  "nbformat": 4,
  "nbformat_minor": 0,
  "metadata": {
    "colab": {
      "name": "Diesel Price.ipynb",
      "provenance": [],
      "collapsed_sections": [],
      "toc_visible": true
    },
    "kernelspec": {
      "display_name": "Python 3",
      "language": "python",
      "name": "python3"
    },
    "language_info": {
      "codemirror_mode": {
        "name": "ipython",
        "version": 3
      },
      "file_extension": ".py",
      "mimetype": "text/x-python",
      "name": "python",
      "nbconvert_exporter": "python",
      "pygments_lexer": "ipython3",
      "version": "3.8.5"
    }
  },
  "cells": [
    {
      "cell_type": "markdown",
      "metadata": {
        "id": "PGxh7nnEnTdf"
      },
      "source": [
        "# Diesel Price Forecasting with LSTM"
      ]
    },
    {
      "cell_type": "code",
      "metadata": {
        "id": "hzHWWtzMgrB0"
      },
      "source": [
        "import warnings\n",
        "warnings.filterwarnings('ignore')"
      ],
      "execution_count": 1,
      "outputs": []
    },
    {
      "cell_type": "code",
      "metadata": {
        "id": "1Us2SKUJgrB1"
      },
      "source": [
        "import pandas as pd\n",
        "import numpy as np\n",
        "import matplotlib.pyplot as plt\n",
        "\n",
        "from sklearn.metrics import mean_squared_error, r2_score\n",
        "from sklearn.preprocessing import MinMaxScaler\n",
        "\n",
        "import utils"
      ],
      "execution_count": 2,
      "outputs": []
    },
    {
      "cell_type": "code",
      "metadata": {
        "id": "Px_1NJ2nTKlt"
      },
      "source": [
        "np.random.seed(1)"
      ],
      "execution_count": 3,
      "outputs": []
    },
    {
      "cell_type": "code",
      "metadata": {
        "colab": {
          "base_uri": "https://localhost:8080/",
          "height": 292
        },
        "id": "M8pO-TU2grB1",
        "outputId": "8d006cad-0287-4a63-d18f-93e39f95f372"
      },
      "source": [
        "df = pd.read_csv('wfp_food_prices_nigeria.csv')\n",
        "df.head()"
      ],
      "execution_count": 4,
      "outputs": [
        {
          "output_type": "execute_result",
          "data": {
            "text/html": [
              "<div>\n",
              "<style scoped>\n",
              "    .dataframe tbody tr th:only-of-type {\n",
              "        vertical-align: middle;\n",
              "    }\n",
              "\n",
              "    .dataframe tbody tr th {\n",
              "        vertical-align: top;\n",
              "    }\n",
              "\n",
              "    .dataframe thead th {\n",
              "        text-align: right;\n",
              "    }\n",
              "</style>\n",
              "<table border=\"1\" class=\"dataframe\">\n",
              "  <thead>\n",
              "    <tr style=\"text-align: right;\">\n",
              "      <th></th>\n",
              "      <th>date</th>\n",
              "      <th>cmname</th>\n",
              "      <th>unit</th>\n",
              "      <th>category</th>\n",
              "      <th>price</th>\n",
              "      <th>currency</th>\n",
              "      <th>country</th>\n",
              "      <th>admname</th>\n",
              "      <th>adm1id</th>\n",
              "      <th>mktname</th>\n",
              "      <th>mktid</th>\n",
              "      <th>cmid</th>\n",
              "      <th>ptid</th>\n",
              "      <th>umid</th>\n",
              "      <th>catid</th>\n",
              "      <th>sn</th>\n",
              "      <th>default</th>\n",
              "    </tr>\n",
              "  </thead>\n",
              "  <tbody>\n",
              "    <tr>\n",
              "      <th>0</th>\n",
              "      <td>#date</td>\n",
              "      <td>#item+name</td>\n",
              "      <td>#item+unit</td>\n",
              "      <td>#item+type</td>\n",
              "      <td>#value</td>\n",
              "      <td>#currency</td>\n",
              "      <td>#country+name</td>\n",
              "      <td>#adm1+name</td>\n",
              "      <td>#adm1+code</td>\n",
              "      <td>#name+market</td>\n",
              "      <td>NaN</td>\n",
              "      <td>#item+code</td>\n",
              "      <td>NaN</td>\n",
              "      <td>NaN</td>\n",
              "      <td>#item+type+code</td>\n",
              "      <td>#meta+id</td>\n",
              "      <td>NaN</td>\n",
              "    </tr>\n",
              "    <tr>\n",
              "      <th>1</th>\n",
              "      <td>2015-01-15</td>\n",
              "      <td>Bread - Retail</td>\n",
              "      <td>Unit</td>\n",
              "      <td>cereals and tubers</td>\n",
              "      <td>140.0</td>\n",
              "      <td>NGN</td>\n",
              "      <td>Nigeria</td>\n",
              "      <td>Adamawa</td>\n",
              "      <td>2211</td>\n",
              "      <td>Mubi</td>\n",
              "      <td>1980.0</td>\n",
              "      <td>55</td>\n",
              "      <td>15.0</td>\n",
              "      <td>33.0</td>\n",
              "      <td>1</td>\n",
              "      <td>1980_55_15_33</td>\n",
              "      <td>NaN</td>\n",
              "    </tr>\n",
              "    <tr>\n",
              "      <th>2</th>\n",
              "      <td>2015-02-15</td>\n",
              "      <td>Bread - Retail</td>\n",
              "      <td>Unit</td>\n",
              "      <td>cereals and tubers</td>\n",
              "      <td>140.0</td>\n",
              "      <td>NGN</td>\n",
              "      <td>Nigeria</td>\n",
              "      <td>Adamawa</td>\n",
              "      <td>2211</td>\n",
              "      <td>Mubi</td>\n",
              "      <td>1980.0</td>\n",
              "      <td>55</td>\n",
              "      <td>15.0</td>\n",
              "      <td>33.0</td>\n",
              "      <td>1</td>\n",
              "      <td>1980_55_15_33</td>\n",
              "      <td>NaN</td>\n",
              "    </tr>\n",
              "    <tr>\n",
              "      <th>3</th>\n",
              "      <td>2015-03-15</td>\n",
              "      <td>Bread - Retail</td>\n",
              "      <td>Unit</td>\n",
              "      <td>cereals and tubers</td>\n",
              "      <td>140.0</td>\n",
              "      <td>NGN</td>\n",
              "      <td>Nigeria</td>\n",
              "      <td>Adamawa</td>\n",
              "      <td>2211</td>\n",
              "      <td>Mubi</td>\n",
              "      <td>1980.0</td>\n",
              "      <td>55</td>\n",
              "      <td>15.0</td>\n",
              "      <td>33.0</td>\n",
              "      <td>1</td>\n",
              "      <td>1980_55_15_33</td>\n",
              "      <td>NaN</td>\n",
              "    </tr>\n",
              "    <tr>\n",
              "      <th>4</th>\n",
              "      <td>2015-04-15</td>\n",
              "      <td>Bread - Retail</td>\n",
              "      <td>Unit</td>\n",
              "      <td>cereals and tubers</td>\n",
              "      <td>140.0</td>\n",
              "      <td>NGN</td>\n",
              "      <td>Nigeria</td>\n",
              "      <td>Adamawa</td>\n",
              "      <td>2211</td>\n",
              "      <td>Mubi</td>\n",
              "      <td>1980.0</td>\n",
              "      <td>55</td>\n",
              "      <td>15.0</td>\n",
              "      <td>33.0</td>\n",
              "      <td>1</td>\n",
              "      <td>1980_55_15_33</td>\n",
              "      <td>NaN</td>\n",
              "    </tr>\n",
              "  </tbody>\n",
              "</table>\n",
              "</div>"
            ],
            "text/plain": [
              "         date          cmname  ...             sn default\n",
              "0       #date      #item+name  ...       #meta+id     NaN\n",
              "1  2015-01-15  Bread - Retail  ...  1980_55_15_33     NaN\n",
              "2  2015-02-15  Bread - Retail  ...  1980_55_15_33     NaN\n",
              "3  2015-03-15  Bread - Retail  ...  1980_55_15_33     NaN\n",
              "4  2015-04-15  Bread - Retail  ...  1980_55_15_33     NaN\n",
              "\n",
              "[5 rows x 17 columns]"
            ]
          },
          "metadata": {
            "tags": []
          },
          "execution_count": 4
        }
      ]
    },
    {
      "cell_type": "code",
      "metadata": {
        "colab": {
          "base_uri": "https://localhost:8080/"
        },
        "id": "kivVcK0EgrB3",
        "outputId": "be56e062-5a1e-44e0-8fd7-3c6e1b0bc1bb"
      },
      "source": [
        "df.shape"
      ],
      "execution_count": 5,
      "outputs": [
        {
          "output_type": "execute_result",
          "data": {
            "text/plain": [
              "(45577, 17)"
            ]
          },
          "metadata": {
            "tags": []
          },
          "execution_count": 5
        }
      ]
    },
    {
      "cell_type": "code",
      "metadata": {
        "colab": {
          "base_uri": "https://localhost:8080/"
        },
        "id": "1Zw9fIKXgrB3",
        "outputId": "a91d93ec-2023-4d84-b5df-671b354c374d"
      },
      "source": [
        "df.isnull().sum()"
      ],
      "execution_count": 6,
      "outputs": [
        {
          "output_type": "execute_result",
          "data": {
            "text/plain": [
              "date            0\n",
              "cmname          0\n",
              "unit            0\n",
              "category        0\n",
              "price           0\n",
              "currency        0\n",
              "country         0\n",
              "admname         0\n",
              "adm1id          0\n",
              "mktname         0\n",
              "mktid           1\n",
              "cmid            0\n",
              "ptid            1\n",
              "umid            1\n",
              "catid           0\n",
              "sn              0\n",
              "default     45577\n",
              "dtype: int64"
            ]
          },
          "metadata": {
            "tags": []
          },
          "execution_count": 6
        }
      ]
    },
    {
      "cell_type": "code",
      "metadata": {
        "colab": {
          "base_uri": "https://localhost:8080/"
        },
        "id": "iFTOjrY7grB3",
        "outputId": "14b8bc1a-f191-484f-80f1-95bd6c5020e6"
      },
      "source": [
        "df['cmname'].unique()"
      ],
      "execution_count": 7,
      "outputs": [
        {
          "output_type": "execute_result",
          "data": {
            "text/plain": [
              "array(['#item+name', 'Bread - Retail', 'Oil (palm) - Wholesale',\n",
              "       'Oil (palm) - Retail', 'Rice (imported) - Wholesale',\n",
              "       'Rice (imported) - Retail', 'Maize (white) - Wholesale',\n",
              "       'Maize (white) - Retail', 'Rice (local) - Wholesale',\n",
              "       'Rice (local) - Retail', 'Millet - Wholesale', 'Millet - Retail',\n",
              "       'Yam - Wholesale', 'Yam - Retail',\n",
              "       'Groundnuts (shelled) - Wholesale',\n",
              "       'Groundnuts (shelled) - Retail', 'Sorghum (white) - Wholesale',\n",
              "       'Sorghum (white) - Retail', 'Maize (yellow) - Wholesale',\n",
              "       'Maize (yellow) - Retail', 'Fuel (diesel) - Retail',\n",
              "       'Fuel (petrol-gasoline) - Retail', 'Cowpeas (white) - Wholesale',\n",
              "       'Cowpeas (white) - Retail', 'Cowpeas (brown) - Wholesale',\n",
              "       'Cowpeas (brown) - Retail', 'Sorghum (brown) - Wholesale',\n",
              "       'Sorghum (brown) - Retail',\n",
              "       'Cassava meal (gari, yellow) - Wholesale',\n",
              "       'Cassava meal (gari, yellow) - Retail', 'Gari (white) - Wholesale',\n",
              "       'Gari (white) - Retail', 'Maize - Wholesale',\n",
              "       'Sorghum - Wholesale', 'Wheat - Wholesale',\n",
              "       'Rice (milled, local) - Wholesale', 'Sorghum - Retail',\n",
              "       'Beans (white) - Retail', 'Maize flour - Retail',\n",
              "       'Beans (red) - Retail', 'Milk - Retail', 'Eggs - Retail',\n",
              "       'Oil (vegetable) - Retail', 'Sugar - Retail', 'Tomatoes - Retail',\n",
              "       'Fish - Retail', 'Meat (beef) - Retail', 'Groundnuts - Retail',\n",
              "       'Onions - Retail', 'Salt - Retail', 'Cowpeas - Retail',\n",
              "       'Bananas - Retail', 'Oranges - Retail', 'Spinach - Retail',\n",
              "       'Meat (goat) - Retail', 'Watermelons - Retail',\n",
              "       'Beans (niebe) - Wholesale', 'Yam (Abuja) - Wholesale',\n",
              "       'Yam (Abuja) - Retail'], dtype=object)"
            ]
          },
          "metadata": {
            "tags": []
          },
          "execution_count": 7
        }
      ]
    },
    {
      "cell_type": "markdown",
      "metadata": {
        "id": "JNic5TPJrTgR"
      },
      "source": [
        "I am only interested in the Diesel commodity.\n",
        "It is written as 'Fuel (diesel) - Retail' under in cmname column"
      ]
    },
    {
      "cell_type": "code",
      "metadata": {
        "id": "ajpsTacUgrB4",
        "colab": {
          "base_uri": "https://localhost:8080/",
          "height": 235
        },
        "outputId": "fe5ed1f4-d420-45b8-ed4c-94a32ab1f5ff"
      },
      "source": [
        "#extract the diesel price data from the main dataset\n",
        "_, diesel = utils.process_data(df, 'Fuel (diesel) - Retail')\n",
        "diesel.head()"
      ],
      "execution_count": 8,
      "outputs": [
        {
          "output_type": "execute_result",
          "data": {
            "text/html": [
              "<div>\n",
              "<style scoped>\n",
              "    .dataframe tbody tr th:only-of-type {\n",
              "        vertical-align: middle;\n",
              "    }\n",
              "\n",
              "    .dataframe tbody tr th {\n",
              "        vertical-align: top;\n",
              "    }\n",
              "\n",
              "    .dataframe thead th {\n",
              "        text-align: right;\n",
              "    }\n",
              "</style>\n",
              "<table border=\"1\" class=\"dataframe\">\n",
              "  <thead>\n",
              "    <tr style=\"text-align: right;\">\n",
              "      <th></th>\n",
              "      <th>price</th>\n",
              "    </tr>\n",
              "    <tr>\n",
              "      <th>date</th>\n",
              "      <th></th>\n",
              "    </tr>\n",
              "  </thead>\n",
              "  <tbody>\n",
              "    <tr>\n",
              "      <th>2014-05-15</th>\n",
              "      <td>155.00</td>\n",
              "    </tr>\n",
              "    <tr>\n",
              "      <th>2014-07-15</th>\n",
              "      <td>160.00</td>\n",
              "    </tr>\n",
              "    <tr>\n",
              "      <th>2014-08-15</th>\n",
              "      <td>160.00</td>\n",
              "    </tr>\n",
              "    <tr>\n",
              "      <th>2014-09-15</th>\n",
              "      <td>158.50</td>\n",
              "    </tr>\n",
              "    <tr>\n",
              "      <th>2014-10-15</th>\n",
              "      <td>159.25</td>\n",
              "    </tr>\n",
              "  </tbody>\n",
              "</table>\n",
              "</div>"
            ],
            "text/plain": [
              "             price\n",
              "date              \n",
              "2014-05-15  155.00\n",
              "2014-07-15  160.00\n",
              "2014-08-15  160.00\n",
              "2014-09-15  158.50\n",
              "2014-10-15  159.25"
            ]
          },
          "metadata": {
            "tags": []
          },
          "execution_count": 8
        }
      ]
    },
    {
      "cell_type": "code",
      "metadata": {
        "colab": {
          "base_uri": "https://localhost:8080/"
        },
        "id": "qyw4U9gwPfl9",
        "outputId": "2f2cbb9c-7c9e-4d7d-babb-3ca8d16e635c"
      },
      "source": [
        "diesel.info()"
      ],
      "execution_count": 9,
      "outputs": [
        {
          "output_type": "stream",
          "text": [
            "<class 'pandas.core.frame.DataFrame'>\n",
            "DatetimeIndex: 77 entries, 2014-05-15 to 2020-11-15\n",
            "Data columns (total 1 columns):\n",
            " #   Column  Non-Null Count  Dtype  \n",
            "---  ------  --------------  -----  \n",
            " 0   price   77 non-null     float64\n",
            "dtypes: float64(1)\n",
            "memory usage: 1.2 KB\n"
          ],
          "name": "stdout"
        }
      ]
    },
    {
      "cell_type": "code",
      "metadata": {
        "colab": {
          "base_uri": "https://localhost:8080/",
          "height": 297
        },
        "id": "01FSMCWYl5WB",
        "outputId": "fc06ec1c-d4f3-4a6e-f75d-a6cd027830b2"
      },
      "source": [
        "diesel.describe()"
      ],
      "execution_count": 10,
      "outputs": [
        {
          "output_type": "execute_result",
          "data": {
            "text/html": [
              "<div>\n",
              "<style scoped>\n",
              "    .dataframe tbody tr th:only-of-type {\n",
              "        vertical-align: middle;\n",
              "    }\n",
              "\n",
              "    .dataframe tbody tr th {\n",
              "        vertical-align: top;\n",
              "    }\n",
              "\n",
              "    .dataframe thead th {\n",
              "        text-align: right;\n",
              "    }\n",
              "</style>\n",
              "<table border=\"1\" class=\"dataframe\">\n",
              "  <thead>\n",
              "    <tr style=\"text-align: right;\">\n",
              "      <th></th>\n",
              "      <th>price</th>\n",
              "    </tr>\n",
              "  </thead>\n",
              "  <tbody>\n",
              "    <tr>\n",
              "      <th>count</th>\n",
              "      <td>77.000000</td>\n",
              "    </tr>\n",
              "    <tr>\n",
              "      <th>mean</th>\n",
              "      <td>195.632957</td>\n",
              "    </tr>\n",
              "    <tr>\n",
              "      <th>std</th>\n",
              "      <td>35.050283</td>\n",
              "    </tr>\n",
              "    <tr>\n",
              "      <th>min</th>\n",
              "      <td>130.000000</td>\n",
              "    </tr>\n",
              "    <tr>\n",
              "      <th>25%</th>\n",
              "      <td>159.250000</td>\n",
              "    </tr>\n",
              "    <tr>\n",
              "      <th>50%</th>\n",
              "      <td>204.500000</td>\n",
              "    </tr>\n",
              "    <tr>\n",
              "      <th>75%</th>\n",
              "      <td>229.500000</td>\n",
              "    </tr>\n",
              "    <tr>\n",
              "      <th>max</th>\n",
              "      <td>262.000000</td>\n",
              "    </tr>\n",
              "  </tbody>\n",
              "</table>\n",
              "</div>"
            ],
            "text/plain": [
              "            price\n",
              "count   77.000000\n",
              "mean   195.632957\n",
              "std     35.050283\n",
              "min    130.000000\n",
              "25%    159.250000\n",
              "50%    204.500000\n",
              "75%    229.500000\n",
              "max    262.000000"
            ]
          },
          "metadata": {
            "tags": []
          },
          "execution_count": 10
        }
      ]
    },
    {
      "cell_type": "markdown",
      "metadata": {
        "id": "Ps5PfUVIlqG6"
      },
      "source": [
        "The diesel dataset has 77 entries, that is 77 months in the last 7 years (2014 - 2020)."
      ]
    },
    {
      "cell_type": "code",
      "metadata": {
        "colab": {
          "base_uri": "https://localhost:8080/",
          "height": 286
        },
        "id": "H9gEuyYE82BM",
        "outputId": "0eb517f6-fbaf-46e4-c4e0-828d3b862e1d"
      },
      "source": [
        "diesel.plot()"
      ],
      "execution_count": 11,
      "outputs": [
        {
          "output_type": "execute_result",
          "data": {
            "text/plain": [
              "<matplotlib.axes._subplots.AxesSubplot at 0x7fefc87430f0>"
            ]
          },
          "metadata": {
            "tags": []
          },
          "execution_count": 11
        },
        {
          "output_type": "display_data",
          "data": {
            "image/png": "[encoded data removed]",
            "text/plain": [
              "<Figure size 432x288 with 1 Axes>"
            ]
          },
          "metadata": {
            "tags": [],
            "needs_background": "light"
          }
        }
      ]
    },
    {
      "cell_type": "code",
      "metadata": {
        "colab": {
          "base_uri": "https://localhost:8080/"
        },
        "id": "cLIfw0PEpyIa",
        "outputId": "fdad00de-da32-4938-bdff-be674f04eb3e"
      },
      "source": [
        "price = diesel['price'].values.reshape(-1, 1)\n",
        "price[:5]"
      ],
      "execution_count": 12,
      "outputs": [
        {
          "output_type": "execute_result",
          "data": {
            "text/plain": [
              "array([[155.  ],\n",
              "       [160.  ],\n",
              "       [160.  ],\n",
              "       [158.5 ],\n",
              "       [159.25]])"
            ]
          },
          "metadata": {
            "tags": []
          },
          "execution_count": 12
        }
      ]
    },
    {
      "cell_type": "code",
      "metadata": {
        "id": "Ti-DARt1rXWY"
      },
      "source": [
        "#initialize scaler\n",
        "scaler = MinMaxScaler(feature_range=(-1, 1))\n",
        "\n",
        "scaler = scaler.fit(price)"
      ],
      "execution_count": 13,
      "outputs": []
    },
    {
      "cell_type": "code",
      "metadata": {
        "id": "36S3nk5PqqPt",
        "colab": {
          "base_uri": "https://localhost:8080/"
        },
        "outputId": "59d053e2-9336-48c2-fa62-0513a7c0618e"
      },
      "source": [
        "#scale data\n",
        "scaled_data = scaler.transform(price)\n",
        "scaled_data[:5]"
      ],
      "execution_count": 14,
      "outputs": [
        {
          "output_type": "execute_result",
          "data": {
            "text/plain": [
              "array([[-0.62121212],\n",
              "       [-0.54545455],\n",
              "       [-0.54545455],\n",
              "       [-0.56818182],\n",
              "       [-0.55681818]])"
            ]
          },
          "metadata": {
            "tags": []
          },
          "execution_count": 14
        }
      ]
    },
    {
      "cell_type": "code",
      "metadata": {
        "colab": {
          "base_uri": "https://localhost:8080/"
        },
        "id": "0yOp8qIAtcbG",
        "outputId": "60d39145-43e8-4f24-eb55-21a71c034fea"
      },
      "source": [
        "scaled_data.shape"
      ],
      "execution_count": 15,
      "outputs": [
        {
          "output_type": "execute_result",
          "data": {
            "text/plain": [
              "(77, 1)"
            ]
          },
          "metadata": {
            "tags": []
          },
          "execution_count": 15
        }
      ]
    },
    {
      "cell_type": "markdown",
      "metadata": {
        "id": "irWW3zQToEOo"
      },
      "source": [
        "To be able to predict with a neural network, data needs to be converted from time series to supervised learning.\n",
        "\n",
        "This can be done by creating look back features from the data. Here, I used a lookback/ lag value of 1."
      ]
    },
    {
      "cell_type": "code",
      "metadata": {
        "colab": {
          "base_uri": "https://localhost:8080/",
          "height": 204
        },
        "id": "FrZLxJmuOecn",
        "outputId": "4f34b7fe-816a-490e-8870-a78743e5cd0c"
      },
      "source": [
        "#make into supervised learning data\n",
        "data_with_lag = utils.timeseries_to_supervised(scaled_data)\n",
        "data_with_lag.columns = ['price', 'lag_1']\n",
        "data_with_lag.head()"
      ],
      "execution_count": 16,
      "outputs": [
        {
          "output_type": "execute_result",
          "data": {
            "text/html": [
              "<div>\n",
              "<style scoped>\n",
              "    .dataframe tbody tr th:only-of-type {\n",
              "        vertical-align: middle;\n",
              "    }\n",
              "\n",
              "    .dataframe tbody tr th {\n",
              "        vertical-align: top;\n",
              "    }\n",
              "\n",
              "    .dataframe thead th {\n",
              "        text-align: right;\n",
              "    }\n",
              "</style>\n",
              "<table border=\"1\" class=\"dataframe\">\n",
              "  <thead>\n",
              "    <tr style=\"text-align: right;\">\n",
              "      <th></th>\n",
              "      <th>price</th>\n",
              "      <th>lag_1</th>\n",
              "    </tr>\n",
              "  </thead>\n",
              "  <tbody>\n",
              "    <tr>\n",
              "      <th>0</th>\n",
              "      <td>0.000000</td>\n",
              "      <td>-0.621212</td>\n",
              "    </tr>\n",
              "    <tr>\n",
              "      <th>1</th>\n",
              "      <td>-0.621212</td>\n",
              "      <td>-0.545455</td>\n",
              "    </tr>\n",
              "    <tr>\n",
              "      <th>2</th>\n",
              "      <td>-0.545455</td>\n",
              "      <td>-0.545455</td>\n",
              "    </tr>\n",
              "    <tr>\n",
              "      <th>3</th>\n",
              "      <td>-0.545455</td>\n",
              "      <td>-0.568182</td>\n",
              "    </tr>\n",
              "    <tr>\n",
              "      <th>4</th>\n",
              "      <td>-0.568182</td>\n",
              "      <td>-0.556818</td>\n",
              "    </tr>\n",
              "  </tbody>\n",
              "</table>\n",
              "</div>"
            ],
            "text/plain": [
              "      price     lag_1\n",
              "0  0.000000 -0.621212\n",
              "1 -0.621212 -0.545455\n",
              "2 -0.545455 -0.545455\n",
              "3 -0.545455 -0.568182\n",
              "4 -0.568182 -0.556818"
            ]
          },
          "metadata": {
            "tags": []
          },
          "execution_count": 16
        }
      ]
    },
    {
      "cell_type": "code",
      "metadata": {
        "id": "AyF8_8PWqGo8"
      },
      "source": [
        "#separate into feature and target sets\n",
        "X, y = utils.feature_target(data_with_lag)"
      ],
      "execution_count": 17,
      "outputs": []
    },
    {
      "cell_type": "code",
      "metadata": {
        "colab": {
          "base_uri": "https://localhost:8080/"
        },
        "id": "sfHxNq8GpyIb",
        "outputId": "5152a5b2-9765-4d75-f0d1-dd6c8d282994"
      },
      "source": [
        "X[:5]"
      ],
      "execution_count": 18,
      "outputs": [
        {
          "output_type": "execute_result",
          "data": {
            "text/plain": [
              "array([[[-0.62121212]],\n",
              "\n",
              "       [[-0.54545455]],\n",
              "\n",
              "       [[-0.54545455]],\n",
              "\n",
              "       [[-0.56818182]],\n",
              "\n",
              "       [[-0.55681818]]])"
            ]
          },
          "metadata": {
            "tags": []
          },
          "execution_count": 18
        }
      ]
    },
    {
      "cell_type": "code",
      "metadata": {
        "colab": {
          "base_uri": "https://localhost:8080/"
        },
        "id": "hW-SMn7KpyIb",
        "outputId": "86ac0613-8048-4c35-d637-de147e190737"
      },
      "source": [
        "y[:5]"
      ],
      "execution_count": 19,
      "outputs": [
        {
          "output_type": "execute_result",
          "data": {
            "text/plain": [
              "array([[ 0.        ],\n",
              "       [-0.62121212],\n",
              "       [-0.54545455],\n",
              "       [-0.54545455],\n",
              "       [-0.56818182]])"
            ]
          },
          "metadata": {
            "tags": []
          },
          "execution_count": 19
        }
      ]
    },
    {
      "cell_type": "markdown",
      "metadata": {
        "id": "7uH3ZNrPr5Gt"
      },
      "source": [
        "Build LSTM Model"
      ]
    },
    {
      "cell_type": "code",
      "metadata": {
        "id": "wPvfXwnmrppM"
      },
      "source": [
        "model = utils.build_LSTM(X)"
      ],
      "execution_count": 20,
      "outputs": []
    },
    {
      "cell_type": "code",
      "metadata": {
        "colab": {
          "base_uri": "https://localhost:8080/"
        },
        "id": "bFe69SOsguBQ",
        "outputId": "29bdf2cb-95cd-4528-e6bb-354d4f8c3ed8"
      },
      "source": [
        "model.summary()"
      ],
      "execution_count": 21,
      "outputs": [
        {
          "output_type": "stream",
          "text": [
            "Model: \"sequential\"\n",
            "_________________________________________________________________\n",
            "Layer (type)                 Output Shape              Param #   \n",
            "=================================================================\n",
            "lstm (LSTM)                  (1, 1, 50)                10400     \n",
            "_________________________________________________________________\n",
            "dropout (Dropout)            (1, 1, 50)                0         \n",
            "_________________________________________________________________\n",
            "lstm_1 (LSTM)                (1, 100)                  60400     \n",
            "_________________________________________________________________\n",
            "dropout_1 (Dropout)          (1, 100)                  0         \n",
            "_________________________________________________________________\n",
            "dense (Dense)                (1, 1)                    101       \n",
            "=================================================================\n",
            "Total params: 70,901\n",
            "Trainable params: 70,901\n",
            "Non-trainable params: 0\n",
            "_________________________________________________________________\n"
          ],
          "name": "stdout"
        }
      ]
    },
    {
      "cell_type": "code",
      "metadata": {
        "colab": {
          "base_uri": "https://localhost:8080/"
        },
        "id": "LUhR2NRQsCn2",
        "outputId": "99498d1f-bf25-41d5-bc15-fd17d0b2ecf7"
      },
      "source": [
        "history = model.fit(X, y, epochs=100, batch_size=1, verbose=1, shuffle=False)"
      ],
      "execution_count": 22,
      "outputs": [
        {
          "output_type": "stream",
          "text": [
            "Epoch 1/100\n",
            "77/77 [==============================] - 3s 2ms/step - loss: 0.1208\n",
            "Epoch 2/100\n",
            "77/77 [==============================] - 0s 2ms/step - loss: 0.0724\n",
            "Epoch 3/100\n",
            "77/77 [==============================] - 0s 2ms/step - loss: 0.0364\n",
            "Epoch 4/100\n",
            "77/77 [==============================] - 0s 2ms/step - loss: 0.0272\n",
            "Epoch 5/100\n",
            "77/77 [==============================] - 0s 2ms/step - loss: 0.0275\n",
            "Epoch 6/100\n",
            "77/77 [==============================] - 0s 2ms/step - loss: 0.0204\n",
            "Epoch 7/100\n",
            "77/77 [==============================] - 0s 2ms/step - loss: 0.0212\n",
            "Epoch 8/100\n",
            "77/77 [==============================] - 0s 2ms/step - loss: 0.0205\n",
            "Epoch 9/100\n",
            "77/77 [==============================] - 0s 2ms/step - loss: 0.0234\n",
            "Epoch 10/100\n",
            "77/77 [==============================] - 0s 2ms/step - loss: 0.0208\n",
            "Epoch 11/100\n",
            "77/77 [==============================] - 0s 2ms/step - loss: 0.0210\n",
            "Epoch 12/100\n",
            "77/77 [==============================] - 0s 2ms/step - loss: 0.0177\n",
            "Epoch 13/100\n",
            "77/77 [==============================] - 0s 2ms/step - loss: 0.0226\n",
            "Epoch 14/100\n",
            "77/77 [==============================] - 0s 2ms/step - loss: 0.0135\n",
            "Epoch 15/100\n",
            "77/77 [==============================] - 0s 2ms/step - loss: 0.0176\n",
            "Epoch 16/100\n",
            "77/77 [==============================] - 0s 2ms/step - loss: 0.0206\n",
            "Epoch 17/100\n",
            "77/77 [==============================] - 0s 2ms/step - loss: 0.0186\n",
            "Epoch 18/100\n",
            "77/77 [==============================] - 0s 2ms/step - loss: 0.0180\n",
            "Epoch 19/100\n",
            "77/77 [==============================] - 0s 2ms/step - loss: 0.0155\n",
            "Epoch 20/100\n",
            "77/77 [==============================] - 0s 2ms/step - loss: 0.0162\n",
            "Epoch 21/100\n",
            "77/77 [==============================] - 0s 2ms/step - loss: 0.0168\n",
            "Epoch 22/100\n",
            "77/77 [==============================] - 0s 2ms/step - loss: 0.0178\n",
            "Epoch 23/100\n",
            "77/77 [==============================] - 0s 2ms/step - loss: 0.0160\n",
            "Epoch 24/100\n",
            "77/77 [==============================] - 0s 2ms/step - loss: 0.0153\n",
            "Epoch 25/100\n",
            "77/77 [==============================] - 0s 2ms/step - loss: 0.0169\n",
            "Epoch 26/100\n",
            "77/77 [==============================] - 0s 2ms/step - loss: 0.0204\n",
            "Epoch 27/100\n",
            "77/77 [==============================] - 0s 2ms/step - loss: 0.0199\n",
            "Epoch 28/100\n",
            "77/77 [==============================] - 0s 2ms/step - loss: 0.0184\n",
            "Epoch 29/100\n",
            "77/77 [==============================] - 0s 2ms/step - loss: 0.0171\n",
            "Epoch 30/100\n",
            "77/77 [==============================] - 0s 2ms/step - loss: 0.0187\n",
            "Epoch 31/100\n",
            "77/77 [==============================] - 0s 2ms/step - loss: 0.0187\n",
            "Epoch 32/100\n",
            "77/77 [==============================] - 0s 2ms/step - loss: 0.0164\n",
            "Epoch 33/100\n",
            "77/77 [==============================] - 0s 2ms/step - loss: 0.0191\n",
            "Epoch 34/100\n",
            "77/77 [==============================] - 0s 2ms/step - loss: 0.0163\n",
            "Epoch 35/100\n",
            "77/77 [==============================] - 0s 2ms/step - loss: 0.0201\n",
            "Epoch 36/100\n",
            "77/77 [==============================] - 0s 2ms/step - loss: 0.0153\n",
            "Epoch 37/100\n",
            "77/77 [==============================] - 0s 2ms/step - loss: 0.0157\n",
            "Epoch 38/100\n",
            "77/77 [==============================] - 0s 2ms/step - loss: 0.0213\n",
            "Epoch 39/100\n",
            "77/77 [==============================] - 0s 2ms/step - loss: 0.0200\n",
            "Epoch 40/100\n",
            "77/77 [==============================] - 0s 2ms/step - loss: 0.0228\n",
            "Epoch 41/100\n",
            "77/77 [==============================] - 0s 2ms/step - loss: 0.0160\n",
            "Epoch 42/100\n",
            "77/77 [==============================] - 0s 2ms/step - loss: 0.0171\n",
            "Epoch 43/100\n",
            "77/77 [==============================] - 0s 2ms/step - loss: 0.0172\n",
            "Epoch 44/100\n",
            "77/77 [==============================] - 0s 2ms/step - loss: 0.0167\n",
            "Epoch 45/100\n",
            "77/77 [==============================] - 0s 2ms/step - loss: 0.0213\n",
            "Epoch 46/100\n",
            "77/77 [==============================] - 0s 2ms/step - loss: 0.0157\n",
            "Epoch 47/100\n",
            "77/77 [==============================] - 0s 2ms/step - loss: 0.0166\n",
            "Epoch 48/100\n",
            "77/77 [==============================] - 0s 2ms/step - loss: 0.0188\n",
            "Epoch 49/100\n",
            "77/77 [==============================] - 0s 2ms/step - loss: 0.0218\n",
            "Epoch 50/100\n",
            "77/77 [==============================] - 0s 2ms/step - loss: 0.0199\n",
            "Epoch 51/100\n",
            "77/77 [==============================] - 0s 2ms/step - loss: 0.0216\n",
            "Epoch 52/100\n",
            "77/77 [==============================] - 0s 2ms/step - loss: 0.0163\n",
            "Epoch 53/100\n",
            "77/77 [==============================] - 0s 2ms/step - loss: 0.0180\n",
            "Epoch 54/100\n",
            "77/77 [==============================] - 0s 2ms/step - loss: 0.0146\n",
            "Epoch 55/100\n",
            "77/77 [==============================] - 0s 2ms/step - loss: 0.0174\n",
            "Epoch 56/100\n",
            "77/77 [==============================] - 0s 2ms/step - loss: 0.0213\n",
            "Epoch 57/100\n",
            "77/77 [==============================] - 0s 2ms/step - loss: 0.0196\n",
            "Epoch 58/100\n",
            "77/77 [==============================] - 0s 2ms/step - loss: 0.0177\n",
            "Epoch 59/100\n",
            "77/77 [==============================] - 0s 2ms/step - loss: 0.0194\n",
            "Epoch 60/100\n",
            "77/77 [==============================] - 0s 2ms/step - loss: 0.0184\n",
            "Epoch 61/100\n",
            "77/77 [==============================] - 0s 2ms/step - loss: 0.0164\n",
            "Epoch 62/100\n",
            "77/77 [==============================] - 0s 2ms/step - loss: 0.0195\n",
            "Epoch 63/100\n",
            "77/77 [==============================] - 0s 2ms/step - loss: 0.0164\n",
            "Epoch 64/100\n",
            "77/77 [==============================] - 0s 2ms/step - loss: 0.0188\n",
            "Epoch 65/100\n",
            "77/77 [==============================] - 0s 2ms/step - loss: 0.0187\n",
            "Epoch 66/100\n",
            "77/77 [==============================] - 0s 2ms/step - loss: 0.0200\n",
            "Epoch 67/100\n",
            "77/77 [==============================] - 0s 2ms/step - loss: 0.0146\n",
            "Epoch 68/100\n",
            "77/77 [==============================] - 0s 2ms/step - loss: 0.0190\n",
            "Epoch 69/100\n",
            "77/77 [==============================] - 0s 2ms/step - loss: 0.0192\n",
            "Epoch 70/100\n",
            "77/77 [==============================] - 0s 2ms/step - loss: 0.0209\n",
            "Epoch 71/100\n",
            "77/77 [==============================] - 0s 2ms/step - loss: 0.0188\n",
            "Epoch 72/100\n",
            "77/77 [==============================] - 0s 2ms/step - loss: 0.0223\n",
            "Epoch 73/100\n",
            "77/77 [==============================] - 0s 2ms/step - loss: 0.0211\n",
            "Epoch 74/100\n",
            "77/77 [==============================] - 0s 2ms/step - loss: 0.0202\n",
            "Epoch 75/100\n",
            "77/77 [==============================] - 0s 2ms/step - loss: 0.0156\n",
            "Epoch 76/100\n",
            "77/77 [==============================] - 0s 2ms/step - loss: 0.0179\n",
            "Epoch 77/100\n",
            "77/77 [==============================] - 0s 2ms/step - loss: 0.0156\n",
            "Epoch 78/100\n",
            "77/77 [==============================] - 0s 2ms/step - loss: 0.0199\n",
            "Epoch 79/100\n",
            "77/77 [==============================] - 0s 2ms/step - loss: 0.0201\n",
            "Epoch 80/100\n",
            "77/77 [==============================] - 0s 2ms/step - loss: 0.0204\n",
            "Epoch 81/100\n",
            "77/77 [==============================] - 0s 2ms/step - loss: 0.0174\n",
            "Epoch 82/100\n",
            "77/77 [==============================] - 0s 2ms/step - loss: 0.0164\n",
            "Epoch 83/100\n",
            "77/77 [==============================] - 0s 2ms/step - loss: 0.0180\n",
            "Epoch 84/100\n",
            "77/77 [==============================] - 0s 2ms/step - loss: 0.0148\n",
            "Epoch 85/100\n",
            "77/77 [==============================] - 0s 2ms/step - loss: 0.0184\n",
            "Epoch 86/100\n",
            "77/77 [==============================] - 0s 2ms/step - loss: 0.0225\n",
            "Epoch 87/100\n",
            "77/77 [==============================] - 0s 2ms/step - loss: 0.0233\n",
            "Epoch 88/100\n",
            "77/77 [==============================] - 0s 2ms/step - loss: 0.0196\n",
            "Epoch 89/100\n",
            "77/77 [==============================] - 0s 2ms/step - loss: 0.0243\n",
            "Epoch 90/100\n",
            "77/77 [==============================] - 0s 2ms/step - loss: 0.0193\n",
            "Epoch 91/100\n",
            "77/77 [==============================] - 0s 2ms/step - loss: 0.0208\n",
            "Epoch 92/100\n",
            "77/77 [==============================] - 0s 2ms/step - loss: 0.0240\n",
            "Epoch 93/100\n",
            "77/77 [==============================] - 0s 2ms/step - loss: 0.0187\n",
            "Epoch 94/100\n",
            "77/77 [==============================] - 0s 2ms/step - loss: 0.0214\n",
            "Epoch 95/100\n",
            "77/77 [==============================] - 0s 2ms/step - loss: 0.0223\n",
            "Epoch 96/100\n",
            "77/77 [==============================] - 0s 2ms/step - loss: 0.0161\n",
            "Epoch 97/100\n",
            "77/77 [==============================] - 0s 2ms/step - loss: 0.0162\n",
            "Epoch 98/100\n",
            "77/77 [==============================] - 0s 2ms/step - loss: 0.0199\n",
            "Epoch 99/100\n",
            "77/77 [==============================] - 0s 2ms/step - loss: 0.0185\n",
            "Epoch 100/100\n",
            "77/77 [==============================] - 0s 2ms/step - loss: 0.0218\n"
          ],
          "name": "stdout"
        }
      ]
    },
    {
      "cell_type": "code",
      "metadata": {
        "colab": {
          "base_uri": "https://localhost:8080/",
          "height": 367
        },
        "id": "8F4CHAnKSBrP",
        "outputId": "7d15d008-0581-4212-c62d-0c23a0d23008"
      },
      "source": [
        "plt.figure(figsize=(8,5))\n",
        "plt.plot(history.history['loss'])\n",
        "plt.xlabel(\"Epochs\")\n",
        "plt.ylabel(\"Loss\")\n",
        "plt.title(\"Model Accuracy\")"
      ],
      "execution_count": 23,
      "outputs": [
        {
          "output_type": "execute_result",
          "data": {
            "text/plain": [
              "Text(0.5, 1.0, 'Model Accuracy')"
            ]
          },
          "metadata": {
            "tags": []
          },
          "execution_count": 23
        },
        {
          "output_type": "display_data",
          "data": {
            "image/png": "[encoded data removed]",
            "text/plain": [
              "<Figure size 576x360 with 1 Axes>"
            ]
          },
          "metadata": {
            "tags": [],
            "needs_background": "light"
          }
        }
      ]
    },
    {
      "cell_type": "code",
      "metadata": {
        "id": "VVtpHZBOsQDU"
      },
      "source": [
        "y_pred = model.predict(X, batch_size=1)"
      ],
      "execution_count": 24,
      "outputs": []
    },
    {
      "cell_type": "markdown",
      "metadata": {
        "id": "fL-vD--bsz8_"
      },
      "source": [
        "To check how well the model performed\n",
        "- inverse transform the forecast for scaling (due to scaling that was done before model training)\n",
        "- create a dataframe with the date, original price and the predicted price\n",
        "- plot the data\n",
        "- check metrics"
      ]
    },
    {
      "cell_type": "code",
      "metadata": {
        "colab": {
          "base_uri": "https://localhost:8080/"
        },
        "id": "S4noonb1zlUi",
        "outputId": "94c0f14c-adc0-4b27-83ed-72ccc9149874"
      },
      "source": [
        "#inverse transform prediction to get predicted price\n",
        "inverted_y_pred = scaler.inverse_transform(y_pred)\n",
        "inverted_y_pred[:5]"
      ],
      "execution_count": 25,
      "outputs": [
        {
          "output_type": "execute_result",
          "data": {
            "text/plain": [
              "array([[173.97955],\n",
              "       [163.13396],\n",
              "       [156.61072],\n",
              "       [152.9583 ],\n",
              "       [152.23724]], dtype=float32)"
            ]
          },
          "metadata": {
            "tags": []
          },
          "execution_count": 25
        }
      ]
    },
    {
      "cell_type": "code",
      "metadata": {
        "colab": {
          "base_uri": "https://localhost:8080/",
          "height": 204
        },
        "id": "h7OZfEqK0qck",
        "outputId": "92dc52f3-4067-4474-e341-d23dd63faf3b"
      },
      "source": [
        "df = pd.DataFrame()\n",
        "\n",
        "df['date'] = diesel.index\n",
        "df['price'] = list(diesel['price'])\n",
        "df['predicted_price'] = inverted_y_pred\n",
        "df.head()"
      ],
      "execution_count": 26,
      "outputs": [
        {
          "output_type": "execute_result",
          "data": {
            "text/html": [
              "<div>\n",
              "<style scoped>\n",
              "    .dataframe tbody tr th:only-of-type {\n",
              "        vertical-align: middle;\n",
              "    }\n",
              "\n",
              "    .dataframe tbody tr th {\n",
              "        vertical-align: top;\n",
              "    }\n",
              "\n",
              "    .dataframe thead th {\n",
              "        text-align: right;\n",
              "    }\n",
              "</style>\n",
              "<table border=\"1\" class=\"dataframe\">\n",
              "  <thead>\n",
              "    <tr style=\"text-align: right;\">\n",
              "      <th></th>\n",
              "      <th>date</th>\n",
              "      <th>price</th>\n",
              "      <th>predicted_price</th>\n",
              "    </tr>\n",
              "  </thead>\n",
              "  <tbody>\n",
              "    <tr>\n",
              "      <th>0</th>\n",
              "      <td>2014-05-15</td>\n",
              "      <td>155.00</td>\n",
              "      <td>173.979553</td>\n",
              "    </tr>\n",
              "    <tr>\n",
              "      <th>1</th>\n",
              "      <td>2014-07-15</td>\n",
              "      <td>160.00</td>\n",
              "      <td>163.133957</td>\n",
              "    </tr>\n",
              "    <tr>\n",
              "      <th>2</th>\n",
              "      <td>2014-08-15</td>\n",
              "      <td>160.00</td>\n",
              "      <td>156.610718</td>\n",
              "    </tr>\n",
              "    <tr>\n",
              "      <th>3</th>\n",
              "      <td>2014-09-15</td>\n",
              "      <td>158.50</td>\n",
              "      <td>152.958298</td>\n",
              "    </tr>\n",
              "    <tr>\n",
              "      <th>4</th>\n",
              "      <td>2014-10-15</td>\n",
              "      <td>159.25</td>\n",
              "      <td>152.237244</td>\n",
              "    </tr>\n",
              "  </tbody>\n",
              "</table>\n",
              "</div>"
            ],
            "text/plain": [
              "        date   price  predicted_price\n",
              "0 2014-05-15  155.00       173.979553\n",
              "1 2014-07-15  160.00       163.133957\n",
              "2 2014-08-15  160.00       156.610718\n",
              "3 2014-09-15  158.50       152.958298\n",
              "4 2014-10-15  159.25       152.237244"
            ]
          },
          "metadata": {
            "tags": []
          },
          "execution_count": 26
        }
      ]
    },
    {
      "cell_type": "code",
      "metadata": {
        "colab": {
          "base_uri": "https://localhost:8080/"
        },
        "id": "Wtk7ufUx0kNN",
        "outputId": "a7ee1fbc-56e4-4be2-dfe5-0cc3a8357c8c"
      },
      "source": [
        "print('MSE ', mean_squared_error(df['price'], df['predicted_price']))"
      ],
      "execution_count": 27,
      "outputs": [
        {
          "output_type": "stream",
          "text": [
            "MSE  89.20987224121157\n"
          ],
          "name": "stdout"
        }
      ]
    },
    {
      "cell_type": "code",
      "metadata": {
        "colab": {
          "base_uri": "https://localhost:8080/"
        },
        "id": "S3vy83pYahq3",
        "outputId": "c86682c0-1e22-4a02-bd5a-7209714dae4d"
      },
      "source": [
        "#rmse\n",
        "print('RMSE ', np.sqrt(mean_squared_error(df['price'], df['predicted_price'])))"
      ],
      "execution_count": 28,
      "outputs": [
        {
          "output_type": "stream",
          "text": [
            "RMSE  9.445097788864421\n"
          ],
          "name": "stdout"
        }
      ]
    },
    {
      "cell_type": "code",
      "metadata": {
        "colab": {
          "base_uri": "https://localhost:8080/"
        },
        "id": "jMcJLY1nu_vN",
        "outputId": "2edf4c40-0cd3-4f72-c18c-4466f5731b09"
      },
      "source": [
        "print('R2 Score ', r2_score(df['price'], df['predicted_price']))"
      ],
      "execution_count": 29,
      "outputs": [
        {
          "output_type": "stream",
          "text": [
            "R2 Score  0.9264289451209421\n"
          ],
          "name": "stdout"
        }
      ]
    },
    {
      "cell_type": "code",
      "metadata": {
        "id": "_U2iu3QyEPot"
      },
      "source": [
        "df.set_index('date', inplace=True)\n",
        "df.index = pd.to_datetime(df.index)"
      ],
      "execution_count": 30,
      "outputs": []
    },
    {
      "cell_type": "code",
      "metadata": {
        "colab": {
          "base_uri": "https://localhost:8080/",
          "height": 516
        },
        "id": "AyL7PM7bFWZV",
        "outputId": "741c2425-f503-46fd-9141-1bdef02df164"
      },
      "source": [
        "plt.figure(figsize=(12,8))\n",
        "plt.plot(df['price'], color=\"blue\", label=\"actual\")\n",
        "plt.plot(df['predicted_price'], color=\"red\", label=\"predicted\")\n",
        "plt.title(\"Diesel Price Forecast\")\n",
        "plt.legend()"
      ],
      "execution_count": 31,
      "outputs": [
        {
          "output_type": "execute_result",
          "data": {
            "text/plain": [
              "<matplotlib.legend.Legend at 0x7fefc1c11dd8>"
            ]
          },
          "metadata": {
            "tags": []
          },
          "execution_count": 31
        },
        {
          "output_type": "display_data",
          "data": {
            "image/png": "[encoded data removed]",
            "text/plain": [
              "<Figure size 864x576 with 1 Axes>"
            ]
          },
          "metadata": {
            "tags": [],
            "needs_background": "light"
          }
        }
      ]
    },
    {
      "cell_type": "markdown",
      "metadata": {
        "id": "c2-zX65dnCwc"
      },
      "source": [
        "The model performs really well on the exsiting dataset with an RMSE score of 9.44 and R2 Score of 92.64%.\n",
        "\n",
        "I can confidently use this model to forecast future data."
      ]
    },
    {
      "cell_type": "markdown",
      "metadata": {
        "id": "I3OdYmL1pyIe"
      },
      "source": [
        "## Future Prediction\n",
        "\n",
        "I will be predicting diesel prices 3 years into the future, 2021, 2022, 2023. That is 36 months."
      ]
    },
    {
      "cell_type": "code",
      "metadata": {
        "id": "i3C4LwKRwle7",
        "colab": {
          "base_uri": "https://localhost:8080/"
        },
        "outputId": "f6b3081f-6729-45cf-c209-8c990d72157c"
      },
      "source": [
        "#3 years, 36 months\n",
        "num_prediction = 36\n",
        "\n",
        "#past price data\n",
        "price_data = scaler.transform([diesel['price']]).reshape(-1)\n",
        "price_data[:5]"
      ],
      "execution_count": 32,
      "outputs": [
        {
          "output_type": "execute_result",
          "data": {
            "text/plain": [
              "array([-0.62121212, -0.54545455, -0.54545455, -0.56818182, -0.55681818])"
            ]
          },
          "metadata": {
            "tags": []
          },
          "execution_count": 32
        }
      ]
    },
    {
      "cell_type": "code",
      "metadata": {
        "colab": {
          "base_uri": "https://localhost:8080/"
        },
        "id": "onRLMt0zUhYN",
        "outputId": "53d10101-7028-4611-e249-573673a1121b"
      },
      "source": [
        "price_data.shape"
      ],
      "execution_count": 33,
      "outputs": [
        {
          "output_type": "execute_result",
          "data": {
            "text/plain": [
              "(77,)"
            ]
          },
          "metadata": {
            "tags": []
          },
          "execution_count": 33
        }
      ]
    },
    {
      "cell_type": "code",
      "metadata": {
        "id": "dVRtYEEuUvxU"
      },
      "source": [
        "#forecast future prices\n",
        "forecast = utils.forecast(num_prediction, model, price_data, look_back=1)\n",
        "forecast_dates = utils.forecast_dates(diesel, num_prediction, frequency = 'MS')"
      ],
      "execution_count": 34,
      "outputs": []
    },
    {
      "cell_type": "code",
      "metadata": {
        "colab": {
          "base_uri": "https://localhost:8080/"
        },
        "id": "MVAFtGHGVg5Z",
        "scrolled": true,
        "outputId": "d865513d-9be1-4187-be3d-583c754cb4c9"
      },
      "source": [
        "forecast_dates[:5]"
      ],
      "execution_count": 35,
      "outputs": [
        {
          "output_type": "execute_result",
          "data": {
            "text/plain": [
              "[Timestamp('2020-12-01 00:00:00', freq='MS'),\n",
              " Timestamp('2021-01-01 00:00:00', freq='MS'),\n",
              " Timestamp('2021-02-01 00:00:00', freq='MS'),\n",
              " Timestamp('2021-03-01 00:00:00', freq='MS'),\n",
              " Timestamp('2021-04-01 00:00:00', freq='MS')]"
            ]
          },
          "metadata": {
            "tags": []
          },
          "execution_count": 35
        }
      ]
    },
    {
      "cell_type": "code",
      "metadata": {
        "colab": {
          "base_uri": "https://localhost:8080/"
        },
        "id": "mDysMn4pVFx9",
        "outputId": "0f7ce016-a0f6-432c-d32f-5987c7fb2b83"
      },
      "source": [
        "forecast"
      ],
      "execution_count": 36,
      "outputs": [
        {
          "output_type": "execute_result",
          "data": {
            "text/plain": [
              "array([-0.04924242, -0.0819    , -0.10502267, -0.12461655, -0.14190777,\n",
              "       -0.15786213, -0.1732118 , -0.18849102, -0.2040631 , -0.22014378,\n",
              "       -0.23682036, -0.2540701 , -0.27177536, -0.28973967, -0.3077023 ,\n",
              "       -0.32535475, -0.34235734, -0.35835898, -0.37301666, -0.38601619,\n",
              "       -0.39709336, -0.4060505 , -0.41277069, -0.41722584, -0.41947728,\n",
              "       -0.41967148, -0.41802776, -0.41482073, -0.41036141, -0.40497494,\n",
              "       -0.39898145, -0.39267838, -0.38632798, -0.38014925, -0.37431461,\n",
              "       -0.36894906, -0.36413503])"
            ]
          },
          "metadata": {
            "tags": []
          },
          "execution_count": 36
        }
      ]
    },
    {
      "cell_type": "code",
      "metadata": {
        "colab": {
          "base_uri": "https://localhost:8080/"
        },
        "id": "i3LZZ85xxfo6",
        "outputId": "27a9e855-6f6b-4542-e149-2ec1d68afcab"
      },
      "source": [
        "len(forecast_dates)"
      ],
      "execution_count": 37,
      "outputs": [
        {
          "output_type": "execute_result",
          "data": {
            "text/plain": [
              "37"
            ]
          },
          "metadata": {
            "tags": []
          },
          "execution_count": 37
        }
      ]
    },
    {
      "cell_type": "code",
      "metadata": {
        "colab": {
          "base_uri": "https://localhost:8080/"
        },
        "id": "NEU_0hG3VJXP",
        "scrolled": true,
        "outputId": "be6ed2bc-68d5-4d8b-82aa-19c5d8558577"
      },
      "source": [
        "#inverse transform forecast and reshape\n",
        "forecast = scaler.inverse_transform(forecast.reshape(-1, 1))\n",
        "forecast"
      ],
      "execution_count": 38,
      "outputs": [
        {
          "output_type": "execute_result",
          "data": {
            "text/plain": [
              "array([[192.75      ],\n",
              "       [190.59459996],\n",
              "       [189.06850386],\n",
              "       [187.7753078 ],\n",
              "       [186.63408741],\n",
              "       [185.58109963],\n",
              "       [184.56802133],\n",
              "       [183.5595929 ],\n",
              "       [182.53183523],\n",
              "       [181.47051051],\n",
              "       [180.36985657],\n",
              "       [179.23137319],\n",
              "       [178.06282592],\n",
              "       [176.87718189],\n",
              "       [175.69164801],\n",
              "       [174.52658617],\n",
              "       [173.40441573],\n",
              "       [172.34830737],\n",
              "       [171.38090074],\n",
              "       [170.52293146],\n",
              "       [169.79183853],\n",
              "       [169.20066679],\n",
              "       [168.75713456],\n",
              "       [168.46309471],\n",
              "       [168.31449926],\n",
              "       [168.30168259],\n",
              "       [168.41016793],\n",
              "       [168.62183177],\n",
              "       [168.91614699],\n",
              "       [169.27165413],\n",
              "       [169.66722417],\n",
              "       [170.08322692],\n",
              "       [170.50235319],\n",
              "       [170.91014981],\n",
              "       [171.29523599],\n",
              "       [171.64936233],\n",
              "       [171.96708822]])"
            ]
          },
          "metadata": {
            "tags": []
          },
          "execution_count": 38
        }
      ]
    },
    {
      "cell_type": "code",
      "metadata": {
        "colab": {
          "base_uri": "https://localhost:8080/"
        },
        "id": "1sN3m4EkpyIf",
        "outputId": "0dbe2200-2497-4946-859c-033238187e34"
      },
      "source": [
        "len(forecast)"
      ],
      "execution_count": 39,
      "outputs": [
        {
          "output_type": "execute_result",
          "data": {
            "text/plain": [
              "37"
            ]
          },
          "metadata": {
            "tags": []
          },
          "execution_count": 39
        }
      ]
    },
    {
      "cell_type": "code",
      "metadata": {
        "colab": {
          "base_uri": "https://localhost:8080/",
          "height": 235
        },
        "id": "gF6-nYjnpyIf",
        "outputId": "7e815627-dc8c-43cc-ccbe-83d65b759aae"
      },
      "source": [
        "future = pd.DataFrame()\n",
        "\n",
        "future['date'] = list(forecast_dates)\n",
        "future['predicted_price'] = forecast\n",
        "future.set_index('date', inplace=True)\n",
        "future.index = pd.to_datetime(future.index)\n",
        "future.head()"
      ],
      "execution_count": 40,
      "outputs": [
        {
          "output_type": "execute_result",
          "data": {
            "text/html": [
              "<div>\n",
              "<style scoped>\n",
              "    .dataframe tbody tr th:only-of-type {\n",
              "        vertical-align: middle;\n",
              "    }\n",
              "\n",
              "    .dataframe tbody tr th {\n",
              "        vertical-align: top;\n",
              "    }\n",
              "\n",
              "    .dataframe thead th {\n",
              "        text-align: right;\n",
              "    }\n",
              "</style>\n",
              "<table border=\"1\" class=\"dataframe\">\n",
              "  <thead>\n",
              "    <tr style=\"text-align: right;\">\n",
              "      <th></th>\n",
              "      <th>predicted_price</th>\n",
              "    </tr>\n",
              "    <tr>\n",
              "      <th>date</th>\n",
              "      <th></th>\n",
              "    </tr>\n",
              "  </thead>\n",
              "  <tbody>\n",
              "    <tr>\n",
              "      <th>2020-12-01</th>\n",
              "      <td>192.750000</td>\n",
              "    </tr>\n",
              "    <tr>\n",
              "      <th>2021-01-01</th>\n",
              "      <td>190.594600</td>\n",
              "    </tr>\n",
              "    <tr>\n",
              "      <th>2021-02-01</th>\n",
              "      <td>189.068504</td>\n",
              "    </tr>\n",
              "    <tr>\n",
              "      <th>2021-03-01</th>\n",
              "      <td>187.775308</td>\n",
              "    </tr>\n",
              "    <tr>\n",
              "      <th>2021-04-01</th>\n",
              "      <td>186.634087</td>\n",
              "    </tr>\n",
              "  </tbody>\n",
              "</table>\n",
              "</div>"
            ],
            "text/plain": [
              "            predicted_price\n",
              "date                       \n",
              "2020-12-01       192.750000\n",
              "2021-01-01       190.594600\n",
              "2021-02-01       189.068504\n",
              "2021-03-01       187.775308\n",
              "2021-04-01       186.634087"
            ]
          },
          "metadata": {
            "tags": []
          },
          "execution_count": 40
        }
      ]
    },
    {
      "cell_type": "code",
      "metadata": {
        "colab": {
          "base_uri": "https://localhost:8080/",
          "height": 516
        },
        "id": "oDCIIduzpyIg",
        "outputId": "3b2597ec-4069-4983-d18a-fb44578b9091"
      },
      "source": [
        "plt.figure(figsize=(12,8))\n",
        "\n",
        "plt.plot(diesel ['price'], c='blue', label=\"past\")\n",
        "plt.plot(future['predicted_price'], c='red', label=\"future\")\n",
        "plt.title('Future Diesel Price Predictions')\n",
        "plt.legend()"
      ],
      "execution_count": 41,
      "outputs": [
        {
          "output_type": "execute_result",
          "data": {
            "text/plain": [
              "<matplotlib.legend.Legend at 0x7fefc09ebf98>"
            ]
          },
          "metadata": {
            "tags": []
          },
          "execution_count": 41
        },
        {
          "output_type": "display_data",
          "data": {
            "image/png": "[encoded data removed]",
            "text/plain": [
              "<Figure size 864x576 with 1 Axes>"
            ]
          },
          "metadata": {
            "tags": [],
            "needs_background": "light"
          }
        }
      ]
    },
    {
      "cell_type": "markdown",
      "metadata": {
        "id": "03Sx2fjujztL"
      },
      "source": [
        "## Conclusion\n",
        "The model performed really well on existing data with an r2 score of 94.58%.\n",
        "\n",
        "The model has forecasted that diesel prices would reduce in 3 years time.\n",
        "\n",
        "(but as a Nigerian living in Nigeria I do not believe this at all.)"
      ]
    }
  ]
}