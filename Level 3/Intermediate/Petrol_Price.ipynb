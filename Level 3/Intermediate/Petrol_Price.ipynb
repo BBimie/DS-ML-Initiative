{
  "nbformat": 4,
  "nbformat_minor": 0,
  "metadata": {
    "colab": {
      "name": "Petrol Price.ipynb",
      "provenance": [],
      "collapsed_sections": [],
      "toc_visible": true
    },
    "kernelspec": {
      "display_name": "Python 3",
      "language": "python",
      "name": "python3"
    },
    "language_info": {
      "codemirror_mode": {
        "name": "ipython",
        "version": 3
      },
      "file_extension": ".py",
      "mimetype": "text/x-python",
      "name": "python",
      "nbconvert_exporter": "python",
      "pygments_lexer": "ipython3",
      "version": "3.8.5"
    }
  },
  "cells": [
    {
      "cell_type": "markdown",
      "metadata": {
        "id": "PGxh7nnEnTdf"
      },
      "source": [
        "# Task: Petrol price forecasting with LSTM"
      ]
    },
    {
      "cell_type": "code",
      "metadata": {
        "id": "hzHWWtzMgrB0"
      },
      "source": [
        "import warnings\n",
        "warnings.filterwarnings('ignore')"
      ],
      "execution_count": 1,
      "outputs": []
    },
    {
      "cell_type": "code",
      "metadata": {
        "id": "1Us2SKUJgrB1"
      },
      "source": [
        "import pandas as pd\n",
        "import numpy as np\n",
        "import matplotlib.pyplot as plt\n",
        "\n",
        "from sklearn.metrics import mean_squared_error, r2_score\n",
        "from sklearn.preprocessing import MinMaxScaler\n",
        "\n",
        "import utils"
      ],
      "execution_count": 2,
      "outputs": []
    },
    {
      "cell_type": "code",
      "metadata": {
        "id": "Px_1NJ2nTKlt"
      },
      "source": [
        "np.random.seed(1)"
      ],
      "execution_count": 3,
      "outputs": []
    },
    {
      "cell_type": "code",
      "metadata": {
        "colab": {
          "base_uri": "https://localhost:8080/",
          "height": 292
        },
        "id": "M8pO-TU2grB1",
        "outputId": "81987070-587a-4245-9722-6790837d4830"
      },
      "source": [
        "df = pd.read_csv('wfp_food_prices_nigeria.csv')\n",
        "df.head()"
      ],
      "execution_count": 4,
      "outputs": [
        {
          "output_type": "execute_result",
          "data": {
            "text/html": [
              "<div>\n",
              "<style scoped>\n",
              "    .dataframe tbody tr th:only-of-type {\n",
              "        vertical-align: middle;\n",
              "    }\n",
              "\n",
              "    .dataframe tbody tr th {\n",
              "        vertical-align: top;\n",
              "    }\n",
              "\n",
              "    .dataframe thead th {\n",
              "        text-align: right;\n",
              "    }\n",
              "</style>\n",
              "<table border=\"1\" class=\"dataframe\">\n",
              "  <thead>\n",
              "    <tr style=\"text-align: right;\">\n",
              "      <th></th>\n",
              "      <th>date</th>\n",
              "      <th>cmname</th>\n",
              "      <th>unit</th>\n",
              "      <th>category</th>\n",
              "      <th>price</th>\n",
              "      <th>currency</th>\n",
              "      <th>country</th>\n",
              "      <th>admname</th>\n",
              "      <th>adm1id</th>\n",
              "      <th>mktname</th>\n",
              "      <th>mktid</th>\n",
              "      <th>cmid</th>\n",
              "      <th>ptid</th>\n",
              "      <th>umid</th>\n",
              "      <th>catid</th>\n",
              "      <th>sn</th>\n",
              "      <th>default</th>\n",
              "    </tr>\n",
              "  </thead>\n",
              "  <tbody>\n",
              "    <tr>\n",
              "      <th>0</th>\n",
              "      <td>#date</td>\n",
              "      <td>#item+name</td>\n",
              "      <td>#item+unit</td>\n",
              "      <td>#item+type</td>\n",
              "      <td>#value</td>\n",
              "      <td>#currency</td>\n",
              "      <td>#country+name</td>\n",
              "      <td>#adm1+name</td>\n",
              "      <td>#adm1+code</td>\n",
              "      <td>#name+market</td>\n",
              "      <td>NaN</td>\n",
              "      <td>#item+code</td>\n",
              "      <td>NaN</td>\n",
              "      <td>NaN</td>\n",
              "      <td>#item+type+code</td>\n",
              "      <td>#meta+id</td>\n",
              "      <td>NaN</td>\n",
              "    </tr>\n",
              "    <tr>\n",
              "      <th>1</th>\n",
              "      <td>2015-01-15</td>\n",
              "      <td>Bread - Retail</td>\n",
              "      <td>Unit</td>\n",
              "      <td>cereals and tubers</td>\n",
              "      <td>140.0</td>\n",
              "      <td>NGN</td>\n",
              "      <td>Nigeria</td>\n",
              "      <td>Adamawa</td>\n",
              "      <td>2211</td>\n",
              "      <td>Mubi</td>\n",
              "      <td>1980.0</td>\n",
              "      <td>55</td>\n",
              "      <td>15.0</td>\n",
              "      <td>33.0</td>\n",
              "      <td>1</td>\n",
              "      <td>1980_55_15_33</td>\n",
              "      <td>NaN</td>\n",
              "    </tr>\n",
              "    <tr>\n",
              "      <th>2</th>\n",
              "      <td>2015-02-15</td>\n",
              "      <td>Bread - Retail</td>\n",
              "      <td>Unit</td>\n",
              "      <td>cereals and tubers</td>\n",
              "      <td>140.0</td>\n",
              "      <td>NGN</td>\n",
              "      <td>Nigeria</td>\n",
              "      <td>Adamawa</td>\n",
              "      <td>2211</td>\n",
              "      <td>Mubi</td>\n",
              "      <td>1980.0</td>\n",
              "      <td>55</td>\n",
              "      <td>15.0</td>\n",
              "      <td>33.0</td>\n",
              "      <td>1</td>\n",
              "      <td>1980_55_15_33</td>\n",
              "      <td>NaN</td>\n",
              "    </tr>\n",
              "    <tr>\n",
              "      <th>3</th>\n",
              "      <td>2015-03-15</td>\n",
              "      <td>Bread - Retail</td>\n",
              "      <td>Unit</td>\n",
              "      <td>cereals and tubers</td>\n",
              "      <td>140.0</td>\n",
              "      <td>NGN</td>\n",
              "      <td>Nigeria</td>\n",
              "      <td>Adamawa</td>\n",
              "      <td>2211</td>\n",
              "      <td>Mubi</td>\n",
              "      <td>1980.0</td>\n",
              "      <td>55</td>\n",
              "      <td>15.0</td>\n",
              "      <td>33.0</td>\n",
              "      <td>1</td>\n",
              "      <td>1980_55_15_33</td>\n",
              "      <td>NaN</td>\n",
              "    </tr>\n",
              "    <tr>\n",
              "      <th>4</th>\n",
              "      <td>2015-04-15</td>\n",
              "      <td>Bread - Retail</td>\n",
              "      <td>Unit</td>\n",
              "      <td>cereals and tubers</td>\n",
              "      <td>140.0</td>\n",
              "      <td>NGN</td>\n",
              "      <td>Nigeria</td>\n",
              "      <td>Adamawa</td>\n",
              "      <td>2211</td>\n",
              "      <td>Mubi</td>\n",
              "      <td>1980.0</td>\n",
              "      <td>55</td>\n",
              "      <td>15.0</td>\n",
              "      <td>33.0</td>\n",
              "      <td>1</td>\n",
              "      <td>1980_55_15_33</td>\n",
              "      <td>NaN</td>\n",
              "    </tr>\n",
              "  </tbody>\n",
              "</table>\n",
              "</div>"
            ],
            "text/plain": [
              "         date          cmname  ...             sn default\n",
              "0       #date      #item+name  ...       #meta+id     NaN\n",
              "1  2015-01-15  Bread - Retail  ...  1980_55_15_33     NaN\n",
              "2  2015-02-15  Bread - Retail  ...  1980_55_15_33     NaN\n",
              "3  2015-03-15  Bread - Retail  ...  1980_55_15_33     NaN\n",
              "4  2015-04-15  Bread - Retail  ...  1980_55_15_33     NaN\n",
              "\n",
              "[5 rows x 17 columns]"
            ]
          },
          "metadata": {
            "tags": []
          },
          "execution_count": 4
        }
      ]
    },
    {
      "cell_type": "code",
      "metadata": {
        "colab": {
          "base_uri": "https://localhost:8080/"
        },
        "id": "kivVcK0EgrB3",
        "outputId": "bccb8033-6c7f-43d3-bb39-6e585b64e631"
      },
      "source": [
        "df.shape"
      ],
      "execution_count": 5,
      "outputs": [
        {
          "output_type": "execute_result",
          "data": {
            "text/plain": [
              "(45577, 17)"
            ]
          },
          "metadata": {
            "tags": []
          },
          "execution_count": 5
        }
      ]
    },
    {
      "cell_type": "code",
      "metadata": {
        "colab": {
          "base_uri": "https://localhost:8080/"
        },
        "id": "1Zw9fIKXgrB3",
        "outputId": "518d9c3a-659c-4b8f-bc15-a1b7220fcaa0"
      },
      "source": [
        "df.isnull().sum()"
      ],
      "execution_count": 6,
      "outputs": [
        {
          "output_type": "execute_result",
          "data": {
            "text/plain": [
              "date            0\n",
              "cmname          0\n",
              "unit            0\n",
              "category        0\n",
              "price           0\n",
              "currency        0\n",
              "country         0\n",
              "admname         0\n",
              "adm1id          0\n",
              "mktname         0\n",
              "mktid           1\n",
              "cmid            0\n",
              "ptid            1\n",
              "umid            1\n",
              "catid           0\n",
              "sn              0\n",
              "default     45577\n",
              "dtype: int64"
            ]
          },
          "metadata": {
            "tags": []
          },
          "execution_count": 6
        }
      ]
    },
    {
      "cell_type": "code",
      "metadata": {
        "colab": {
          "base_uri": "https://localhost:8080/"
        },
        "id": "iFTOjrY7grB3",
        "outputId": "d2d1400b-5e91-4d0c-8509-ff0e49757b19"
      },
      "source": [
        "df['cmname'].unique()"
      ],
      "execution_count": 7,
      "outputs": [
        {
          "output_type": "execute_result",
          "data": {
            "text/plain": [
              "array(['#item+name', 'Bread - Retail', 'Oil (palm) - Wholesale',\n",
              "       'Oil (palm) - Retail', 'Rice (imported) - Wholesale',\n",
              "       'Rice (imported) - Retail', 'Maize (white) - Wholesale',\n",
              "       'Maize (white) - Retail', 'Rice (local) - Wholesale',\n",
              "       'Rice (local) - Retail', 'Millet - Wholesale', 'Millet - Retail',\n",
              "       'Yam - Wholesale', 'Yam - Retail',\n",
              "       'Groundnuts (shelled) - Wholesale',\n",
              "       'Groundnuts (shelled) - Retail', 'Sorghum (white) - Wholesale',\n",
              "       'Sorghum (white) - Retail', 'Maize (yellow) - Wholesale',\n",
              "       'Maize (yellow) - Retail', 'Fuel (diesel) - Retail',\n",
              "       'Fuel (petrol-gasoline) - Retail', 'Cowpeas (white) - Wholesale',\n",
              "       'Cowpeas (white) - Retail', 'Cowpeas (brown) - Wholesale',\n",
              "       'Cowpeas (brown) - Retail', 'Sorghum (brown) - Wholesale',\n",
              "       'Sorghum (brown) - Retail',\n",
              "       'Cassava meal (gari, yellow) - Wholesale',\n",
              "       'Cassava meal (gari, yellow) - Retail', 'Gari (white) - Wholesale',\n",
              "       'Gari (white) - Retail', 'Maize - Wholesale',\n",
              "       'Sorghum - Wholesale', 'Wheat - Wholesale',\n",
              "       'Rice (milled, local) - Wholesale', 'Sorghum - Retail',\n",
              "       'Beans (white) - Retail', 'Maize flour - Retail',\n",
              "       'Beans (red) - Retail', 'Milk - Retail', 'Eggs - Retail',\n",
              "       'Oil (vegetable) - Retail', 'Sugar - Retail', 'Tomatoes - Retail',\n",
              "       'Fish - Retail', 'Meat (beef) - Retail', 'Groundnuts - Retail',\n",
              "       'Onions - Retail', 'Salt - Retail', 'Cowpeas - Retail',\n",
              "       'Bananas - Retail', 'Oranges - Retail', 'Spinach - Retail',\n",
              "       'Meat (goat) - Retail', 'Watermelons - Retail',\n",
              "       'Beans (niebe) - Wholesale', 'Yam (Abuja) - Wholesale',\n",
              "       'Yam (Abuja) - Retail'], dtype=object)"
            ]
          },
          "metadata": {
            "tags": []
          },
          "execution_count": 7
        }
      ]
    },
    {
      "cell_type": "markdown",
      "metadata": {
        "id": "JNic5TPJrTgR"
      },
      "source": [
        "I am only interested in the Diesel commodity.\n",
        "It is written as 'Fuel (diesel) - Retail' under in cmname column"
      ]
    },
    {
      "cell_type": "code",
      "metadata": {
        "id": "ajpsTacUgrB4",
        "colab": {
          "base_uri": "https://localhost:8080/",
          "height": 235
        },
        "outputId": "105998a9-64b1-4e94-d919-21dccd7df7b9"
      },
      "source": [
        "_, petrol = utils.process_data(df, 'Fuel (petrol-gasoline) - Retail')\n",
        "petrol.head()"
      ],
      "execution_count": 8,
      "outputs": [
        {
          "output_type": "execute_result",
          "data": {
            "text/html": [
              "<div>\n",
              "<style scoped>\n",
              "    .dataframe tbody tr th:only-of-type {\n",
              "        vertical-align: middle;\n",
              "    }\n",
              "\n",
              "    .dataframe tbody tr th {\n",
              "        vertical-align: top;\n",
              "    }\n",
              "\n",
              "    .dataframe thead th {\n",
              "        text-align: right;\n",
              "    }\n",
              "</style>\n",
              "<table border=\"1\" class=\"dataframe\">\n",
              "  <thead>\n",
              "    <tr style=\"text-align: right;\">\n",
              "      <th></th>\n",
              "      <th>price</th>\n",
              "    </tr>\n",
              "    <tr>\n",
              "      <th>date</th>\n",
              "      <th></th>\n",
              "    </tr>\n",
              "  </thead>\n",
              "  <tbody>\n",
              "    <tr>\n",
              "      <th>2014-05-15</th>\n",
              "      <td>97.0</td>\n",
              "    </tr>\n",
              "    <tr>\n",
              "      <th>2014-07-15</th>\n",
              "      <td>97.0</td>\n",
              "    </tr>\n",
              "    <tr>\n",
              "      <th>2014-08-15</th>\n",
              "      <td>97.0</td>\n",
              "    </tr>\n",
              "    <tr>\n",
              "      <th>2014-09-15</th>\n",
              "      <td>97.0</td>\n",
              "    </tr>\n",
              "    <tr>\n",
              "      <th>2014-10-15</th>\n",
              "      <td>97.0</td>\n",
              "    </tr>\n",
              "  </tbody>\n",
              "</table>\n",
              "</div>"
            ],
            "text/plain": [
              "            price\n",
              "date             \n",
              "2014-05-15   97.0\n",
              "2014-07-15   97.0\n",
              "2014-08-15   97.0\n",
              "2014-09-15   97.0\n",
              "2014-10-15   97.0"
            ]
          },
          "metadata": {
            "tags": []
          },
          "execution_count": 8
        }
      ]
    },
    {
      "cell_type": "code",
      "metadata": {
        "colab": {
          "base_uri": "https://localhost:8080/",
          "height": 282
        },
        "id": "H9gEuyYE82BM",
        "outputId": "19d09a99-c5ac-4c71-da8c-44c0204ac597"
      },
      "source": [
        "plt.plot(petrol)"
      ],
      "execution_count": 9,
      "outputs": [
        {
          "output_type": "execute_result",
          "data": {
            "text/plain": [
              "[<matplotlib.lines.Line2D at 0x7f808ed61e48>]"
            ]
          },
          "metadata": {
            "tags": []
          },
          "execution_count": 9
        },
        {
          "output_type": "display_data",
          "data": {
            "image/png": "[encoded data removed]",
            "text/plain": [
              "<Figure size 432x288 with 1 Axes>"
            ]
          },
          "metadata": {
            "tags": [],
            "needs_background": "light"
          }
        }
      ]
    },
    {
      "cell_type": "code",
      "metadata": {
        "colab": {
          "base_uri": "https://localhost:8080/"
        },
        "id": "m8GLq127pyIZ",
        "outputId": "0aa46717-340e-45db-d2fb-04949c75fa66"
      },
      "source": [
        "petrol.info()"
      ],
      "execution_count": 10,
      "outputs": [
        {
          "output_type": "stream",
          "text": [
            "<class 'pandas.core.frame.DataFrame'>\n",
            "DatetimeIndex: 77 entries, 2014-05-15 to 2020-11-15\n",
            "Data columns (total 1 columns):\n",
            " #   Column  Non-Null Count  Dtype  \n",
            "---  ------  --------------  -----  \n",
            " 0   price   77 non-null     float64\n",
            "dtypes: float64(1)\n",
            "memory usage: 1.2 KB\n"
          ],
          "name": "stdout"
        }
      ]
    },
    {
      "cell_type": "markdown",
      "metadata": {
        "id": "Yp1GDcEzHXcu"
      },
      "source": [
        "## petrol"
      ]
    },
    {
      "cell_type": "markdown",
      "metadata": {
        "id": "x9G3bkDkcUYw"
      },
      "source": [
        "monthly data from 2014 - 2020; 7 years, 77 months"
      ]
    },
    {
      "cell_type": "markdown",
      "metadata": {
        "id": "irWW3zQToEOo"
      },
      "source": [
        "Convert data from time series to supervised learning.\n",
        "This can be done by creating look back features from the data. The number of look backs created can vary"
      ]
    },
    {
      "cell_type": "code",
      "metadata": {
        "colab": {
          "base_uri": "https://localhost:8080/"
        },
        "id": "cLIfw0PEpyIa",
        "outputId": "d09030dc-adbe-4c32-e2bd-321342575d4b"
      },
      "source": [
        "price = petrol['price'].values.reshape(-1, 1)\n",
        "price[:5]"
      ],
      "execution_count": 11,
      "outputs": [
        {
          "output_type": "execute_result",
          "data": {
            "text/plain": [
              "array([[97.],\n",
              "       [97.],\n",
              "       [97.],\n",
              "       [97.],\n",
              "       [97.]])"
            ]
          },
          "metadata": {
            "tags": []
          },
          "execution_count": 11
        }
      ]
    },
    {
      "cell_type": "code",
      "metadata": {
        "id": "Ti-DARt1rXWY"
      },
      "source": [
        "#initialize scaler\n",
        "scaler = MinMaxScaler(feature_range=(-1, 1))\n",
        "\n",
        "scaler = scaler.fit(price)"
      ],
      "execution_count": 12,
      "outputs": []
    },
    {
      "cell_type": "code",
      "metadata": {
        "id": "36S3nk5PqqPt",
        "colab": {
          "base_uri": "https://localhost:8080/"
        },
        "outputId": "4ad3a9fa-9a82-45ab-9303-f475b8b5e615"
      },
      "source": [
        "#scale data\n",
        "scaled_data = scaler.transform(price)\n",
        "scaled_data[:5]"
      ],
      "execution_count": 13,
      "outputs": [
        {
          "output_type": "execute_result",
          "data": {
            "text/plain": [
              "array([[-0.81884058],\n",
              "       [-0.81884058],\n",
              "       [-0.81884058],\n",
              "       [-0.81884058],\n",
              "       [-0.81884058]])"
            ]
          },
          "metadata": {
            "tags": []
          },
          "execution_count": 13
        }
      ]
    },
    {
      "cell_type": "code",
      "metadata": {
        "colab": {
          "base_uri": "https://localhost:8080/"
        },
        "id": "0yOp8qIAtcbG",
        "outputId": "adc3c2ac-8e1d-4ff3-c808-0f170659a90a"
      },
      "source": [
        "scaled_data.shape"
      ],
      "execution_count": 14,
      "outputs": [
        {
          "output_type": "execute_result",
          "data": {
            "text/plain": [
              "(77, 1)"
            ]
          },
          "metadata": {
            "tags": []
          },
          "execution_count": 14
        }
      ]
    },
    {
      "cell_type": "code",
      "metadata": {
        "colab": {
          "base_uri": "https://localhost:8080/"
        },
        "id": "-ylX59LitaVt",
        "outputId": "5f0f53ca-110e-40c3-9081-30a6210f3a3b"
      },
      "source": [
        "scaled_data.shape"
      ],
      "execution_count": 15,
      "outputs": [
        {
          "output_type": "execute_result",
          "data": {
            "text/plain": [
              "(77, 1)"
            ]
          },
          "metadata": {
            "tags": []
          },
          "execution_count": 15
        }
      ]
    },
    {
      "cell_type": "code",
      "metadata": {
        "colab": {
          "base_uri": "https://localhost:8080/",
          "height": 204
        },
        "id": "FrZLxJmuOecn",
        "outputId": "d1a86c6f-3c34-4c91-dd26-8facbfc074ed"
      },
      "source": [
        "#make into supervised learning\n",
        "data_with_lag = utils.timeseries_to_supervised(scaled_data)\n",
        "data_with_lag.columns = ['price', 'lag_1']\n",
        "data_with_lag.head()"
      ],
      "execution_count": 16,
      "outputs": [
        {
          "output_type": "execute_result",
          "data": {
            "text/html": [
              "<div>\n",
              "<style scoped>\n",
              "    .dataframe tbody tr th:only-of-type {\n",
              "        vertical-align: middle;\n",
              "    }\n",
              "\n",
              "    .dataframe tbody tr th {\n",
              "        vertical-align: top;\n",
              "    }\n",
              "\n",
              "    .dataframe thead th {\n",
              "        text-align: right;\n",
              "    }\n",
              "</style>\n",
              "<table border=\"1\" class=\"dataframe\">\n",
              "  <thead>\n",
              "    <tr style=\"text-align: right;\">\n",
              "      <th></th>\n",
              "      <th>price</th>\n",
              "      <th>lag_1</th>\n",
              "    </tr>\n",
              "  </thead>\n",
              "  <tbody>\n",
              "    <tr>\n",
              "      <th>0</th>\n",
              "      <td>0.000000</td>\n",
              "      <td>-0.818841</td>\n",
              "    </tr>\n",
              "    <tr>\n",
              "      <th>1</th>\n",
              "      <td>-0.818841</td>\n",
              "      <td>-0.818841</td>\n",
              "    </tr>\n",
              "    <tr>\n",
              "      <th>2</th>\n",
              "      <td>-0.818841</td>\n",
              "      <td>-0.818841</td>\n",
              "    </tr>\n",
              "    <tr>\n",
              "      <th>3</th>\n",
              "      <td>-0.818841</td>\n",
              "      <td>-0.818841</td>\n",
              "    </tr>\n",
              "    <tr>\n",
              "      <th>4</th>\n",
              "      <td>-0.818841</td>\n",
              "      <td>-0.818841</td>\n",
              "    </tr>\n",
              "  </tbody>\n",
              "</table>\n",
              "</div>"
            ],
            "text/plain": [
              "      price     lag_1\n",
              "0  0.000000 -0.818841\n",
              "1 -0.818841 -0.818841\n",
              "2 -0.818841 -0.818841\n",
              "3 -0.818841 -0.818841\n",
              "4 -0.818841 -0.818841"
            ]
          },
          "metadata": {
            "tags": []
          },
          "execution_count": 16
        }
      ]
    },
    {
      "cell_type": "code",
      "metadata": {
        "id": "AyF8_8PWqGo8"
      },
      "source": [
        "#separate into feature and target sets\n",
        "X, y = utils.feature_target(data_with_lag)"
      ],
      "execution_count": 17,
      "outputs": []
    },
    {
      "cell_type": "code",
      "metadata": {
        "colab": {
          "base_uri": "https://localhost:8080/"
        },
        "id": "sfHxNq8GpyIb",
        "outputId": "eccdde69-68ad-48c9-f9e0-80b8bf5c0f47"
      },
      "source": [
        "X[:5]"
      ],
      "execution_count": 18,
      "outputs": [
        {
          "output_type": "execute_result",
          "data": {
            "text/plain": [
              "array([[[-0.81884058]],\n",
              "\n",
              "       [[-0.81884058]],\n",
              "\n",
              "       [[-0.81884058]],\n",
              "\n",
              "       [[-0.81884058]],\n",
              "\n",
              "       [[-0.81884058]]])"
            ]
          },
          "metadata": {
            "tags": []
          },
          "execution_count": 18
        }
      ]
    },
    {
      "cell_type": "code",
      "metadata": {
        "colab": {
          "base_uri": "https://localhost:8080/"
        },
        "id": "hW-SMn7KpyIb",
        "outputId": "09fb9b11-6094-4cd3-be13-52f80a456b8b"
      },
      "source": [
        "y[:5]"
      ],
      "execution_count": 19,
      "outputs": [
        {
          "output_type": "execute_result",
          "data": {
            "text/plain": [
              "array([[ 0.        ],\n",
              "       [-0.81884058],\n",
              "       [-0.81884058],\n",
              "       [-0.81884058],\n",
              "       [-0.81884058]])"
            ]
          },
          "metadata": {
            "tags": []
          },
          "execution_count": 19
        }
      ]
    },
    {
      "cell_type": "markdown",
      "metadata": {
        "id": "7uH3ZNrPr5Gt"
      },
      "source": [
        "Build LSTM Model"
      ]
    },
    {
      "cell_type": "code",
      "metadata": {
        "id": "wPvfXwnmrppM"
      },
      "source": [
        "model = utils.build_LSTM(X)"
      ],
      "execution_count": 20,
      "outputs": []
    },
    {
      "cell_type": "code",
      "metadata": {
        "colab": {
          "base_uri": "https://localhost:8080/"
        },
        "id": "LUhR2NRQsCn2",
        "outputId": "60085e81-be9b-44e2-d1dc-26bdaeca9928"
      },
      "source": [
        "history = model.fit(X, y, epochs=100, batch_size=1, verbose=1, shuffle=False)"
      ],
      "execution_count": 21,
      "outputs": [
        {
          "output_type": "stream",
          "text": [
            "Epoch 1/100\n",
            "77/77 [==============================] - 3s 2ms/step - loss: 0.2323\n",
            "Epoch 2/100\n",
            "77/77 [==============================] - 0s 2ms/step - loss: 0.0970\n",
            "Epoch 3/100\n",
            "77/77 [==============================] - 0s 2ms/step - loss: 0.0665\n",
            "Epoch 4/100\n",
            "77/77 [==============================] - 0s 2ms/step - loss: 0.0552\n",
            "Epoch 5/100\n",
            "77/77 [==============================] - 0s 2ms/step - loss: 0.0416\n",
            "Epoch 6/100\n",
            "77/77 [==============================] - 0s 2ms/step - loss: 0.0368\n",
            "Epoch 7/100\n",
            "77/77 [==============================] - 0s 2ms/step - loss: 0.0252\n",
            "Epoch 8/100\n",
            "77/77 [==============================] - 0s 2ms/step - loss: 0.0321\n",
            "Epoch 9/100\n",
            "77/77 [==============================] - 0s 2ms/step - loss: 0.0263\n",
            "Epoch 10/100\n",
            "77/77 [==============================] - 0s 2ms/step - loss: 0.0318\n",
            "Epoch 11/100\n",
            "77/77 [==============================] - 0s 2ms/step - loss: 0.0270\n",
            "Epoch 12/100\n",
            "77/77 [==============================] - 0s 2ms/step - loss: 0.0266\n",
            "Epoch 13/100\n",
            "77/77 [==============================] - 0s 2ms/step - loss: 0.0281\n",
            "Epoch 14/100\n",
            "77/77 [==============================] - 0s 2ms/step - loss: 0.0336\n",
            "Epoch 15/100\n",
            "77/77 [==============================] - 0s 2ms/step - loss: 0.0229\n",
            "Epoch 16/100\n",
            "77/77 [==============================] - 0s 2ms/step - loss: 0.0339\n",
            "Epoch 17/100\n",
            "77/77 [==============================] - 0s 2ms/step - loss: 0.0239\n",
            "Epoch 18/100\n",
            "77/77 [==============================] - 0s 2ms/step - loss: 0.0250\n",
            "Epoch 19/100\n",
            "77/77 [==============================] - 0s 2ms/step - loss: 0.0233\n",
            "Epoch 20/100\n",
            "77/77 [==============================] - 0s 2ms/step - loss: 0.0225\n",
            "Epoch 21/100\n",
            "77/77 [==============================] - 0s 2ms/step - loss: 0.0238\n",
            "Epoch 22/100\n",
            "77/77 [==============================] - 0s 2ms/step - loss: 0.0238\n",
            "Epoch 23/100\n",
            "77/77 [==============================] - 0s 2ms/step - loss: 0.0231\n",
            "Epoch 24/100\n",
            "77/77 [==============================] - 0s 2ms/step - loss: 0.0186\n",
            "Epoch 25/100\n",
            "77/77 [==============================] - 0s 2ms/step - loss: 0.0185\n",
            "Epoch 26/100\n",
            "77/77 [==============================] - 0s 2ms/step - loss: 0.0329\n",
            "Epoch 27/100\n",
            "77/77 [==============================] - 0s 2ms/step - loss: 0.0281\n",
            "Epoch 28/100\n",
            "77/77 [==============================] - 0s 2ms/step - loss: 0.0244\n",
            "Epoch 29/100\n",
            "77/77 [==============================] - 0s 2ms/step - loss: 0.0294\n",
            "Epoch 30/100\n",
            "77/77 [==============================] - 0s 2ms/step - loss: 0.0252\n",
            "Epoch 31/100\n",
            "77/77 [==============================] - 0s 2ms/step - loss: 0.0210\n",
            "Epoch 32/100\n",
            "77/77 [==============================] - 0s 2ms/step - loss: 0.0237\n",
            "Epoch 33/100\n",
            "77/77 [==============================] - 0s 2ms/step - loss: 0.0174\n",
            "Epoch 34/100\n",
            "77/77 [==============================] - 0s 2ms/step - loss: 0.0234\n",
            "Epoch 35/100\n",
            "77/77 [==============================] - 0s 2ms/step - loss: 0.0278\n",
            "Epoch 36/100\n",
            "77/77 [==============================] - 0s 2ms/step - loss: 0.0224\n",
            "Epoch 37/100\n",
            "77/77 [==============================] - 0s 2ms/step - loss: 0.0188\n",
            "Epoch 38/100\n",
            "77/77 [==============================] - 0s 2ms/step - loss: 0.0199\n",
            "Epoch 39/100\n",
            "77/77 [==============================] - 0s 2ms/step - loss: 0.0247\n",
            "Epoch 40/100\n",
            "77/77 [==============================] - 0s 2ms/step - loss: 0.0216\n",
            "Epoch 41/100\n",
            "77/77 [==============================] - 0s 2ms/step - loss: 0.0217\n",
            "Epoch 42/100\n",
            "77/77 [==============================] - 0s 2ms/step - loss: 0.0195\n",
            "Epoch 43/100\n",
            "77/77 [==============================] - 0s 2ms/step - loss: 0.0237\n",
            "Epoch 44/100\n",
            "77/77 [==============================] - 0s 2ms/step - loss: 0.0307\n",
            "Epoch 45/100\n",
            "77/77 [==============================] - 0s 2ms/step - loss: 0.0253\n",
            "Epoch 46/100\n",
            "77/77 [==============================] - 0s 2ms/step - loss: 0.0267\n",
            "Epoch 47/100\n",
            "77/77 [==============================] - 0s 2ms/step - loss: 0.0203\n",
            "Epoch 48/100\n",
            "77/77 [==============================] - 0s 2ms/step - loss: 0.0203\n",
            "Epoch 49/100\n",
            "77/77 [==============================] - 0s 2ms/step - loss: 0.0205\n",
            "Epoch 50/100\n",
            "77/77 [==============================] - 0s 2ms/step - loss: 0.0157\n",
            "Epoch 51/100\n",
            "77/77 [==============================] - 0s 2ms/step - loss: 0.0253\n",
            "Epoch 52/100\n",
            "77/77 [==============================] - 0s 2ms/step - loss: 0.0226\n",
            "Epoch 53/100\n",
            "77/77 [==============================] - 0s 2ms/step - loss: 0.0246\n",
            "Epoch 54/100\n",
            "77/77 [==============================] - 0s 2ms/step - loss: 0.0269\n",
            "Epoch 55/100\n",
            "77/77 [==============================] - 0s 2ms/step - loss: 0.0283\n",
            "Epoch 56/100\n",
            "77/77 [==============================] - 0s 2ms/step - loss: 0.0278\n",
            "Epoch 57/100\n",
            "77/77 [==============================] - 0s 2ms/step - loss: 0.0268\n",
            "Epoch 58/100\n",
            "77/77 [==============================] - 0s 2ms/step - loss: 0.0220\n",
            "Epoch 59/100\n",
            "77/77 [==============================] - 0s 2ms/step - loss: 0.0184\n",
            "Epoch 60/100\n",
            "77/77 [==============================] - 0s 2ms/step - loss: 0.0236\n",
            "Epoch 61/100\n",
            "77/77 [==============================] - 0s 2ms/step - loss: 0.0251\n",
            "Epoch 62/100\n",
            "77/77 [==============================] - 0s 2ms/step - loss: 0.0241\n",
            "Epoch 63/100\n",
            "77/77 [==============================] - 0s 2ms/step - loss: 0.0224\n",
            "Epoch 64/100\n",
            "77/77 [==============================] - 0s 2ms/step - loss: 0.0215\n",
            "Epoch 65/100\n",
            "77/77 [==============================] - 0s 2ms/step - loss: 0.0295\n",
            "Epoch 66/100\n",
            "77/77 [==============================] - 0s 2ms/step - loss: 0.0213\n",
            "Epoch 67/100\n",
            "77/77 [==============================] - 0s 2ms/step - loss: 0.0197\n",
            "Epoch 68/100\n",
            "77/77 [==============================] - 0s 2ms/step - loss: 0.0229\n",
            "Epoch 69/100\n",
            "77/77 [==============================] - 0s 2ms/step - loss: 0.0200\n",
            "Epoch 70/100\n",
            "77/77 [==============================] - 0s 2ms/step - loss: 0.0215\n",
            "Epoch 71/100\n",
            "77/77 [==============================] - 0s 2ms/step - loss: 0.0297\n",
            "Epoch 72/100\n",
            "77/77 [==============================] - 0s 2ms/step - loss: 0.0254\n",
            "Epoch 73/100\n",
            "77/77 [==============================] - 0s 2ms/step - loss: 0.0226\n",
            "Epoch 74/100\n",
            "77/77 [==============================] - 0s 3ms/step - loss: 0.0265\n",
            "Epoch 75/100\n",
            "77/77 [==============================] - 0s 2ms/step - loss: 0.0249\n",
            "Epoch 76/100\n",
            "77/77 [==============================] - 0s 2ms/step - loss: 0.0202\n",
            "Epoch 77/100\n",
            "77/77 [==============================] - 0s 2ms/step - loss: 0.0191\n",
            "Epoch 78/100\n",
            "77/77 [==============================] - 0s 2ms/step - loss: 0.0318\n",
            "Epoch 79/100\n",
            "77/77 [==============================] - 0s 2ms/step - loss: 0.0270\n",
            "Epoch 80/100\n",
            "77/77 [==============================] - 0s 3ms/step - loss: 0.0258\n",
            "Epoch 81/100\n",
            "77/77 [==============================] - 0s 2ms/step - loss: 0.0225\n",
            "Epoch 82/100\n",
            "77/77 [==============================] - 0s 2ms/step - loss: 0.0208\n",
            "Epoch 83/100\n",
            "77/77 [==============================] - 0s 2ms/step - loss: 0.0211\n",
            "Epoch 84/100\n",
            "77/77 [==============================] - 0s 2ms/step - loss: 0.0326\n",
            "Epoch 85/100\n",
            "77/77 [==============================] - 0s 2ms/step - loss: 0.0203\n",
            "Epoch 86/100\n",
            "77/77 [==============================] - 0s 2ms/step - loss: 0.0168\n",
            "Epoch 87/100\n",
            "77/77 [==============================] - 0s 2ms/step - loss: 0.0189\n",
            "Epoch 88/100\n",
            "77/77 [==============================] - 0s 2ms/step - loss: 0.0229\n",
            "Epoch 89/100\n",
            "77/77 [==============================] - 0s 2ms/step - loss: 0.0254\n",
            "Epoch 90/100\n",
            "77/77 [==============================] - 0s 2ms/step - loss: 0.0242\n",
            "Epoch 91/100\n",
            "77/77 [==============================] - 0s 2ms/step - loss: 0.0204\n",
            "Epoch 92/100\n",
            "77/77 [==============================] - 0s 2ms/step - loss: 0.0237\n",
            "Epoch 93/100\n",
            "77/77 [==============================] - 0s 2ms/step - loss: 0.0200\n",
            "Epoch 94/100\n",
            "77/77 [==============================] - 0s 2ms/step - loss: 0.0276\n",
            "Epoch 95/100\n",
            "77/77 [==============================] - 0s 2ms/step - loss: 0.0233\n",
            "Epoch 96/100\n",
            "77/77 [==============================] - 0s 2ms/step - loss: 0.0189\n",
            "Epoch 97/100\n",
            "77/77 [==============================] - 0s 2ms/step - loss: 0.0228\n",
            "Epoch 98/100\n",
            "77/77 [==============================] - 0s 2ms/step - loss: 0.0240\n",
            "Epoch 99/100\n",
            "77/77 [==============================] - 0s 2ms/step - loss: 0.0205\n",
            "Epoch 100/100\n",
            "77/77 [==============================] - 0s 2ms/step - loss: 0.0214\n"
          ],
          "name": "stdout"
        }
      ]
    },
    {
      "cell_type": "code",
      "metadata": {
        "colab": {
          "base_uri": "https://localhost:8080/",
          "height": 367
        },
        "id": "8F4CHAnKSBrP",
        "outputId": "65162175-d4c8-4f38-9e3b-8857c63a5eda"
      },
      "source": [
        "plt.figure(figsize=(8,5))\n",
        "plt.plot(history.history['loss'])\n",
        "plt.xlabel(\"Epochs\")\n",
        "plt.ylabel(\"Loss\")\n",
        "plt.title(\"Model Accuracy\")"
      ],
      "execution_count": 22,
      "outputs": [
        {
          "output_type": "execute_result",
          "data": {
            "text/plain": [
              "Text(0.5, 1.0, 'Model Accuracy')"
            ]
          },
          "metadata": {
            "tags": []
          },
          "execution_count": 22
        },
        {
          "output_type": "display_data",
          "data": {
            "image/png": "[encoded data removed]",
            "text/plain": [
              "<Figure size 576x360 with 1 Axes>"
            ]
          },
          "metadata": {
            "tags": [],
            "needs_background": "light"
          }
        }
      ]
    },
    {
      "cell_type": "code",
      "metadata": {
        "id": "VVtpHZBOsQDU"
      },
      "source": [
        "y_pred = model.predict(X, batch_size=1)"
      ],
      "execution_count": 23,
      "outputs": []
    },
    {
      "cell_type": "markdown",
      "metadata": {
        "id": "fL-vD--bsz8_"
      },
      "source": [
        "To check how well the model performed\n",
        "- inverse transform the forecast for scaling\n",
        "- create a dataframe with the date, original and the predicted data\n",
        "- plot the data"
      ]
    },
    {
      "cell_type": "code",
      "metadata": {
        "colab": {
          "base_uri": "https://localhost:8080/"
        },
        "id": "S4noonb1zlUi",
        "outputId": "9e43a864-da75-4392-93ad-71bce891161e"
      },
      "source": [
        "#inverse transform prediction to get predicted price\n",
        "inverted_y_pred = scaler.inverse_transform(y_pred.reshape(-1, 1) )\n",
        "inverted_y_pred[:5]"
      ],
      "execution_count": 24,
      "outputs": [
        {
          "output_type": "execute_result",
          "data": {
            "text/plain": [
              "array([[138.94383],\n",
              "       [112.11288],\n",
              "       [ 96.56662],\n",
              "       [ 91.83905],\n",
              "       [ 92.08115]], dtype=float32)"
            ]
          },
          "metadata": {
            "tags": []
          },
          "execution_count": 24
        }
      ]
    },
    {
      "cell_type": "code",
      "metadata": {
        "colab": {
          "base_uri": "https://localhost:8080/",
          "height": 204
        },
        "id": "h7OZfEqK0qck",
        "outputId": "7808df94-885a-4f2a-e6d0-0dc615aa2b83"
      },
      "source": [
        "df = pd.DataFrame()\n",
        "\n",
        "df['date'] = petrol.index\n",
        "df['price'] = list(petrol['price'])\n",
        "df['predicted_price'] = inverted_y_pred\n",
        "df.head()"
      ],
      "execution_count": 25,
      "outputs": [
        {
          "output_type": "execute_result",
          "data": {
            "text/html": [
              "<div>\n",
              "<style scoped>\n",
              "    .dataframe tbody tr th:only-of-type {\n",
              "        vertical-align: middle;\n",
              "    }\n",
              "\n",
              "    .dataframe tbody tr th {\n",
              "        vertical-align: top;\n",
              "    }\n",
              "\n",
              "    .dataframe thead th {\n",
              "        text-align: right;\n",
              "    }\n",
              "</style>\n",
              "<table border=\"1\" class=\"dataframe\">\n",
              "  <thead>\n",
              "    <tr style=\"text-align: right;\">\n",
              "      <th></th>\n",
              "      <th>date</th>\n",
              "      <th>price</th>\n",
              "      <th>predicted_price</th>\n",
              "    </tr>\n",
              "  </thead>\n",
              "  <tbody>\n",
              "    <tr>\n",
              "      <th>0</th>\n",
              "      <td>2014-05-15</td>\n",
              "      <td>97.0</td>\n",
              "      <td>138.943832</td>\n",
              "    </tr>\n",
              "    <tr>\n",
              "      <th>1</th>\n",
              "      <td>2014-07-15</td>\n",
              "      <td>97.0</td>\n",
              "      <td>112.112877</td>\n",
              "    </tr>\n",
              "    <tr>\n",
              "      <th>2</th>\n",
              "      <td>2014-08-15</td>\n",
              "      <td>97.0</td>\n",
              "      <td>96.566620</td>\n",
              "    </tr>\n",
              "    <tr>\n",
              "      <th>3</th>\n",
              "      <td>2014-09-15</td>\n",
              "      <td>97.0</td>\n",
              "      <td>91.839050</td>\n",
              "    </tr>\n",
              "    <tr>\n",
              "      <th>4</th>\n",
              "      <td>2014-10-15</td>\n",
              "      <td>97.0</td>\n",
              "      <td>92.081146</td>\n",
              "    </tr>\n",
              "  </tbody>\n",
              "</table>\n",
              "</div>"
            ],
            "text/plain": [
              "        date  price  predicted_price\n",
              "0 2014-05-15   97.0       138.943832\n",
              "1 2014-07-15   97.0       112.112877\n",
              "2 2014-08-15   97.0        96.566620\n",
              "3 2014-09-15   97.0        91.839050\n",
              "4 2014-10-15   97.0        92.081146"
            ]
          },
          "metadata": {
            "tags": []
          },
          "execution_count": 25
        }
      ]
    },
    {
      "cell_type": "code",
      "metadata": {
        "colab": {
          "base_uri": "https://localhost:8080/"
        },
        "id": "Wtk7ufUx0kNN",
        "outputId": "460aad6b-fd3c-41ba-9c67-7860e7f4602a"
      },
      "source": [
        "mean_squared_error(df['price'], df['predicted_price'])"
      ],
      "execution_count": 26,
      "outputs": [
        {
          "output_type": "execute_result",
          "data": {
            "text/plain": [
              "82.15587872867164"
            ]
          },
          "metadata": {
            "tags": []
          },
          "execution_count": 26
        }
      ]
    },
    {
      "cell_type": "code",
      "metadata": {
        "colab": {
          "base_uri": "https://localhost:8080/"
        },
        "id": "S3vy83pYahq3",
        "outputId": "d5c44398-4c80-40e9-a68d-8a658f8ffbb4"
      },
      "source": [
        "#rmse\n",
        "np.sqrt(mean_squared_error(df['price'], df['predicted_price']))"
      ],
      "execution_count": 27,
      "outputs": [
        {
          "output_type": "execute_result",
          "data": {
            "text/plain": [
              "9.063988014592232"
            ]
          },
          "metadata": {
            "tags": []
          },
          "execution_count": 27
        }
      ]
    },
    {
      "cell_type": "code",
      "metadata": {
        "colab": {
          "base_uri": "https://localhost:8080/"
        },
        "id": "jMcJLY1nu_vN",
        "outputId": "c04f25f7-7253-4d1c-ddd3-1c7dbd9d01f6"
      },
      "source": [
        "r2_score(df['price'], df['predicted_price'])"
      ],
      "execution_count": 28,
      "outputs": [
        {
          "output_type": "execute_result",
          "data": {
            "text/plain": [
              "0.8472768034266374"
            ]
          },
          "metadata": {
            "tags": []
          },
          "execution_count": 28
        }
      ]
    },
    {
      "cell_type": "code",
      "metadata": {
        "id": "_U2iu3QyEPot"
      },
      "source": [
        ""
      ],
      "execution_count": 28,
      "outputs": []
    },
    {
      "cell_type": "code",
      "metadata": {
        "colab": {
          "base_uri": "https://localhost:8080/",
          "height": 516
        },
        "id": "AyL7PM7bFWZV",
        "outputId": "103ecfe8-b0d6-4e1e-8b0e-cd4adc59d6b4"
      },
      "source": [
        "df.set_index('date', inplace=True)\n",
        "\n",
        "plt.figure(figsize=(12,8))\n",
        "plt.plot(df['price'], color=\"blue\", label=\"actual\")\n",
        "plt.plot(df['predicted_price'], color=\"red\", label=\"predicted\")\n",
        "plt.title(\"Petrol Price Forecast\")\n",
        "plt.legend()"
      ],
      "execution_count": 29,
      "outputs": [
        {
          "output_type": "execute_result",
          "data": {
            "text/plain": [
              "<matplotlib.legend.Legend at 0x7f808823b0f0>"
            ]
          },
          "metadata": {
            "tags": []
          },
          "execution_count": 29
        },
        {
          "output_type": "display_data",
          "data": {
            "image/png": "[encoded data removed]",
            "text/plain": [
              "<Figure size 864x576 with 1 Axes>"
            ]
          },
          "metadata": {
            "tags": [],
            "needs_background": "light"
          }
        }
      ]
    },
    {
      "cell_type": "markdown",
      "metadata": {
        "id": "wGQbSzq0pdcd"
      },
      "source": [
        "The model did not perform as well as it did on the diesel data here on the petrol data, so it probably needs to more finetuning, but it still did reasonably well with an RMSE Score of 9.06 and r2 score of 84.7% on the existing data."
      ]
    },
    {
      "cell_type": "markdown",
      "metadata": {
        "id": "I3OdYmL1pyIe"
      },
      "source": [
        "## Future Prediction\n",
        "\n",
        "I will be predicting diesel prices 3 years into the future, 2021, 2022, 2023. That is 36 months."
      ]
    },
    {
      "cell_type": "code",
      "metadata": {
        "id": "i3C4LwKRwle7",
        "colab": {
          "base_uri": "https://localhost:8080/"
        },
        "outputId": "2019b82c-d1fd-4402-9d6a-620ac276fb93"
      },
      "source": [
        "num_prediction = 36  #3 years, 36 months\n",
        "\n",
        "price_data = scaler.transform([petrol['price']]).reshape(-1)\n",
        "price_data[:5]"
      ],
      "execution_count": 30,
      "outputs": [
        {
          "output_type": "execute_result",
          "data": {
            "text/plain": [
              "array([-0.81884058, -0.81884058, -0.81884058, -0.81884058, -0.81884058])"
            ]
          },
          "metadata": {
            "tags": []
          },
          "execution_count": 30
        }
      ]
    },
    {
      "cell_type": "code",
      "metadata": {
        "colab": {
          "base_uri": "https://localhost:8080/"
        },
        "id": "onRLMt0zUhYN",
        "outputId": "a1279043-14eb-4e1f-a3c7-b620f5ba9807"
      },
      "source": [
        "price_data.shape"
      ],
      "execution_count": 31,
      "outputs": [
        {
          "output_type": "execute_result",
          "data": {
            "text/plain": [
              "(77,)"
            ]
          },
          "metadata": {
            "tags": []
          },
          "execution_count": 31
        }
      ]
    },
    {
      "cell_type": "code",
      "metadata": {
        "id": "dVRtYEEuUvxU"
      },
      "source": [
        "forecast = utils.forecast(num_prediction, model, price_data, look_back=1)\n",
        "forecast_dates = utils.forecast_dates(petrol, num_prediction, frequency = 'MS')"
      ],
      "execution_count": 32,
      "outputs": []
    },
    {
      "cell_type": "code",
      "metadata": {
        "colab": {
          "base_uri": "https://localhost:8080/"
        },
        "id": "MVAFtGHGVg5Z",
        "scrolled": true,
        "outputId": "79a7eb6c-c548-4b40-97ed-1becc12718aa"
      },
      "source": [
        "forecast_dates[:5]"
      ],
      "execution_count": 33,
      "outputs": [
        {
          "output_type": "execute_result",
          "data": {
            "text/plain": [
              "[Timestamp('2020-12-01 00:00:00', freq='MS'),\n",
              " Timestamp('2021-01-01 00:00:00', freq='MS'),\n",
              " Timestamp('2021-02-01 00:00:00', freq='MS'),\n",
              " Timestamp('2021-03-01 00:00:00', freq='MS'),\n",
              " Timestamp('2021-04-01 00:00:00', freq='MS')]"
            ]
          },
          "metadata": {
            "tags": []
          },
          "execution_count": 33
        }
      ]
    },
    {
      "cell_type": "code",
      "metadata": {
        "colab": {
          "base_uri": "https://localhost:8080/"
        },
        "id": "mDysMn4pVFx9",
        "outputId": "f3431b1e-2302-438d-f2d9-33875b908cf4"
      },
      "source": [
        "forecast"
      ],
      "execution_count": 34,
      "outputs": [
        {
          "output_type": "execute_result",
          "data": {
            "text/plain": [
              "array([0.41304348, 0.47545296, 0.53034258, 0.56871504, 0.59313977,\n",
              "       0.6075151 , 0.61700171, 0.62753385, 0.64513135, 0.6754244 ,\n",
              "       0.72383064, 0.79673672, 0.90420228, 1.06499732, 1.31142974,\n",
              "       1.66577303, 2.03702545, 2.2536602 , 2.33401489, 2.37900019,\n",
              "       2.4268136 , 2.47776461, 2.52220583, 2.55340958, 2.5718298 ,\n",
              "       2.58166456, 2.5867548 , 2.58943796, 2.59092236, 2.5917964 ,\n",
              "       2.59234524, 2.59270334, 2.59294319, 2.59310007, 2.59319782,\n",
              "       2.59324598, 2.59325886])"
            ]
          },
          "metadata": {
            "tags": []
          },
          "execution_count": 34
        }
      ]
    },
    {
      "cell_type": "code",
      "metadata": {
        "colab": {
          "base_uri": "https://localhost:8080/"
        },
        "id": "i3LZZ85xxfo6",
        "outputId": "2313b5d0-1c14-49f2-f2fb-67d6c98a833e"
      },
      "source": [
        "len(forecast_dates)"
      ],
      "execution_count": 35,
      "outputs": [
        {
          "output_type": "execute_result",
          "data": {
            "text/plain": [
              "37"
            ]
          },
          "metadata": {
            "tags": []
          },
          "execution_count": 35
        }
      ]
    },
    {
      "cell_type": "code",
      "metadata": {
        "colab": {
          "base_uri": "https://localhost:8080/"
        },
        "id": "NEU_0hG3VJXP",
        "scrolled": true,
        "outputId": "a1310385-1433-479e-8325-1bc3fad451e7"
      },
      "source": [
        "#inverse transform forecast and reshape\n",
        "forecast = scaler.inverse_transform(forecast.reshape(-1, 1))\n",
        "forecast"
      ],
      "execution_count": 36,
      "outputs": [
        {
          "output_type": "execute_result",
          "data": {
            "text/plain": [
              "array([[165.        ],\n",
              "       [168.44500337],\n",
              "       [171.47491035],\n",
              "       [173.59306998],\n",
              "       [174.94131517],\n",
              "       [175.73483334],\n",
              "       [176.25849452],\n",
              "       [176.83986869],\n",
              "       [177.8112505 ],\n",
              "       [179.48342671],\n",
              "       [182.15545135],\n",
              "       [186.17986679],\n",
              "       [192.11196599],\n",
              "       [200.98785181],\n",
              "       [214.59092159],\n",
              "       [234.15067148],\n",
              "       [254.64380493],\n",
              "       [266.60204315],\n",
              "       [271.03762207],\n",
              "       [273.52081032],\n",
              "       [276.16011086],\n",
              "       [278.97260628],\n",
              "       [281.4257618 ],\n",
              "       [283.14820862],\n",
              "       [284.16500473],\n",
              "       [284.70788383],\n",
              "       [284.9888649 ],\n",
              "       [285.13697548],\n",
              "       [285.21891403],\n",
              "       [285.26716118],\n",
              "       [285.29745712],\n",
              "       [285.3172245 ],\n",
              "       [285.33046417],\n",
              "       [285.33912392],\n",
              "       [285.34451981],\n",
              "       [285.34717827],\n",
              "       [285.34788895]])"
            ]
          },
          "metadata": {
            "tags": []
          },
          "execution_count": 36
        }
      ]
    },
    {
      "cell_type": "code",
      "metadata": {
        "colab": {
          "base_uri": "https://localhost:8080/"
        },
        "id": "1sN3m4EkpyIf",
        "outputId": "b83dd124-063c-4424-9bc2-63d956612d90"
      },
      "source": [
        "len(forecast)"
      ],
      "execution_count": 37,
      "outputs": [
        {
          "output_type": "execute_result",
          "data": {
            "text/plain": [
              "37"
            ]
          },
          "metadata": {
            "tags": []
          },
          "execution_count": 37
        }
      ]
    },
    {
      "cell_type": "code",
      "metadata": {
        "colab": {
          "base_uri": "https://localhost:8080/",
          "height": 235
        },
        "id": "gF6-nYjnpyIf",
        "outputId": "bb9d45ad-2536-428b-8940-56e59752bd10"
      },
      "source": [
        "future = pd.DataFrame()\n",
        "\n",
        "future['date'] = list(forecast_dates)\n",
        "future['predicted_price'] = forecast\n",
        "future.set_index('date', inplace=True)\n",
        "future.head()"
      ],
      "execution_count": 38,
      "outputs": [
        {
          "output_type": "execute_result",
          "data": {
            "text/html": [
              "<div>\n",
              "<style scoped>\n",
              "    .dataframe tbody tr th:only-of-type {\n",
              "        vertical-align: middle;\n",
              "    }\n",
              "\n",
              "    .dataframe tbody tr th {\n",
              "        vertical-align: top;\n",
              "    }\n",
              "\n",
              "    .dataframe thead th {\n",
              "        text-align: right;\n",
              "    }\n",
              "</style>\n",
              "<table border=\"1\" class=\"dataframe\">\n",
              "  <thead>\n",
              "    <tr style=\"text-align: right;\">\n",
              "      <th></th>\n",
              "      <th>predicted_price</th>\n",
              "    </tr>\n",
              "    <tr>\n",
              "      <th>date</th>\n",
              "      <th></th>\n",
              "    </tr>\n",
              "  </thead>\n",
              "  <tbody>\n",
              "    <tr>\n",
              "      <th>2020-12-01</th>\n",
              "      <td>165.000000</td>\n",
              "    </tr>\n",
              "    <tr>\n",
              "      <th>2021-01-01</th>\n",
              "      <td>168.445003</td>\n",
              "    </tr>\n",
              "    <tr>\n",
              "      <th>2021-02-01</th>\n",
              "      <td>171.474910</td>\n",
              "    </tr>\n",
              "    <tr>\n",
              "      <th>2021-03-01</th>\n",
              "      <td>173.593070</td>\n",
              "    </tr>\n",
              "    <tr>\n",
              "      <th>2021-04-01</th>\n",
              "      <td>174.941315</td>\n",
              "    </tr>\n",
              "  </tbody>\n",
              "</table>\n",
              "</div>"
            ],
            "text/plain": [
              "            predicted_price\n",
              "date                       \n",
              "2020-12-01       165.000000\n",
              "2021-01-01       168.445003\n",
              "2021-02-01       171.474910\n",
              "2021-03-01       173.593070\n",
              "2021-04-01       174.941315"
            ]
          },
          "metadata": {
            "tags": []
          },
          "execution_count": 38
        }
      ]
    },
    {
      "cell_type": "code",
      "metadata": {
        "colab": {
          "base_uri": "https://localhost:8080/",
          "height": 499
        },
        "id": "oDCIIduzpyIg",
        "outputId": "1dade363-d121-4c66-e32b-30bcd20826a8"
      },
      "source": [
        "plt.figure(figsize=(12,8))\n",
        "\n",
        "plt.plot(petrol['price'], c='blue', label='past')\n",
        "plt.plot(future, c='red', label='future')\n",
        "plt.title('Future Petrol Price Predictions')\n",
        "plt.legend()\n",
        "plt.show()"
      ],
      "execution_count": 39,
      "outputs": [
        {
          "output_type": "display_data",
          "data": {
            "image/png": "[encoded data removed]",
            "text/plain": [
              "<Figure size 864x576 with 1 Axes>"
            ]
          },
          "metadata": {
            "tags": [],
            "needs_background": "light"
          }
        }
      ]
    },
    {
      "cell_type": "markdown",
      "metadata": {
        "id": "4FkPBJ7bp4Ib"
      },
      "source": [
        "## Conclusion\n",
        "\n",
        "The LSTM Model had an r2 score of 85.75% on the existing data, and has forecasted that petrol prices will increase drastically from 2022 and continue to increase."
      ]
    },
    {
      "cell_type": "code",
      "metadata": {
        "id": "ORw5-eVaqY2-"
      },
      "source": [
        ""
      ],
      "execution_count": 39,
      "outputs": []
    }
  ]
}