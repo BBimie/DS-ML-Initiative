{
  "nbformat": 4,
  "nbformat_minor": 0,
  "metadata": {
    "colab": {
      "name": "Copy of Copy of Diesel Price.ipynb",
      "provenance": [],
      "collapsed_sections": [],
      "toc_visible": true
    },
    "kernelspec": {
      "display_name": "Python 3",
      "language": "python",
      "name": "python3"
    },
    "language_info": {
      "codemirror_mode": {
        "name": "ipython",
        "version": 3
      },
      "file_extension": ".py",
      "mimetype": "text/x-python",
      "name": "python",
      "nbconvert_exporter": "python",
      "pygments_lexer": "ipython3",
      "version": "3.8.5"
    }
  },
  "cells": [
    {
      "cell_type": "markdown",
      "metadata": {
        "id": "PGxh7nnEnTdf"
      },
      "source": [
        "# Diesel Price Forecasting with LSTM"
      ]
    },
    {
      "cell_type": "markdown",
      "metadata": {
        "id": "3O5G7hFtiHuc"
      },
      "source": [
        "## Time Series Forecasting\n",
        "\n",
        "Time series forecasting is a technique for predicting events through a time sequence. The technique is used in many fields of study, from geology to behaviour to economics. Techniques predict future events by analyzing trends from the past, assuming that future trends will hold similar to historical trends.\n",
        "\n",
        "## LSTM\n",
        "LSTM stands for Short Term Long Term Memory. It is a model or an architecture that extends the memory of recurrent neural networks. Typically, recurrent neural networks have “short-term memory” in that they use persistent past information for use in the current neural network. Essentially, the previous information is used in the current task. This means that we do not have a list of all of the previous information available for the neural node."
      ]
    },
    {
      "cell_type": "code",
      "metadata": {
        "id": "hzHWWtzMgrB0"
      },
      "source": [
        "import warnings\n",
        "warnings.filterwarnings('ignore')"
      ],
      "execution_count": null,
      "outputs": []
    },
    {
      "cell_type": "code",
      "metadata": {
        "id": "1Us2SKUJgrB1"
      },
      "source": [
        "import pandas as pd\n",
        "import numpy as np\n",
        "import matplotlib.pyplot as plt\n",
        "\n",
        "from sklearn.metrics import mean_squared_error, r2_score\n",
        "from sklearn.preprocessing import MinMaxScaler\n",
        "\n",
        "import utils"
      ],
      "execution_count": null,
      "outputs": []
    },
    {
      "cell_type": "code",
      "metadata": {
        "id": "Px_1NJ2nTKlt"
      },
      "source": [
        "np.random.seed(1)"
      ],
      "execution_count": null,
      "outputs": []
    },
    {
      "cell_type": "code",
      "metadata": {
        "colab": {
          "base_uri": "https://localhost:8080/",
          "height": 292
        },
        "id": "M8pO-TU2grB1",
        "outputId": "148fd657-044d-4343-944f-05d370a8741d"
      },
      "source": [
        "df = pd.read_csv('wfp_food_prices_nigeria.csv')\n",
        "df.head()"
      ],
      "execution_count": null,
      "outputs": [
        {
          "output_type": "execute_result",
          "data": {
            "text/html": [
              "<div>\n",
              "<style scoped>\n",
              "    .dataframe tbody tr th:only-of-type {\n",
              "        vertical-align: middle;\n",
              "    }\n",
              "\n",
              "    .dataframe tbody tr th {\n",
              "        vertical-align: top;\n",
              "    }\n",
              "\n",
              "    .dataframe thead th {\n",
              "        text-align: right;\n",
              "    }\n",
              "</style>\n",
              "<table border=\"1\" class=\"dataframe\">\n",
              "  <thead>\n",
              "    <tr style=\"text-align: right;\">\n",
              "      <th></th>\n",
              "      <th>date</th>\n",
              "      <th>cmname</th>\n",
              "      <th>unit</th>\n",
              "      <th>category</th>\n",
              "      <th>price</th>\n",
              "      <th>currency</th>\n",
              "      <th>country</th>\n",
              "      <th>admname</th>\n",
              "      <th>adm1id</th>\n",
              "      <th>mktname</th>\n",
              "      <th>mktid</th>\n",
              "      <th>cmid</th>\n",
              "      <th>ptid</th>\n",
              "      <th>umid</th>\n",
              "      <th>catid</th>\n",
              "      <th>sn</th>\n",
              "      <th>default</th>\n",
              "    </tr>\n",
              "  </thead>\n",
              "  <tbody>\n",
              "    <tr>\n",
              "      <th>0</th>\n",
              "      <td>#date</td>\n",
              "      <td>#item+name</td>\n",
              "      <td>#item+unit</td>\n",
              "      <td>#item+type</td>\n",
              "      <td>#value</td>\n",
              "      <td>#currency</td>\n",
              "      <td>#country+name</td>\n",
              "      <td>#adm1+name</td>\n",
              "      <td>#adm1+code</td>\n",
              "      <td>#name+market</td>\n",
              "      <td>NaN</td>\n",
              "      <td>#item+code</td>\n",
              "      <td>NaN</td>\n",
              "      <td>NaN</td>\n",
              "      <td>#item+type+code</td>\n",
              "      <td>#meta+id</td>\n",
              "      <td>NaN</td>\n",
              "    </tr>\n",
              "    <tr>\n",
              "      <th>1</th>\n",
              "      <td>2015-01-15</td>\n",
              "      <td>Bread - Retail</td>\n",
              "      <td>Unit</td>\n",
              "      <td>cereals and tubers</td>\n",
              "      <td>140.0</td>\n",
              "      <td>NGN</td>\n",
              "      <td>Nigeria</td>\n",
              "      <td>Adamawa</td>\n",
              "      <td>2211</td>\n",
              "      <td>Mubi</td>\n",
              "      <td>1980.0</td>\n",
              "      <td>55</td>\n",
              "      <td>15.0</td>\n",
              "      <td>33.0</td>\n",
              "      <td>1</td>\n",
              "      <td>1980_55_15_33</td>\n",
              "      <td>NaN</td>\n",
              "    </tr>\n",
              "    <tr>\n",
              "      <th>2</th>\n",
              "      <td>2015-02-15</td>\n",
              "      <td>Bread - Retail</td>\n",
              "      <td>Unit</td>\n",
              "      <td>cereals and tubers</td>\n",
              "      <td>140.0</td>\n",
              "      <td>NGN</td>\n",
              "      <td>Nigeria</td>\n",
              "      <td>Adamawa</td>\n",
              "      <td>2211</td>\n",
              "      <td>Mubi</td>\n",
              "      <td>1980.0</td>\n",
              "      <td>55</td>\n",
              "      <td>15.0</td>\n",
              "      <td>33.0</td>\n",
              "      <td>1</td>\n",
              "      <td>1980_55_15_33</td>\n",
              "      <td>NaN</td>\n",
              "    </tr>\n",
              "    <tr>\n",
              "      <th>3</th>\n",
              "      <td>2015-03-15</td>\n",
              "      <td>Bread - Retail</td>\n",
              "      <td>Unit</td>\n",
              "      <td>cereals and tubers</td>\n",
              "      <td>140.0</td>\n",
              "      <td>NGN</td>\n",
              "      <td>Nigeria</td>\n",
              "      <td>Adamawa</td>\n",
              "      <td>2211</td>\n",
              "      <td>Mubi</td>\n",
              "      <td>1980.0</td>\n",
              "      <td>55</td>\n",
              "      <td>15.0</td>\n",
              "      <td>33.0</td>\n",
              "      <td>1</td>\n",
              "      <td>1980_55_15_33</td>\n",
              "      <td>NaN</td>\n",
              "    </tr>\n",
              "    <tr>\n",
              "      <th>4</th>\n",
              "      <td>2015-04-15</td>\n",
              "      <td>Bread - Retail</td>\n",
              "      <td>Unit</td>\n",
              "      <td>cereals and tubers</td>\n",
              "      <td>140.0</td>\n",
              "      <td>NGN</td>\n",
              "      <td>Nigeria</td>\n",
              "      <td>Adamawa</td>\n",
              "      <td>2211</td>\n",
              "      <td>Mubi</td>\n",
              "      <td>1980.0</td>\n",
              "      <td>55</td>\n",
              "      <td>15.0</td>\n",
              "      <td>33.0</td>\n",
              "      <td>1</td>\n",
              "      <td>1980_55_15_33</td>\n",
              "      <td>NaN</td>\n",
              "    </tr>\n",
              "  </tbody>\n",
              "</table>\n",
              "</div>"
            ],
            "text/plain": [
              "         date          cmname  ...             sn default\n",
              "0       #date      #item+name  ...       #meta+id     NaN\n",
              "1  2015-01-15  Bread - Retail  ...  1980_55_15_33     NaN\n",
              "2  2015-02-15  Bread - Retail  ...  1980_55_15_33     NaN\n",
              "3  2015-03-15  Bread - Retail  ...  1980_55_15_33     NaN\n",
              "4  2015-04-15  Bread - Retail  ...  1980_55_15_33     NaN\n",
              "\n",
              "[5 rows x 17 columns]"
            ]
          },
          "metadata": {
            "tags": []
          },
          "execution_count": 4
        }
      ]
    },
    {
      "cell_type": "code",
      "metadata": {
        "colab": {
          "base_uri": "https://localhost:8080/"
        },
        "id": "kivVcK0EgrB3",
        "outputId": "4248956a-e372-49d0-dcc1-74561c20adec"
      },
      "source": [
        "df.shape"
      ],
      "execution_count": null,
      "outputs": [
        {
          "output_type": "execute_result",
          "data": {
            "text/plain": [
              "(45577, 17)"
            ]
          },
          "metadata": {
            "tags": []
          },
          "execution_count": 6
        }
      ]
    },
    {
      "cell_type": "code",
      "metadata": {
        "colab": {
          "base_uri": "https://localhost:8080/"
        },
        "id": "1Zw9fIKXgrB3",
        "outputId": "2dd45a36-934e-45c3-87b8-d9755fba890f"
      },
      "source": [
        "df.isnull().sum()"
      ],
      "execution_count": null,
      "outputs": [
        {
          "output_type": "execute_result",
          "data": {
            "text/plain": [
              "date            0\n",
              "cmname          0\n",
              "unit            0\n",
              "category        0\n",
              "price           0\n",
              "currency        0\n",
              "country         0\n",
              "admname         0\n",
              "adm1id          0\n",
              "mktname         0\n",
              "mktid           1\n",
              "cmid            0\n",
              "ptid            1\n",
              "umid            1\n",
              "catid           0\n",
              "sn              0\n",
              "default     45577\n",
              "dtype: int64"
            ]
          },
          "metadata": {
            "tags": []
          },
          "execution_count": 7
        }
      ]
    },
    {
      "cell_type": "code",
      "metadata": {
        "colab": {
          "base_uri": "https://localhost:8080/"
        },
        "id": "iFTOjrY7grB3",
        "outputId": "54e883d5-e480-4f90-f9d4-3275130de5a1"
      },
      "source": [
        "df['cmname'].unique()"
      ],
      "execution_count": null,
      "outputs": [
        {
          "output_type": "execute_result",
          "data": {
            "text/plain": [
              "array(['#item+name', 'Bread - Retail', 'Oil (palm) - Wholesale',\n",
              "       'Oil (palm) - Retail', 'Rice (imported) - Wholesale',\n",
              "       'Rice (imported) - Retail', 'Maize (white) - Wholesale',\n",
              "       'Maize (white) - Retail', 'Rice (local) - Wholesale',\n",
              "       'Rice (local) - Retail', 'Millet - Wholesale', 'Millet - Retail',\n",
              "       'Yam - Wholesale', 'Yam - Retail',\n",
              "       'Groundnuts (shelled) - Wholesale',\n",
              "       'Groundnuts (shelled) - Retail', 'Sorghum (white) - Wholesale',\n",
              "       'Sorghum (white) - Retail', 'Maize (yellow) - Wholesale',\n",
              "       'Maize (yellow) - Retail', 'Fuel (diesel) - Retail',\n",
              "       'Fuel (petrol-gasoline) - Retail', 'Cowpeas (white) - Wholesale',\n",
              "       'Cowpeas (white) - Retail', 'Cowpeas (brown) - Wholesale',\n",
              "       'Cowpeas (brown) - Retail', 'Sorghum (brown) - Wholesale',\n",
              "       'Sorghum (brown) - Retail',\n",
              "       'Cassava meal (gari, yellow) - Wholesale',\n",
              "       'Cassava meal (gari, yellow) - Retail', 'Gari (white) - Wholesale',\n",
              "       'Gari (white) - Retail', 'Maize - Wholesale',\n",
              "       'Sorghum - Wholesale', 'Wheat - Wholesale',\n",
              "       'Rice (milled, local) - Wholesale', 'Sorghum - Retail',\n",
              "       'Beans (white) - Retail', 'Maize flour - Retail',\n",
              "       'Beans (red) - Retail', 'Milk - Retail', 'Eggs - Retail',\n",
              "       'Oil (vegetable) - Retail', 'Sugar - Retail', 'Tomatoes - Retail',\n",
              "       'Fish - Retail', 'Meat (beef) - Retail', 'Groundnuts - Retail',\n",
              "       'Onions - Retail', 'Salt - Retail', 'Cowpeas - Retail',\n",
              "       'Bananas - Retail', 'Oranges - Retail', 'Spinach - Retail',\n",
              "       'Meat (goat) - Retail', 'Watermelons - Retail',\n",
              "       'Beans (niebe) - Wholesale', 'Yam (Abuja) - Wholesale',\n",
              "       'Yam (Abuja) - Retail'], dtype=object)"
            ]
          },
          "metadata": {
            "tags": []
          },
          "execution_count": 8
        }
      ]
    },
    {
      "cell_type": "markdown",
      "metadata": {
        "id": "JNic5TPJrTgR"
      },
      "source": [
        "I am only interested in the Diesel commodity.\n",
        "It is written as 'Fuel (diesel) - Retail' under in cmname column"
      ]
    },
    {
      "cell_type": "code",
      "metadata": {
        "id": "ajpsTacUgrB4",
        "colab": {
          "base_uri": "https://localhost:8080/",
          "height": 235
        },
        "outputId": "f479a02b-055f-4169-871b-0edc3d331bf4"
      },
      "source": [
        "#extract the diesel price data from the main dataset\n",
        "_, diesel = utils.process_data(df, 'Fuel (diesel) - Retail')\n",
        "diesel.head()"
      ],
      "execution_count": null,
      "outputs": [
        {
          "output_type": "execute_result",
          "data": {
            "text/html": [
              "<div>\n",
              "<style scoped>\n",
              "    .dataframe tbody tr th:only-of-type {\n",
              "        vertical-align: middle;\n",
              "    }\n",
              "\n",
              "    .dataframe tbody tr th {\n",
              "        vertical-align: top;\n",
              "    }\n",
              "\n",
              "    .dataframe thead th {\n",
              "        text-align: right;\n",
              "    }\n",
              "</style>\n",
              "<table border=\"1\" class=\"dataframe\">\n",
              "  <thead>\n",
              "    <tr style=\"text-align: right;\">\n",
              "      <th></th>\n",
              "      <th>price</th>\n",
              "    </tr>\n",
              "    <tr>\n",
              "      <th>date</th>\n",
              "      <th></th>\n",
              "    </tr>\n",
              "  </thead>\n",
              "  <tbody>\n",
              "    <tr>\n",
              "      <th>2014-05-15</th>\n",
              "      <td>155.00</td>\n",
              "    </tr>\n",
              "    <tr>\n",
              "      <th>2014-07-15</th>\n",
              "      <td>160.00</td>\n",
              "    </tr>\n",
              "    <tr>\n",
              "      <th>2014-08-15</th>\n",
              "      <td>160.00</td>\n",
              "    </tr>\n",
              "    <tr>\n",
              "      <th>2014-09-15</th>\n",
              "      <td>158.50</td>\n",
              "    </tr>\n",
              "    <tr>\n",
              "      <th>2014-10-15</th>\n",
              "      <td>159.25</td>\n",
              "    </tr>\n",
              "  </tbody>\n",
              "</table>\n",
              "</div>"
            ],
            "text/plain": [
              "             price\n",
              "date              \n",
              "2014-05-15  155.00\n",
              "2014-07-15  160.00\n",
              "2014-08-15  160.00\n",
              "2014-09-15  158.50\n",
              "2014-10-15  159.25"
            ]
          },
          "metadata": {
            "tags": []
          },
          "execution_count": 9
        }
      ]
    },
    {
      "cell_type": "code",
      "metadata": {
        "colab": {
          "base_uri": "https://localhost:8080/"
        },
        "id": "qyw4U9gwPfl9",
        "outputId": "fd97a487-2701-476c-af4e-2f19374c1b16"
      },
      "source": [
        "diesel.info()"
      ],
      "execution_count": null,
      "outputs": [
        {
          "output_type": "stream",
          "text": [
            "<class 'pandas.core.frame.DataFrame'>\n",
            "DatetimeIndex: 77 entries, 2014-05-15 to 2020-11-15\n",
            "Data columns (total 1 columns):\n",
            " #   Column  Non-Null Count  Dtype  \n",
            "---  ------  --------------  -----  \n",
            " 0   price   77 non-null     float64\n",
            "dtypes: float64(1)\n",
            "memory usage: 1.2 KB\n"
          ],
          "name": "stdout"
        }
      ]
    },
    {
      "cell_type": "code",
      "metadata": {
        "colab": {
          "base_uri": "https://localhost:8080/",
          "height": 297
        },
        "id": "01FSMCWYl5WB",
        "outputId": "e13fa324-e52e-41f5-8082-11ea80a9c92a"
      },
      "source": [
        "diesel.describe()"
      ],
      "execution_count": null,
      "outputs": [
        {
          "output_type": "execute_result",
          "data": {
            "text/html": [
              "<div>\n",
              "<style scoped>\n",
              "    .dataframe tbody tr th:only-of-type {\n",
              "        vertical-align: middle;\n",
              "    }\n",
              "\n",
              "    .dataframe tbody tr th {\n",
              "        vertical-align: top;\n",
              "    }\n",
              "\n",
              "    .dataframe thead th {\n",
              "        text-align: right;\n",
              "    }\n",
              "</style>\n",
              "<table border=\"1\" class=\"dataframe\">\n",
              "  <thead>\n",
              "    <tr style=\"text-align: right;\">\n",
              "      <th></th>\n",
              "      <th>price</th>\n",
              "    </tr>\n",
              "  </thead>\n",
              "  <tbody>\n",
              "    <tr>\n",
              "      <th>count</th>\n",
              "      <td>77.000000</td>\n",
              "    </tr>\n",
              "    <tr>\n",
              "      <th>mean</th>\n",
              "      <td>195.632957</td>\n",
              "    </tr>\n",
              "    <tr>\n",
              "      <th>std</th>\n",
              "      <td>35.050283</td>\n",
              "    </tr>\n",
              "    <tr>\n",
              "      <th>min</th>\n",
              "      <td>130.000000</td>\n",
              "    </tr>\n",
              "    <tr>\n",
              "      <th>25%</th>\n",
              "      <td>159.250000</td>\n",
              "    </tr>\n",
              "    <tr>\n",
              "      <th>50%</th>\n",
              "      <td>204.500000</td>\n",
              "    </tr>\n",
              "    <tr>\n",
              "      <th>75%</th>\n",
              "      <td>229.500000</td>\n",
              "    </tr>\n",
              "    <tr>\n",
              "      <th>max</th>\n",
              "      <td>262.000000</td>\n",
              "    </tr>\n",
              "  </tbody>\n",
              "</table>\n",
              "</div>"
            ],
            "text/plain": [
              "            price\n",
              "count   77.000000\n",
              "mean   195.632957\n",
              "std     35.050283\n",
              "min    130.000000\n",
              "25%    159.250000\n",
              "50%    204.500000\n",
              "75%    229.500000\n",
              "max    262.000000"
            ]
          },
          "metadata": {
            "tags": []
          },
          "execution_count": 11
        }
      ]
    },
    {
      "cell_type": "markdown",
      "metadata": {
        "id": "Ps5PfUVIlqG6"
      },
      "source": [
        "The diesel dataset has 77 entries, that is 77 months in the last 7 years (2014 - 2020)."
      ]
    },
    {
      "cell_type": "code",
      "metadata": {
        "colab": {
          "base_uri": "https://localhost:8080/",
          "height": 286
        },
        "id": "H9gEuyYE82BM",
        "outputId": "f90dc662-976d-46f6-b0d1-5788a4c316d1"
      },
      "source": [
        "diesel.plot()"
      ],
      "execution_count": null,
      "outputs": [
        {
          "output_type": "execute_result",
          "data": {
            "text/plain": [
              "<matplotlib.axes._subplots.AxesSubplot at 0x7fecd76e3940>"
            ]
          },
          "metadata": {
            "tags": []
          },
          "execution_count": 12
        },
        {
          "output_type": "display_data",
          "data": {
            "image/png": "[encoded data removed]",
            "text/plain": [
              "<Figure size 432x288 with 1 Axes>"
            ]
          },
          "metadata": {
            "tags": [],
            "needs_background": "light"
          }
        }
      ]
    },
    {
      "cell_type": "code",
      "metadata": {
        "colab": {
          "base_uri": "https://localhost:8080/"
        },
        "id": "4UOZB3UultG5",
        "outputId": "95c1347b-a2f8-42a6-f3f2-e00179a8db87"
      },
      "source": [
        "diesel['price'][:5]"
      ],
      "execution_count": null,
      "outputs": [
        {
          "output_type": "execute_result",
          "data": {
            "text/plain": [
              "date\n",
              "2014-05-15    155.00\n",
              "2014-07-15    160.00\n",
              "2014-08-15    160.00\n",
              "2014-09-15    158.50\n",
              "2014-10-15    159.25\n",
              "Name: price, dtype: float64"
            ]
          },
          "metadata": {
            "tags": []
          },
          "execution_count": 13
        }
      ]
    },
    {
      "cell_type": "code",
      "metadata": {
        "colab": {
          "base_uri": "https://localhost:8080/"
        },
        "id": "cLIfw0PEpyIa",
        "outputId": "96ee0c02-d8ce-4e24-b56b-bf8fa934eabe"
      },
      "source": [
        "price = diesel['price'].values.reshape(-1, 1)\n",
        "price[:5]"
      ],
      "execution_count": null,
      "outputs": [
        {
          "output_type": "execute_result",
          "data": {
            "text/plain": [
              "array([[155.  ],\n",
              "       [160.  ],\n",
              "       [160.  ],\n",
              "       [158.5 ],\n",
              "       [159.25]])"
            ]
          },
          "metadata": {
            "tags": []
          },
          "execution_count": 14
        }
      ]
    },
    {
      "cell_type": "code",
      "metadata": {
        "id": "Ti-DARt1rXWY"
      },
      "source": [
        "#initialize scaler\n",
        "scaler = MinMaxScaler(feature_range=(-1, 1))\n",
        "\n",
        "scaler = scaler.fit(price)"
      ],
      "execution_count": null,
      "outputs": []
    },
    {
      "cell_type": "code",
      "metadata": {
        "id": "36S3nk5PqqPt",
        "colab": {
          "base_uri": "https://localhost:8080/"
        },
        "outputId": "f03c0ffd-6fda-4a6f-d2c5-adf5d2e8fa9a"
      },
      "source": [
        "#scale data\n",
        "scaled_data = scaler.transform(price)\n",
        "scaled_data[:5]"
      ],
      "execution_count": null,
      "outputs": [
        {
          "output_type": "execute_result",
          "data": {
            "text/plain": [
              "array([[-0.62121212],\n",
              "       [-0.54545455],\n",
              "       [-0.54545455],\n",
              "       [-0.56818182],\n",
              "       [-0.55681818]])"
            ]
          },
          "metadata": {
            "tags": []
          },
          "execution_count": 16
        }
      ]
    },
    {
      "cell_type": "code",
      "metadata": {
        "colab": {
          "base_uri": "https://localhost:8080/"
        },
        "id": "0yOp8qIAtcbG",
        "outputId": "5fe6ddf5-25c7-464a-d42c-a84825fa5aaf"
      },
      "source": [
        "scaled_data.shape"
      ],
      "execution_count": null,
      "outputs": [
        {
          "output_type": "execute_result",
          "data": {
            "text/plain": [
              "(77, 1)"
            ]
          },
          "metadata": {
            "tags": []
          },
          "execution_count": 17
        }
      ]
    },
    {
      "cell_type": "markdown",
      "metadata": {
        "id": "irWW3zQToEOo"
      },
      "source": [
        "To be able to predict with a neural network, data needs to be converted from time series to supervised learning.\n",
        "\n",
        "This can be done by creating look back features from the data. Here, I used a lookback/ lag value of 1."
      ]
    },
    {
      "cell_type": "code",
      "metadata": {
        "colab": {
          "base_uri": "https://localhost:8080/",
          "height": 204
        },
        "id": "FrZLxJmuOecn",
        "outputId": "4b04fc87-59d3-4207-d80f-91f530da43ea"
      },
      "source": [
        "#make into supervised learning data\n",
        "data_with_lag = utils.timeseries_to_supervised(scaled_data)\n",
        "data_with_lag.columns = ['lag_1', 'price']\n",
        "data_with_lag.head()"
      ],
      "execution_count": null,
      "outputs": [
        {
          "output_type": "execute_result",
          "data": {
            "text/html": [
              "<div>\n",
              "<style scoped>\n",
              "    .dataframe tbody tr th:only-of-type {\n",
              "        vertical-align: middle;\n",
              "    }\n",
              "\n",
              "    .dataframe tbody tr th {\n",
              "        vertical-align: top;\n",
              "    }\n",
              "\n",
              "    .dataframe thead th {\n",
              "        text-align: right;\n",
              "    }\n",
              "</style>\n",
              "<table border=\"1\" class=\"dataframe\">\n",
              "  <thead>\n",
              "    <tr style=\"text-align: right;\">\n",
              "      <th></th>\n",
              "      <th>lag_1</th>\n",
              "      <th>price</th>\n",
              "    </tr>\n",
              "  </thead>\n",
              "  <tbody>\n",
              "    <tr>\n",
              "      <th>0</th>\n",
              "      <td>0.000000</td>\n",
              "      <td>-0.621212</td>\n",
              "    </tr>\n",
              "    <tr>\n",
              "      <th>1</th>\n",
              "      <td>-0.621212</td>\n",
              "      <td>-0.545455</td>\n",
              "    </tr>\n",
              "    <tr>\n",
              "      <th>2</th>\n",
              "      <td>-0.545455</td>\n",
              "      <td>-0.545455</td>\n",
              "    </tr>\n",
              "    <tr>\n",
              "      <th>3</th>\n",
              "      <td>-0.545455</td>\n",
              "      <td>-0.568182</td>\n",
              "    </tr>\n",
              "    <tr>\n",
              "      <th>4</th>\n",
              "      <td>-0.568182</td>\n",
              "      <td>-0.556818</td>\n",
              "    </tr>\n",
              "  </tbody>\n",
              "</table>\n",
              "</div>"
            ],
            "text/plain": [
              "      lag_1     price\n",
              "0  0.000000 -0.621212\n",
              "1 -0.621212 -0.545455\n",
              "2 -0.545455 -0.545455\n",
              "3 -0.545455 -0.568182\n",
              "4 -0.568182 -0.556818"
            ]
          },
          "metadata": {
            "tags": []
          },
          "execution_count": 18
        }
      ]
    },
    {
      "cell_type": "markdown",
      "metadata": {
        "id": "uWxg-gdVXrFP"
      },
      "source": [
        "The model expects the input shape to be three-dimensional with \n",
        "`[samples, timesteps, features]`, therefore, we must reshape the single input sample before making the prediction."
      ]
    },
    {
      "cell_type": "code",
      "metadata": {
        "id": "AyF8_8PWqGo8"
      },
      "source": [
        "#separate into feature and target sets\n",
        "X, y = utils.feature_target(data_with_lag)"
      ],
      "execution_count": null,
      "outputs": []
    },
    {
      "cell_type": "code",
      "metadata": {
        "colab": {
          "base_uri": "https://localhost:8080/"
        },
        "id": "1koZp9ndq9Vb",
        "outputId": "247b1945-119f-4a3b-8a15-82f2d14cb3b3"
      },
      "source": [
        "X[:5]"
      ],
      "execution_count": null,
      "outputs": [
        {
          "output_type": "execute_result",
          "data": {
            "text/plain": [
              "array([[[-0.62121212]],\n",
              "\n",
              "       [[-0.54545455]],\n",
              "\n",
              "       [[-0.54545455]],\n",
              "\n",
              "       [[-0.56818182]],\n",
              "\n",
              "       [[-0.55681818]]])"
            ]
          },
          "metadata": {
            "tags": []
          },
          "execution_count": 20
        }
      ]
    },
    {
      "cell_type": "code",
      "metadata": {
        "colab": {
          "base_uri": "https://localhost:8080/"
        },
        "id": "JafPn3Txrvop",
        "outputId": "146f5a2b-512a-4e11-d565-d98eb606e843"
      },
      "source": [
        "y[:5]"
      ],
      "execution_count": null,
      "outputs": [
        {
          "output_type": "execute_result",
          "data": {
            "text/plain": [
              "array([[ 0.        ],\n",
              "       [-0.62121212],\n",
              "       [-0.54545455],\n",
              "       [-0.54545455],\n",
              "       [-0.56818182]])"
            ]
          },
          "metadata": {
            "tags": []
          },
          "execution_count": 21
        }
      ]
    },
    {
      "cell_type": "code",
      "metadata": {
        "colab": {
          "base_uri": "https://localhost:8080/"
        },
        "id": "unSLcoq2slvk",
        "outputId": "5f5c238d-57ab-4c8f-b72e-b1d812a7fc4a"
      },
      "source": [
        "X.shape"
      ],
      "execution_count": null,
      "outputs": [
        {
          "output_type": "execute_result",
          "data": {
            "text/plain": [
              "(77, 1, 1)"
            ]
          },
          "metadata": {
            "tags": []
          },
          "execution_count": 22
        }
      ]
    },
    {
      "cell_type": "markdown",
      "metadata": {
        "id": "7uH3ZNrPr5Gt"
      },
      "source": [
        "Build LSTM Model"
      ]
    },
    {
      "cell_type": "code",
      "metadata": {
        "id": "wPvfXwnmrppM"
      },
      "source": [
        "model = utils.build_LSTM(X)"
      ],
      "execution_count": null,
      "outputs": []
    },
    {
      "cell_type": "code",
      "metadata": {
        "colab": {
          "base_uri": "https://localhost:8080/"
        },
        "id": "bFe69SOsguBQ",
        "outputId": "694bc3ac-be20-4217-de7f-3b62ea686985"
      },
      "source": [
        "model.summary()"
      ],
      "execution_count": null,
      "outputs": [
        {
          "output_type": "stream",
          "text": [
            "Model: \"sequential\"\n",
            "_________________________________________________________________\n",
            "Layer (type)                 Output Shape              Param #   \n",
            "=================================================================\n",
            "lstm (LSTM)                  (1, 1, 50)                10400     \n",
            "_________________________________________________________________\n",
            "dropout (Dropout)            (1, 1, 50)                0         \n",
            "_________________________________________________________________\n",
            "lstm_1 (LSTM)                (1, 100)                  60400     \n",
            "_________________________________________________________________\n",
            "dropout_1 (Dropout)          (1, 100)                  0         \n",
            "_________________________________________________________________\n",
            "dense (Dense)                (1, 1)                    101       \n",
            "=================================================================\n",
            "Total params: 70,901\n",
            "Trainable params: 70,901\n",
            "Non-trainable params: 0\n",
            "_________________________________________________________________\n"
          ],
          "name": "stdout"
        }
      ]
    },
    {
      "cell_type": "code",
      "metadata": {
        "colab": {
          "base_uri": "https://localhost:8080/"
        },
        "id": "LUhR2NRQsCn2",
        "outputId": "4fc32570-7deb-4352-9d67-8846308d89d5"
      },
      "source": [
        "history = model.fit(X, y, epochs=100, batch_size=1, verbose=1, shuffle=False)"
      ],
      "execution_count": null,
      "outputs": [
        {
          "output_type": "stream",
          "text": [
            "Epoch 1/100\n",
            "77/77 [==============================] - 3s 2ms/step - loss: 0.1538\n",
            "Epoch 2/100\n",
            "77/77 [==============================] - 0s 2ms/step - loss: 0.1060\n",
            "Epoch 3/100\n",
            "77/77 [==============================] - 0s 2ms/step - loss: 0.0397\n",
            "Epoch 4/100\n",
            "77/77 [==============================] - 0s 3ms/step - loss: 0.0412\n",
            "Epoch 5/100\n",
            "77/77 [==============================] - 0s 2ms/step - loss: 0.0342\n",
            "Epoch 6/100\n",
            "77/77 [==============================] - 0s 2ms/step - loss: 0.0217\n",
            "Epoch 7/100\n",
            "77/77 [==============================] - 0s 2ms/step - loss: 0.0279\n",
            "Epoch 8/100\n",
            "77/77 [==============================] - 0s 3ms/step - loss: 0.0207\n",
            "Epoch 9/100\n",
            "77/77 [==============================] - 0s 2ms/step - loss: 0.0203\n",
            "Epoch 10/100\n",
            "77/77 [==============================] - 0s 2ms/step - loss: 0.0227\n",
            "Epoch 11/100\n",
            "77/77 [==============================] - 0s 2ms/step - loss: 0.0174\n",
            "Epoch 12/100\n",
            "77/77 [==============================] - 0s 2ms/step - loss: 0.0194\n",
            "Epoch 13/100\n",
            "77/77 [==============================] - 0s 2ms/step - loss: 0.0174\n",
            "Epoch 14/100\n",
            "77/77 [==============================] - 0s 2ms/step - loss: 0.0147\n",
            "Epoch 15/100\n",
            "77/77 [==============================] - 0s 3ms/step - loss: 0.0198\n",
            "Epoch 16/100\n",
            "77/77 [==============================] - 0s 4ms/step - loss: 0.0234\n",
            "Epoch 17/100\n",
            "77/77 [==============================] - 0s 3ms/step - loss: 0.0197\n",
            "Epoch 18/100\n",
            "77/77 [==============================] - 0s 2ms/step - loss: 0.0185\n",
            "Epoch 19/100\n",
            "77/77 [==============================] - 0s 2ms/step - loss: 0.0189\n",
            "Epoch 20/100\n",
            "77/77 [==============================] - 0s 2ms/step - loss: 0.0147\n",
            "Epoch 21/100\n",
            "77/77 [==============================] - 0s 2ms/step - loss: 0.0179\n",
            "Epoch 22/100\n",
            "77/77 [==============================] - 0s 2ms/step - loss: 0.0217\n",
            "Epoch 23/100\n",
            "77/77 [==============================] - 0s 2ms/step - loss: 0.0195\n",
            "Epoch 24/100\n",
            "77/77 [==============================] - 0s 2ms/step - loss: 0.0184\n",
            "Epoch 25/100\n",
            "77/77 [==============================] - 0s 3ms/step - loss: 0.0197\n",
            "Epoch 26/100\n",
            "77/77 [==============================] - 0s 2ms/step - loss: 0.0194\n",
            "Epoch 27/100\n",
            "77/77 [==============================] - 0s 2ms/step - loss: 0.0188\n",
            "Epoch 28/100\n",
            "77/77 [==============================] - 0s 2ms/step - loss: 0.0122\n",
            "Epoch 29/100\n",
            "77/77 [==============================] - 0s 2ms/step - loss: 0.0167\n",
            "Epoch 30/100\n",
            "77/77 [==============================] - 0s 3ms/step - loss: 0.0177\n",
            "Epoch 31/100\n",
            "77/77 [==============================] - 0s 2ms/step - loss: 0.0176\n",
            "Epoch 32/100\n",
            "77/77 [==============================] - 0s 2ms/step - loss: 0.0157\n",
            "Epoch 33/100\n",
            "77/77 [==============================] - 0s 2ms/step - loss: 0.0170\n",
            "Epoch 34/100\n",
            "77/77 [==============================] - 0s 2ms/step - loss: 0.0169\n",
            "Epoch 35/100\n",
            "77/77 [==============================] - 0s 3ms/step - loss: 0.0164\n",
            "Epoch 36/100\n",
            "77/77 [==============================] - 0s 2ms/step - loss: 0.0198\n",
            "Epoch 37/100\n",
            "77/77 [==============================] - 0s 3ms/step - loss: 0.0162\n",
            "Epoch 38/100\n",
            "77/77 [==============================] - 0s 2ms/step - loss: 0.0199\n",
            "Epoch 39/100\n",
            "77/77 [==============================] - 0s 3ms/step - loss: 0.0155\n",
            "Epoch 40/100\n",
            "77/77 [==============================] - 0s 2ms/step - loss: 0.0166\n",
            "Epoch 41/100\n",
            "77/77 [==============================] - 0s 2ms/step - loss: 0.0174\n",
            "Epoch 42/100\n",
            "77/77 [==============================] - 0s 3ms/step - loss: 0.0156\n",
            "Epoch 43/100\n",
            "77/77 [==============================] - 0s 3ms/step - loss: 0.0140\n",
            "Epoch 44/100\n",
            "77/77 [==============================] - 0s 3ms/step - loss: 0.0154\n",
            "Epoch 45/100\n",
            "77/77 [==============================] - 0s 3ms/step - loss: 0.0168\n",
            "Epoch 46/100\n",
            "77/77 [==============================] - 0s 3ms/step - loss: 0.0160\n",
            "Epoch 47/100\n",
            "77/77 [==============================] - 0s 2ms/step - loss: 0.0199\n",
            "Epoch 48/100\n",
            "77/77 [==============================] - 0s 2ms/step - loss: 0.0153\n",
            "Epoch 49/100\n",
            "77/77 [==============================] - 0s 2ms/step - loss: 0.0187\n",
            "Epoch 50/100\n",
            "77/77 [==============================] - 0s 3ms/step - loss: 0.0157\n",
            "Epoch 51/100\n",
            "77/77 [==============================] - 0s 2ms/step - loss: 0.0158\n",
            "Epoch 52/100\n",
            "77/77 [==============================] - 0s 3ms/step - loss: 0.0181\n",
            "Epoch 53/100\n",
            "77/77 [==============================] - 0s 3ms/step - loss: 0.0147\n",
            "Epoch 54/100\n",
            "77/77 [==============================] - 0s 3ms/step - loss: 0.0172\n",
            "Epoch 55/100\n",
            "77/77 [==============================] - 0s 3ms/step - loss: 0.0172\n",
            "Epoch 56/100\n",
            "77/77 [==============================] - 0s 2ms/step - loss: 0.0156\n",
            "Epoch 57/100\n",
            "77/77 [==============================] - 0s 2ms/step - loss: 0.0159\n",
            "Epoch 58/100\n",
            "77/77 [==============================] - 0s 3ms/step - loss: 0.0141\n",
            "Epoch 59/100\n",
            "77/77 [==============================] - 0s 2ms/step - loss: 0.0165\n",
            "Epoch 60/100\n",
            "77/77 [==============================] - 0s 3ms/step - loss: 0.0186\n",
            "Epoch 61/100\n",
            "77/77 [==============================] - 0s 2ms/step - loss: 0.0168\n",
            "Epoch 62/100\n",
            "77/77 [==============================] - 0s 3ms/step - loss: 0.0153\n",
            "Epoch 63/100\n",
            "77/77 [==============================] - 0s 2ms/step - loss: 0.0170\n",
            "Epoch 64/100\n",
            "77/77 [==============================] - 0s 2ms/step - loss: 0.0183\n",
            "Epoch 65/100\n",
            "77/77 [==============================] - 0s 2ms/step - loss: 0.0191\n",
            "Epoch 66/100\n",
            "77/77 [==============================] - 0s 2ms/step - loss: 0.0152\n",
            "Epoch 67/100\n",
            "77/77 [==============================] - 0s 2ms/step - loss: 0.0143\n",
            "Epoch 68/100\n",
            "77/77 [==============================] - 0s 2ms/step - loss: 0.0178\n",
            "Epoch 69/100\n",
            "77/77 [==============================] - 0s 2ms/step - loss: 0.0197\n",
            "Epoch 70/100\n",
            "77/77 [==============================] - 0s 2ms/step - loss: 0.0198\n",
            "Epoch 71/100\n",
            "77/77 [==============================] - 0s 2ms/step - loss: 0.0159\n",
            "Epoch 72/100\n",
            "77/77 [==============================] - 0s 2ms/step - loss: 0.0222\n",
            "Epoch 73/100\n",
            "77/77 [==============================] - 0s 2ms/step - loss: 0.0176\n",
            "Epoch 74/100\n",
            "77/77 [==============================] - 0s 3ms/step - loss: 0.0210\n",
            "Epoch 75/100\n",
            "77/77 [==============================] - 0s 2ms/step - loss: 0.0202\n",
            "Epoch 76/100\n",
            "77/77 [==============================] - 0s 3ms/step - loss: 0.0170\n",
            "Epoch 77/100\n",
            "77/77 [==============================] - 0s 2ms/step - loss: 0.0176\n",
            "Epoch 78/100\n",
            "77/77 [==============================] - 0s 3ms/step - loss: 0.0225\n",
            "Epoch 79/100\n",
            "77/77 [==============================] - 0s 3ms/step - loss: 0.0196\n",
            "Epoch 80/100\n",
            "77/77 [==============================] - 0s 2ms/step - loss: 0.0174\n",
            "Epoch 81/100\n",
            "77/77 [==============================] - 0s 3ms/step - loss: 0.0185\n",
            "Epoch 82/100\n",
            "77/77 [==============================] - 0s 2ms/step - loss: 0.0192\n",
            "Epoch 83/100\n",
            "77/77 [==============================] - 0s 2ms/step - loss: 0.0163\n",
            "Epoch 84/100\n",
            "77/77 [==============================] - 0s 2ms/step - loss: 0.0149\n",
            "Epoch 85/100\n",
            "77/77 [==============================] - 0s 2ms/step - loss: 0.0235\n",
            "Epoch 86/100\n",
            "77/77 [==============================] - 0s 2ms/step - loss: 0.0204\n",
            "Epoch 87/100\n",
            "77/77 [==============================] - 0s 3ms/step - loss: 0.0172\n",
            "Epoch 88/100\n",
            "77/77 [==============================] - 0s 2ms/step - loss: 0.0253\n",
            "Epoch 89/100\n",
            "77/77 [==============================] - 0s 2ms/step - loss: 0.0198\n",
            "Epoch 90/100\n",
            "77/77 [==============================] - 0s 2ms/step - loss: 0.0181\n",
            "Epoch 91/100\n",
            "77/77 [==============================] - 0s 2ms/step - loss: 0.0236\n",
            "Epoch 92/100\n",
            "77/77 [==============================] - 0s 2ms/step - loss: 0.0237\n",
            "Epoch 93/100\n",
            "77/77 [==============================] - 0s 2ms/step - loss: 0.0208\n",
            "Epoch 94/100\n",
            "77/77 [==============================] - 0s 2ms/step - loss: 0.0219\n",
            "Epoch 95/100\n",
            "77/77 [==============================] - 0s 2ms/step - loss: 0.0230\n",
            "Epoch 96/100\n",
            "77/77 [==============================] - 0s 3ms/step - loss: 0.0251\n",
            "Epoch 97/100\n",
            "77/77 [==============================] - 0s 3ms/step - loss: 0.0193\n",
            "Epoch 98/100\n",
            "77/77 [==============================] - 0s 3ms/step - loss: 0.0214\n",
            "Epoch 99/100\n",
            "77/77 [==============================] - 0s 2ms/step - loss: 0.0186\n",
            "Epoch 100/100\n",
            "77/77 [==============================] - 0s 3ms/step - loss: 0.0199\n"
          ],
          "name": "stdout"
        }
      ]
    },
    {
      "cell_type": "code",
      "metadata": {
        "colab": {
          "base_uri": "https://localhost:8080/",
          "height": 367
        },
        "id": "8F4CHAnKSBrP",
        "outputId": "95f36625-ed4b-4e74-bc2f-e10b8a10e3b7"
      },
      "source": [
        "plt.figure(figsize=(8,5))\n",
        "plt.plot(history.history['loss'])\n",
        "plt.xlabel(\"Epochs\")\n",
        "plt.ylabel(\"Loss\")\n",
        "plt.title(\"Model Performance\")"
      ],
      "execution_count": null,
      "outputs": [
        {
          "output_type": "execute_result",
          "data": {
            "text/plain": [
              "Text(0.5, 1.0, 'Model Performance')"
            ]
          },
          "metadata": {
            "tags": []
          },
          "execution_count": 26
        },
        {
          "output_type": "display_data",
          "data": {
            "image/png": "[encoded data removed]",
            "text/plain": [
              "<Figure size 576x360 with 1 Axes>"
            ]
          },
          "metadata": {
            "tags": [],
            "needs_background": "light"
          }
        }
      ]
    },
    {
      "cell_type": "code",
      "metadata": {
        "id": "VVtpHZBOsQDU"
      },
      "source": [
        "y_pred = model.predict(X, batch_size=1)"
      ],
      "execution_count": null,
      "outputs": []
    },
    {
      "cell_type": "code",
      "metadata": {
        "colab": {
          "base_uri": "https://localhost:8080/"
        },
        "id": "mm8K2lInwOaC",
        "outputId": "db37a45c-bb18-40c3-df7c-c8b48a5e8193"
      },
      "source": [
        "y_pred[:5]"
      ],
      "execution_count": null,
      "outputs": [
        {
          "output_type": "execute_result",
          "data": {
            "text/plain": [
              "array([[-0.30081007],\n",
              "       [-0.47646174],\n",
              "       [-0.5920146 ],\n",
              "       [-0.66317904],\n",
              "       [-0.6881618 ]], dtype=float32)"
            ]
          },
          "metadata": {
            "tags": []
          },
          "execution_count": 28
        }
      ]
    },
    {
      "cell_type": "markdown",
      "metadata": {
        "id": "fL-vD--bsz8_"
      },
      "source": [
        "To check how well the model performed\n",
        "- inverse transform the forecast for scaling (due to scaling that was done before model training)\n",
        "- create a dataframe with the date, original price and the predicted price\n",
        "- plot the data\n",
        "- check metrics"
      ]
    },
    {
      "cell_type": "code",
      "metadata": {
        "colab": {
          "base_uri": "https://localhost:8080/"
        },
        "id": "S4noonb1zlUi",
        "outputId": "bd8738f5-c485-4f26-d000-3e3de20eecd4"
      },
      "source": [
        "#inverse transform prediction to get predicted price\n",
        "inverted_y_pred = scaler.inverse_transform(y_pred)\n",
        "inverted_y_pred[:5]"
      ],
      "execution_count": null,
      "outputs": [
        {
          "output_type": "execute_result",
          "data": {
            "text/plain": [
              "array([[176.14653],\n",
              "       [164.55353],\n",
              "       [156.92705],\n",
              "       [152.23018],\n",
              "       [150.58131]], dtype=float32)"
            ]
          },
          "metadata": {
            "tags": []
          },
          "execution_count": 29
        }
      ]
    },
    {
      "cell_type": "code",
      "metadata": {
        "colab": {
          "base_uri": "https://localhost:8080/",
          "height": 204
        },
        "id": "h7OZfEqK0qck",
        "outputId": "b019f4ef-e9f2-41c5-bb08-4ae9e9908f70"
      },
      "source": [
        "df = pd.DataFrame()\n",
        "\n",
        "df['date'] = diesel.index\n",
        "df['price'] = list(diesel['price'])\n",
        "df['predicted_price'] = inverted_y_pred\n",
        "df.head()"
      ],
      "execution_count": null,
      "outputs": [
        {
          "output_type": "execute_result",
          "data": {
            "text/html": [
              "<div>\n",
              "<style scoped>\n",
              "    .dataframe tbody tr th:only-of-type {\n",
              "        vertical-align: middle;\n",
              "    }\n",
              "\n",
              "    .dataframe tbody tr th {\n",
              "        vertical-align: top;\n",
              "    }\n",
              "\n",
              "    .dataframe thead th {\n",
              "        text-align: right;\n",
              "    }\n",
              "</style>\n",
              "<table border=\"1\" class=\"dataframe\">\n",
              "  <thead>\n",
              "    <tr style=\"text-align: right;\">\n",
              "      <th></th>\n",
              "      <th>date</th>\n",
              "      <th>price</th>\n",
              "      <th>predicted_price</th>\n",
              "    </tr>\n",
              "  </thead>\n",
              "  <tbody>\n",
              "    <tr>\n",
              "      <th>0</th>\n",
              "      <td>2014-05-15</td>\n",
              "      <td>155.00</td>\n",
              "      <td>176.146530</td>\n",
              "    </tr>\n",
              "    <tr>\n",
              "      <th>1</th>\n",
              "      <td>2014-07-15</td>\n",
              "      <td>160.00</td>\n",
              "      <td>164.553528</td>\n",
              "    </tr>\n",
              "    <tr>\n",
              "      <th>2</th>\n",
              "      <td>2014-08-15</td>\n",
              "      <td>160.00</td>\n",
              "      <td>156.927048</td>\n",
              "    </tr>\n",
              "    <tr>\n",
              "      <th>3</th>\n",
              "      <td>2014-09-15</td>\n",
              "      <td>158.50</td>\n",
              "      <td>152.230179</td>\n",
              "    </tr>\n",
              "    <tr>\n",
              "      <th>4</th>\n",
              "      <td>2014-10-15</td>\n",
              "      <td>159.25</td>\n",
              "      <td>150.581314</td>\n",
              "    </tr>\n",
              "  </tbody>\n",
              "</table>\n",
              "</div>"
            ],
            "text/plain": [
              "        date   price  predicted_price\n",
              "0 2014-05-15  155.00       176.146530\n",
              "1 2014-07-15  160.00       164.553528\n",
              "2 2014-08-15  160.00       156.927048\n",
              "3 2014-09-15  158.50       152.230179\n",
              "4 2014-10-15  159.25       150.581314"
            ]
          },
          "metadata": {
            "tags": []
          },
          "execution_count": 30
        }
      ]
    },
    {
      "cell_type": "code",
      "metadata": {
        "colab": {
          "base_uri": "https://localhost:8080/"
        },
        "id": "Wtk7ufUx0kNN",
        "outputId": "ac1646e2-0036-4d7a-c059-7956f4273bbc"
      },
      "source": [
        "print('MSE ', mean_squared_error(df['price'], df['predicted_price'])) #64"
      ],
      "execution_count": null,
      "outputs": [
        {
          "output_type": "stream",
          "text": [
            "MSE  60.14873592763202\n"
          ],
          "name": "stdout"
        }
      ]
    },
    {
      "cell_type": "code",
      "metadata": {
        "colab": {
          "base_uri": "https://localhost:8080/"
        },
        "id": "S3vy83pYahq3",
        "outputId": "d2fdaf86-5c51-4ca2-ea52-49c9c0650526"
      },
      "source": [
        "#rmse\n",
        "print('RMSE ', np.sqrt(mean_squared_error(df['price'], df['predicted_price'])))"
      ],
      "execution_count": null,
      "outputs": [
        {
          "output_type": "stream",
          "text": [
            "RMSE  7.755561612651402\n"
          ],
          "name": "stdout"
        }
      ]
    },
    {
      "cell_type": "code",
      "metadata": {
        "colab": {
          "base_uri": "https://localhost:8080/"
        },
        "id": "jMcJLY1nu_vN",
        "outputId": "38fc8b42-aa3e-4702-fcb5-aaa0c1c0d801"
      },
      "source": [
        "print('R2 Score ', r2_score(df['price'], df['predicted_price']))"
      ],
      "execution_count": null,
      "outputs": [
        {
          "output_type": "stream",
          "text": [
            "R2 Score  0.9503955577935074\n"
          ],
          "name": "stdout"
        }
      ]
    },
    {
      "cell_type": "markdown",
      "metadata": {
        "id": "cUlpEhg331_I"
      },
      "source": [
        "MAPE SCORE"
      ]
    },
    {
      "cell_type": "code",
      "metadata": {
        "id": "JHaSS0uIgkw4"
      },
      "source": [
        "def mean_absolute_percentage_error(y_true, y_pred): \n",
        "    y_true, y_pred = np.array(y_true), np.array(y_pred)\n",
        "    return np.mean(np.abs((y_true - y_pred) / y_true)) * 100"
      ],
      "execution_count": null,
      "outputs": []
    },
    {
      "cell_type": "code",
      "metadata": {
        "id": "--aQzYkLgn9C"
      },
      "source": [
        "mape = mean_absolute_percentage_error(df['price'], df['predicted_price'])"
      ],
      "execution_count": null,
      "outputs": []
    },
    {
      "cell_type": "code",
      "metadata": {
        "colab": {
          "base_uri": "https://localhost:8080/"
        },
        "id": "8QatGPZH2rdy",
        "outputId": "6c469ca1-3e76-475b-e322-0ae2de1bbdd2"
      },
      "source": [
        "mape"
      ],
      "execution_count": null,
      "outputs": [
        {
          "output_type": "execute_result",
          "data": {
            "text/plain": [
              "3.0109998048496442"
            ]
          },
          "metadata": {
            "tags": []
          },
          "execution_count": 36
        }
      ]
    },
    {
      "cell_type": "code",
      "metadata": {
        "id": "_U2iu3QyEPot"
      },
      "source": [
        "df.set_index('date', inplace=True)\n",
        "df.index = pd.to_datetime(df.index)"
      ],
      "execution_count": null,
      "outputs": []
    },
    {
      "cell_type": "code",
      "metadata": {
        "colab": {
          "base_uri": "https://localhost:8080/",
          "height": 516
        },
        "id": "AyL7PM7bFWZV",
        "outputId": "1d9dfcff-fc7b-4a51-b36a-bd969838e3a4"
      },
      "source": [
        "plt.figure(figsize=(12,8))\n",
        "plt.plot(df['price'], color=\"blue\", label=\"actual\")\n",
        "plt.plot(df['predicted_price'], color=\"red\", label=\"predicted\")\n",
        "plt.title(\"Diesel Price Forecast\")\n",
        "plt.legend()"
      ],
      "execution_count": null,
      "outputs": [
        {
          "output_type": "execute_result",
          "data": {
            "text/plain": [
              "<matplotlib.legend.Legend at 0x7fecd0bcf518>"
            ]
          },
          "metadata": {
            "tags": []
          },
          "execution_count": 38
        },
        {
          "output_type": "display_data",
          "data": {
            "image/png": "[encoded data removed]",
            "text/plain": [
              "<Figure size 864x576 with 1 Axes>"
            ]
          },
          "metadata": {
            "tags": [],
            "needs_background": "light"
          }
        }
      ]
    },
    {
      "cell_type": "markdown",
      "metadata": {
        "id": "c2-zX65dnCwc"
      },
      "source": [
        "The model performs really well on the exsiting dataset with an RMSE score of 9.44 and R2 Score of 92.64%.\n",
        "\n",
        "I can confidently use this model to forecast future data."
      ]
    },
    {
      "cell_type": "markdown",
      "metadata": {
        "id": "I3OdYmL1pyIe"
      },
      "source": [
        "## Future Prediction\n",
        "\n",
        "I will be predicting diesel prices 3 years into the future, 2021, 2022, 2023. That is 36 months."
      ]
    },
    {
      "cell_type": "code",
      "metadata": {
        "id": "i3C4LwKRwle7",
        "colab": {
          "base_uri": "https://localhost:8080/"
        },
        "outputId": "21659c89-5011-4c10-f24f-5dfb8476cdcc"
      },
      "source": [
        "#3 years, 36 months\n",
        "num_prediction = 36\n",
        "\n",
        "#past price data\n",
        "price_data = scaler.transform([diesel['price']]).reshape(-1)\n",
        "price_data[:5]"
      ],
      "execution_count": null,
      "outputs": [
        {
          "output_type": "execute_result",
          "data": {
            "text/plain": [
              "array([-0.62121212, -0.54545455, -0.54545455, -0.56818182, -0.55681818])"
            ]
          },
          "metadata": {
            "tags": []
          },
          "execution_count": 39
        }
      ]
    },
    {
      "cell_type": "code",
      "metadata": {
        "colab": {
          "base_uri": "https://localhost:8080/"
        },
        "id": "onRLMt0zUhYN",
        "outputId": "0aba7436-6773-41b5-f135-32d07d3e1cd3"
      },
      "source": [
        "price_data.shape"
      ],
      "execution_count": null,
      "outputs": [
        {
          "output_type": "execute_result",
          "data": {
            "text/plain": [
              "(77,)"
            ]
          },
          "metadata": {
            "tags": []
          },
          "execution_count": 40
        }
      ]
    },
    {
      "cell_type": "code",
      "metadata": {
        "colab": {
          "base_uri": "https://localhost:8080/",
          "height": 235
        },
        "id": "-8IOOlWRzTKN",
        "outputId": "a7aa258a-c037-4b98-f49f-5b98d9eb7b4e"
      },
      "source": [
        "diesel.tail()"
      ],
      "execution_count": null,
      "outputs": [
        {
          "output_type": "execute_result",
          "data": {
            "text/html": [
              "<div>\n",
              "<style scoped>\n",
              "    .dataframe tbody tr th:only-of-type {\n",
              "        vertical-align: middle;\n",
              "    }\n",
              "\n",
              "    .dataframe tbody tr th {\n",
              "        vertical-align: top;\n",
              "    }\n",
              "\n",
              "    .dataframe thead th {\n",
              "        text-align: right;\n",
              "    }\n",
              "</style>\n",
              "<table border=\"1\" class=\"dataframe\">\n",
              "  <thead>\n",
              "    <tr style=\"text-align: right;\">\n",
              "      <th></th>\n",
              "      <th>price</th>\n",
              "    </tr>\n",
              "    <tr>\n",
              "      <th>date</th>\n",
              "      <th></th>\n",
              "    </tr>\n",
              "  </thead>\n",
              "  <tbody>\n",
              "    <tr>\n",
              "      <th>2020-07-15</th>\n",
              "      <td>212.5000</td>\n",
              "    </tr>\n",
              "    <tr>\n",
              "      <th>2020-08-15</th>\n",
              "      <td>200.0000</td>\n",
              "    </tr>\n",
              "    <tr>\n",
              "      <th>2020-09-15</th>\n",
              "      <td>195.0000</td>\n",
              "    </tr>\n",
              "    <tr>\n",
              "      <th>2020-10-15</th>\n",
              "      <td>192.6667</td>\n",
              "    </tr>\n",
              "    <tr>\n",
              "      <th>2020-11-15</th>\n",
              "      <td>192.7500</td>\n",
              "    </tr>\n",
              "  </tbody>\n",
              "</table>\n",
              "</div>"
            ],
            "text/plain": [
              "               price\n",
              "date                \n",
              "2020-07-15  212.5000\n",
              "2020-08-15  200.0000\n",
              "2020-09-15  195.0000\n",
              "2020-10-15  192.6667\n",
              "2020-11-15  192.7500"
            ]
          },
          "metadata": {
            "tags": []
          },
          "execution_count": 41
        }
      ]
    },
    {
      "cell_type": "code",
      "metadata": {
        "id": "dVRtYEEuUvxU"
      },
      "source": [
        "#forecast future prices\n",
        "forecast = utils.forecast(num_prediction, model, price_data, look_back=1)\n",
        "\n",
        "forecast_dates = utils.forecast_dates(diesel, num_prediction, frequency = 'MS')"
      ],
      "execution_count": null,
      "outputs": []
    },
    {
      "cell_type": "code",
      "metadata": {
        "colab": {
          "base_uri": "https://localhost:8080/"
        },
        "id": "MVAFtGHGVg5Z",
        "scrolled": true,
        "outputId": "72820b88-5b77-4aa6-d018-e68ac4ca9453"
      },
      "source": [
        "forecast_dates[:5]"
      ],
      "execution_count": null,
      "outputs": [
        {
          "output_type": "execute_result",
          "data": {
            "text/plain": [
              "[Timestamp('2020-12-01 00:00:00', freq='MS'),\n",
              " Timestamp('2021-01-01 00:00:00', freq='MS'),\n",
              " Timestamp('2021-02-01 00:00:00', freq='MS'),\n",
              " Timestamp('2021-03-01 00:00:00', freq='MS'),\n",
              " Timestamp('2021-04-01 00:00:00', freq='MS')]"
            ]
          },
          "metadata": {
            "tags": []
          },
          "execution_count": 43
        }
      ]
    },
    {
      "cell_type": "code",
      "metadata": {
        "colab": {
          "base_uri": "https://localhost:8080/"
        },
        "id": "mDysMn4pVFx9",
        "outputId": "45ecec50-6817-4766-9cc0-422b0e162903"
      },
      "source": [
        "forecast"
      ],
      "execution_count": null,
      "outputs": [
        {
          "output_type": "execute_result",
          "data": {
            "text/plain": [
              "array([-0.04924242, -0.06724228, -0.08096035, -0.09105455, -0.09987891,\n",
              "       -0.10910337, -0.11988462, -0.13300169, -0.14897087, -0.1681408 ,\n",
              "       -0.19076693, -0.21706554, -0.2472474 , -0.28152835, -0.32011709,\n",
              "       -0.36316979, -0.41070896, -0.46249464, -0.51785433, -0.57549566,\n",
              "       -0.63337708, -0.68875366, -0.73851162, -0.77977145, -0.81052989,\n",
              "       -0.83001548, -0.83860379, -0.83744156, -0.82804841, -0.81206644,\n",
              "       -0.79116619, -0.76704496, -0.7414524 , -0.71618629, -0.69303256,\n",
              "       -0.67364049, -0.65936148])"
            ]
          },
          "metadata": {
            "tags": []
          },
          "execution_count": 44
        }
      ]
    },
    {
      "cell_type": "code",
      "metadata": {
        "colab": {
          "base_uri": "https://localhost:8080/"
        },
        "id": "i3LZZ85xxfo6",
        "outputId": "04b735f0-eaa0-4c31-8ffc-c7b0739bffda"
      },
      "source": [
        "len(forecast_dates)"
      ],
      "execution_count": null,
      "outputs": [
        {
          "output_type": "execute_result",
          "data": {
            "text/plain": [
              "37"
            ]
          },
          "metadata": {
            "tags": []
          },
          "execution_count": 45
        }
      ]
    },
    {
      "cell_type": "code",
      "metadata": {
        "colab": {
          "base_uri": "https://localhost:8080/"
        },
        "id": "NEU_0hG3VJXP",
        "scrolled": true,
        "outputId": "a8279b30-d11c-47a1-8ba4-94a7cbcfe2c1"
      },
      "source": [
        "#inverse transform forecast and reshape\n",
        "forecast = scaler.inverse_transform(forecast.reshape(-1, 1))\n",
        "forecast"
      ],
      "execution_count": null,
      "outputs": [
        {
          "output_type": "execute_result",
          "data": {
            "text/plain": [
              "array([[192.75      ],\n",
              "       [191.56200954],\n",
              "       [190.65661702],\n",
              "       [189.99039961],\n",
              "       [189.40799163],\n",
              "       [188.7991773 ],\n",
              "       [188.08761524],\n",
              "       [187.22188878],\n",
              "       [186.16792244],\n",
              "       [184.90270728],\n",
              "       [183.40938258],\n",
              "       [181.67367417],\n",
              "       [179.68167174],\n",
              "       [177.41912866],\n",
              "       [174.87227231],\n",
              "       [172.03079391],\n",
              "       [168.89320838],\n",
              "       [165.47535366],\n",
              "       [161.82161403],\n",
              "       [158.01728642],\n",
              "       [154.19711304],\n",
              "       [150.54225814],\n",
              "       [147.25823295],\n",
              "       [144.53508449],\n",
              "       [142.50502741],\n",
              "       [141.21897829],\n",
              "       [140.65214956],\n",
              "       [140.7288568 ],\n",
              "       [141.34880507],\n",
              "       [142.40361524],\n",
              "       [143.7830317 ],\n",
              "       [145.37503254],\n",
              "       [147.06414187],\n",
              "       [148.73170519],\n",
              "       [150.25985086],\n",
              "       [151.53972769],\n",
              "       [152.48214221]])"
            ]
          },
          "metadata": {
            "tags": []
          },
          "execution_count": 46
        }
      ]
    },
    {
      "cell_type": "code",
      "metadata": {
        "colab": {
          "base_uri": "https://localhost:8080/"
        },
        "id": "1sN3m4EkpyIf",
        "outputId": "a87dfdd1-bc3a-41e0-e745-5bd33cca6d16"
      },
      "source": [
        "len(forecast)"
      ],
      "execution_count": null,
      "outputs": [
        {
          "output_type": "execute_result",
          "data": {
            "text/plain": [
              "37"
            ]
          },
          "metadata": {
            "tags": []
          },
          "execution_count": 47
        }
      ]
    },
    {
      "cell_type": "code",
      "metadata": {
        "colab": {
          "base_uri": "https://localhost:8080/",
          "height": 235
        },
        "id": "gF6-nYjnpyIf",
        "outputId": "0e90210c-f055-41e8-9cbb-30b2099891b6"
      },
      "source": [
        "future = pd.DataFrame()\n",
        "\n",
        "future['date'] = list(forecast_dates)\n",
        "future['predicted_price'] = forecast\n",
        "future.set_index('date', inplace=True)\n",
        "future.index = pd.to_datetime(future.index)\n",
        "future.head()"
      ],
      "execution_count": null,
      "outputs": [
        {
          "output_type": "execute_result",
          "data": {
            "text/html": [
              "<div>\n",
              "<style scoped>\n",
              "    .dataframe tbody tr th:only-of-type {\n",
              "        vertical-align: middle;\n",
              "    }\n",
              "\n",
              "    .dataframe tbody tr th {\n",
              "        vertical-align: top;\n",
              "    }\n",
              "\n",
              "    .dataframe thead th {\n",
              "        text-align: right;\n",
              "    }\n",
              "</style>\n",
              "<table border=\"1\" class=\"dataframe\">\n",
              "  <thead>\n",
              "    <tr style=\"text-align: right;\">\n",
              "      <th></th>\n",
              "      <th>predicted_price</th>\n",
              "    </tr>\n",
              "    <tr>\n",
              "      <th>date</th>\n",
              "      <th></th>\n",
              "    </tr>\n",
              "  </thead>\n",
              "  <tbody>\n",
              "    <tr>\n",
              "      <th>2020-12-01</th>\n",
              "      <td>192.750000</td>\n",
              "    </tr>\n",
              "    <tr>\n",
              "      <th>2021-01-01</th>\n",
              "      <td>191.562010</td>\n",
              "    </tr>\n",
              "    <tr>\n",
              "      <th>2021-02-01</th>\n",
              "      <td>190.656617</td>\n",
              "    </tr>\n",
              "    <tr>\n",
              "      <th>2021-03-01</th>\n",
              "      <td>189.990400</td>\n",
              "    </tr>\n",
              "    <tr>\n",
              "      <th>2021-04-01</th>\n",
              "      <td>189.407992</td>\n",
              "    </tr>\n",
              "  </tbody>\n",
              "</table>\n",
              "</div>"
            ],
            "text/plain": [
              "            predicted_price\n",
              "date                       \n",
              "2020-12-01       192.750000\n",
              "2021-01-01       191.562010\n",
              "2021-02-01       190.656617\n",
              "2021-03-01       189.990400\n",
              "2021-04-01       189.407992"
            ]
          },
          "metadata": {
            "tags": []
          },
          "execution_count": 50
        }
      ]
    },
    {
      "cell_type": "code",
      "metadata": {
        "colab": {
          "base_uri": "https://localhost:8080/",
          "height": 516
        },
        "id": "oDCIIduzpyIg",
        "outputId": "02a3c8eb-d1cb-4731-e6fd-2d33ef57cc6b"
      },
      "source": [
        "plt.figure(figsize=(12,8))\n",
        "\n",
        "plt.plot(diesel ['price'], c='blue', label=\"past\")\n",
        "plt.plot(future['predicted_price'], c='red', label=\"future\")\n",
        "plt.title('Future Diesel Price Predictions')\n",
        "plt.legend()"
      ],
      "execution_count": null,
      "outputs": [
        {
          "output_type": "execute_result",
          "data": {
            "text/plain": [
              "<matplotlib.legend.Legend at 0x7feccf897ba8>"
            ]
          },
          "metadata": {
            "tags": []
          },
          "execution_count": 49
        },
        {
          "output_type": "display_data",
          "data": {
            "image/png": "[encoded data removed]",
            "text/plain": [
              "<Figure size 864x576 with 1 Axes>"
            ]
          },
          "metadata": {
            "tags": [],
            "needs_background": "light"
          }
        }
      ]
    },
    {
      "cell_type": "markdown",
      "metadata": {
        "id": "03Sx2fjujztL"
      },
      "source": [
        "## Conclusion\n",
        "The model performed really well on existing data with an r2 score of 94.58%.\n",
        "\n",
        "The model has forecasted that diesel prices would reduce in 3 years time.\n",
        "\n",
        "(but as a Nigerian living in Nigeria I do not believe this at all.)"
      ]
    },
    {
      "cell_type": "code",
      "metadata": {
        "id": "EVamPxcxgkra"
      },
      "source": [
        ""
      ],
      "execution_count": null,
      "outputs": []
    },
    {
      "cell_type": "markdown",
      "metadata": {
        "id": "G7wIkylS4JRP"
      },
      "source": [
        "## Recommendations \n",
        "I recommend changing the values of hyperparameters or compiling the model with different sets of optimizers such as Adam, SDG, etc., to see the change in the graph. \n",
        "\n",
        "You can also increase the layers in the LSTM network and check the results."
      ]
    },
    {
      "cell_type": "markdown",
      "metadata": {
        "id": "ZihbEt9Q3CXO"
      },
      "source": [
        "- optimizer\n",
        "- activation function\n",
        "- number of units\n",
        "- add maxpooling etc\n",
        "- more / less dropouts"
      ]
    },
    {
      "cell_type": "code",
      "metadata": {
        "id": "Tx78QROR2sRQ"
      },
      "source": [
        ""
      ],
      "execution_count": null,
      "outputs": []
    }
  ]
}