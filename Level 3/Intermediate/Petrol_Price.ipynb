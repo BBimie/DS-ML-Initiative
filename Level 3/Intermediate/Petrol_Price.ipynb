{
  "nbformat": 4,
  "nbformat_minor": 0,
  "metadata": {
    "colab": {
      "name": "Petrol Price.ipynb",
      "provenance": [],
      "collapsed_sections": [],
      "toc_visible": true
    },
    "kernelspec": {
      "display_name": "Python 3",
      "language": "python",
      "name": "python3"
    },
    "language_info": {
      "codemirror_mode": {
        "name": "ipython",
        "version": 3
      },
      "file_extension": ".py",
      "mimetype": "text/x-python",
      "name": "python",
      "nbconvert_exporter": "python",
      "pygments_lexer": "ipython3",
      "version": "3.8.5"
    }
  },
  "cells": [
    {
      "cell_type": "markdown",
      "metadata": {
        "id": "PGxh7nnEnTdf"
      },
      "source": [
        "# Task: Petrol price forecasting with LSTM"
      ]
    },
    {
      "cell_type": "code",
      "metadata": {
        "id": "hzHWWtzMgrB0"
      },
      "source": [
        "import warnings\n",
        "warnings.filterwarnings('ignore')"
      ],
      "execution_count": 1,
      "outputs": []
    },
    {
      "cell_type": "code",
      "metadata": {
        "id": "1Us2SKUJgrB1"
      },
      "source": [
        "import pandas as pd\n",
        "import numpy as np\n",
        "import matplotlib.pyplot as plt\n",
        "\n",
        "from sklearn.metrics import mean_squared_error, r2_score\n",
        "from sklearn.preprocessing import MinMaxScaler\n",
        "\n",
        "import utils"
      ],
      "execution_count": 2,
      "outputs": []
    },
    {
      "cell_type": "code",
      "metadata": {
        "id": "Px_1NJ2nTKlt"
      },
      "source": [
        "np.random.seed(1)"
      ],
      "execution_count": 3,
      "outputs": []
    },
    {
      "cell_type": "code",
      "metadata": {
        "colab": {
          "base_uri": "https://localhost:8080/",
          "height": 292
        },
        "id": "M8pO-TU2grB1",
        "outputId": "2c176f29-bb4d-4d18-a831-e3cabc621d7d"
      },
      "source": [
        "df = pd.read_csv('wfp_food_prices_nigeria.csv')\n",
        "df.head()"
      ],
      "execution_count": 4,
      "outputs": [
        {
          "output_type": "execute_result",
          "data": {
            "text/html": [
              "<div>\n",
              "<style scoped>\n",
              "    .dataframe tbody tr th:only-of-type {\n",
              "        vertical-align: middle;\n",
              "    }\n",
              "\n",
              "    .dataframe tbody tr th {\n",
              "        vertical-align: top;\n",
              "    }\n",
              "\n",
              "    .dataframe thead th {\n",
              "        text-align: right;\n",
              "    }\n",
              "</style>\n",
              "<table border=\"1\" class=\"dataframe\">\n",
              "  <thead>\n",
              "    <tr style=\"text-align: right;\">\n",
              "      <th></th>\n",
              "      <th>date</th>\n",
              "      <th>cmname</th>\n",
              "      <th>unit</th>\n",
              "      <th>category</th>\n",
              "      <th>price</th>\n",
              "      <th>currency</th>\n",
              "      <th>country</th>\n",
              "      <th>admname</th>\n",
              "      <th>adm1id</th>\n",
              "      <th>mktname</th>\n",
              "      <th>mktid</th>\n",
              "      <th>cmid</th>\n",
              "      <th>ptid</th>\n",
              "      <th>umid</th>\n",
              "      <th>catid</th>\n",
              "      <th>sn</th>\n",
              "      <th>default</th>\n",
              "    </tr>\n",
              "  </thead>\n",
              "  <tbody>\n",
              "    <tr>\n",
              "      <th>0</th>\n",
              "      <td>#date</td>\n",
              "      <td>#item+name</td>\n",
              "      <td>#item+unit</td>\n",
              "      <td>#item+type</td>\n",
              "      <td>#value</td>\n",
              "      <td>#currency</td>\n",
              "      <td>#country+name</td>\n",
              "      <td>#adm1+name</td>\n",
              "      <td>#adm1+code</td>\n",
              "      <td>#name+market</td>\n",
              "      <td>NaN</td>\n",
              "      <td>#item+code</td>\n",
              "      <td>NaN</td>\n",
              "      <td>NaN</td>\n",
              "      <td>#item+type+code</td>\n",
              "      <td>#meta+id</td>\n",
              "      <td>NaN</td>\n",
              "    </tr>\n",
              "    <tr>\n",
              "      <th>1</th>\n",
              "      <td>2015-01-15</td>\n",
              "      <td>Bread - Retail</td>\n",
              "      <td>Unit</td>\n",
              "      <td>cereals and tubers</td>\n",
              "      <td>140.0</td>\n",
              "      <td>NGN</td>\n",
              "      <td>Nigeria</td>\n",
              "      <td>Adamawa</td>\n",
              "      <td>2211</td>\n",
              "      <td>Mubi</td>\n",
              "      <td>1980.0</td>\n",
              "      <td>55</td>\n",
              "      <td>15.0</td>\n",
              "      <td>33.0</td>\n",
              "      <td>1</td>\n",
              "      <td>1980_55_15_33</td>\n",
              "      <td>NaN</td>\n",
              "    </tr>\n",
              "    <tr>\n",
              "      <th>2</th>\n",
              "      <td>2015-02-15</td>\n",
              "      <td>Bread - Retail</td>\n",
              "      <td>Unit</td>\n",
              "      <td>cereals and tubers</td>\n",
              "      <td>140.0</td>\n",
              "      <td>NGN</td>\n",
              "      <td>Nigeria</td>\n",
              "      <td>Adamawa</td>\n",
              "      <td>2211</td>\n",
              "      <td>Mubi</td>\n",
              "      <td>1980.0</td>\n",
              "      <td>55</td>\n",
              "      <td>15.0</td>\n",
              "      <td>33.0</td>\n",
              "      <td>1</td>\n",
              "      <td>1980_55_15_33</td>\n",
              "      <td>NaN</td>\n",
              "    </tr>\n",
              "    <tr>\n",
              "      <th>3</th>\n",
              "      <td>2015-03-15</td>\n",
              "      <td>Bread - Retail</td>\n",
              "      <td>Unit</td>\n",
              "      <td>cereals and tubers</td>\n",
              "      <td>140.0</td>\n",
              "      <td>NGN</td>\n",
              "      <td>Nigeria</td>\n",
              "      <td>Adamawa</td>\n",
              "      <td>2211</td>\n",
              "      <td>Mubi</td>\n",
              "      <td>1980.0</td>\n",
              "      <td>55</td>\n",
              "      <td>15.0</td>\n",
              "      <td>33.0</td>\n",
              "      <td>1</td>\n",
              "      <td>1980_55_15_33</td>\n",
              "      <td>NaN</td>\n",
              "    </tr>\n",
              "    <tr>\n",
              "      <th>4</th>\n",
              "      <td>2015-04-15</td>\n",
              "      <td>Bread - Retail</td>\n",
              "      <td>Unit</td>\n",
              "      <td>cereals and tubers</td>\n",
              "      <td>140.0</td>\n",
              "      <td>NGN</td>\n",
              "      <td>Nigeria</td>\n",
              "      <td>Adamawa</td>\n",
              "      <td>2211</td>\n",
              "      <td>Mubi</td>\n",
              "      <td>1980.0</td>\n",
              "      <td>55</td>\n",
              "      <td>15.0</td>\n",
              "      <td>33.0</td>\n",
              "      <td>1</td>\n",
              "      <td>1980_55_15_33</td>\n",
              "      <td>NaN</td>\n",
              "    </tr>\n",
              "  </tbody>\n",
              "</table>\n",
              "</div>"
            ],
            "text/plain": [
              "         date          cmname  ...             sn default\n",
              "0       #date      #item+name  ...       #meta+id     NaN\n",
              "1  2015-01-15  Bread - Retail  ...  1980_55_15_33     NaN\n",
              "2  2015-02-15  Bread - Retail  ...  1980_55_15_33     NaN\n",
              "3  2015-03-15  Bread - Retail  ...  1980_55_15_33     NaN\n",
              "4  2015-04-15  Bread - Retail  ...  1980_55_15_33     NaN\n",
              "\n",
              "[5 rows x 17 columns]"
            ]
          },
          "metadata": {
            "tags": []
          },
          "execution_count": 4
        }
      ]
    },
    {
      "cell_type": "code",
      "metadata": {
        "colab": {
          "base_uri": "https://localhost:8080/"
        },
        "id": "kivVcK0EgrB3",
        "outputId": "76879e99-6a34-405d-d359-ff0f30f43f3b"
      },
      "source": [
        "df.shape"
      ],
      "execution_count": 5,
      "outputs": [
        {
          "output_type": "execute_result",
          "data": {
            "text/plain": [
              "(45577, 17)"
            ]
          },
          "metadata": {
            "tags": []
          },
          "execution_count": 5
        }
      ]
    },
    {
      "cell_type": "code",
      "metadata": {
        "colab": {
          "base_uri": "https://localhost:8080/"
        },
        "id": "1Zw9fIKXgrB3",
        "outputId": "83c464c7-bfbe-4337-9566-27abd4181097"
      },
      "source": [
        "df.isnull().sum()"
      ],
      "execution_count": 6,
      "outputs": [
        {
          "output_type": "execute_result",
          "data": {
            "text/plain": [
              "date            0\n",
              "cmname          0\n",
              "unit            0\n",
              "category        0\n",
              "price           0\n",
              "currency        0\n",
              "country         0\n",
              "admname         0\n",
              "adm1id          0\n",
              "mktname         0\n",
              "mktid           1\n",
              "cmid            0\n",
              "ptid            1\n",
              "umid            1\n",
              "catid           0\n",
              "sn              0\n",
              "default     45577\n",
              "dtype: int64"
            ]
          },
          "metadata": {
            "tags": []
          },
          "execution_count": 6
        }
      ]
    },
    {
      "cell_type": "code",
      "metadata": {
        "colab": {
          "base_uri": "https://localhost:8080/"
        },
        "id": "iFTOjrY7grB3",
        "outputId": "5b14846a-ffc5-42ce-9b06-e9dab1b9316f"
      },
      "source": [
        "df['cmname'].unique()"
      ],
      "execution_count": 7,
      "outputs": [
        {
          "output_type": "execute_result",
          "data": {
            "text/plain": [
              "array(['#item+name', 'Bread - Retail', 'Oil (palm) - Wholesale',\n",
              "       'Oil (palm) - Retail', 'Rice (imported) - Wholesale',\n",
              "       'Rice (imported) - Retail', 'Maize (white) - Wholesale',\n",
              "       'Maize (white) - Retail', 'Rice (local) - Wholesale',\n",
              "       'Rice (local) - Retail', 'Millet - Wholesale', 'Millet - Retail',\n",
              "       'Yam - Wholesale', 'Yam - Retail',\n",
              "       'Groundnuts (shelled) - Wholesale',\n",
              "       'Groundnuts (shelled) - Retail', 'Sorghum (white) - Wholesale',\n",
              "       'Sorghum (white) - Retail', 'Maize (yellow) - Wholesale',\n",
              "       'Maize (yellow) - Retail', 'Fuel (diesel) - Retail',\n",
              "       'Fuel (petrol-gasoline) - Retail', 'Cowpeas (white) - Wholesale',\n",
              "       'Cowpeas (white) - Retail', 'Cowpeas (brown) - Wholesale',\n",
              "       'Cowpeas (brown) - Retail', 'Sorghum (brown) - Wholesale',\n",
              "       'Sorghum (brown) - Retail',\n",
              "       'Cassava meal (gari, yellow) - Wholesale',\n",
              "       'Cassava meal (gari, yellow) - Retail', 'Gari (white) - Wholesale',\n",
              "       'Gari (white) - Retail', 'Maize - Wholesale',\n",
              "       'Sorghum - Wholesale', 'Wheat - Wholesale',\n",
              "       'Rice (milled, local) - Wholesale', 'Sorghum - Retail',\n",
              "       'Beans (white) - Retail', 'Maize flour - Retail',\n",
              "       'Beans (red) - Retail', 'Milk - Retail', 'Eggs - Retail',\n",
              "       'Oil (vegetable) - Retail', 'Sugar - Retail', 'Tomatoes - Retail',\n",
              "       'Fish - Retail', 'Meat (beef) - Retail', 'Groundnuts - Retail',\n",
              "       'Onions - Retail', 'Salt - Retail', 'Cowpeas - Retail',\n",
              "       'Bananas - Retail', 'Oranges - Retail', 'Spinach - Retail',\n",
              "       'Meat (goat) - Retail', 'Watermelons - Retail',\n",
              "       'Beans (niebe) - Wholesale', 'Yam (Abuja) - Wholesale',\n",
              "       'Yam (Abuja) - Retail'], dtype=object)"
            ]
          },
          "metadata": {
            "tags": []
          },
          "execution_count": 7
        }
      ]
    },
    {
      "cell_type": "markdown",
      "metadata": {
        "id": "JNic5TPJrTgR"
      },
      "source": [
        "I am only interested in the Diesel commodity.\n",
        "It is written as 'Fuel (diesel) - Retail' under in cmname column"
      ]
    },
    {
      "cell_type": "code",
      "metadata": {
        "id": "ajpsTacUgrB4",
        "colab": {
          "base_uri": "https://localhost:8080/",
          "height": 235
        },
        "outputId": "7f2e36f5-4a53-411c-839b-79016aeb0387"
      },
      "source": [
        "_, petrol = utils.process_data(df, 'Fuel (petrol-gasoline) - Retail')\n",
        "petrol.head()"
      ],
      "execution_count": 8,
      "outputs": [
        {
          "output_type": "execute_result",
          "data": {
            "text/html": [
              "<div>\n",
              "<style scoped>\n",
              "    .dataframe tbody tr th:only-of-type {\n",
              "        vertical-align: middle;\n",
              "    }\n",
              "\n",
              "    .dataframe tbody tr th {\n",
              "        vertical-align: top;\n",
              "    }\n",
              "\n",
              "    .dataframe thead th {\n",
              "        text-align: right;\n",
              "    }\n",
              "</style>\n",
              "<table border=\"1\" class=\"dataframe\">\n",
              "  <thead>\n",
              "    <tr style=\"text-align: right;\">\n",
              "      <th></th>\n",
              "      <th>price</th>\n",
              "    </tr>\n",
              "    <tr>\n",
              "      <th>date</th>\n",
              "      <th></th>\n",
              "    </tr>\n",
              "  </thead>\n",
              "  <tbody>\n",
              "    <tr>\n",
              "      <th>2014-05-15</th>\n",
              "      <td>97.0</td>\n",
              "    </tr>\n",
              "    <tr>\n",
              "      <th>2014-07-15</th>\n",
              "      <td>97.0</td>\n",
              "    </tr>\n",
              "    <tr>\n",
              "      <th>2014-08-15</th>\n",
              "      <td>97.0</td>\n",
              "    </tr>\n",
              "    <tr>\n",
              "      <th>2014-09-15</th>\n",
              "      <td>97.0</td>\n",
              "    </tr>\n",
              "    <tr>\n",
              "      <th>2014-10-15</th>\n",
              "      <td>97.0</td>\n",
              "    </tr>\n",
              "  </tbody>\n",
              "</table>\n",
              "</div>"
            ],
            "text/plain": [
              "            price\n",
              "date             \n",
              "2014-05-15   97.0\n",
              "2014-07-15   97.0\n",
              "2014-08-15   97.0\n",
              "2014-09-15   97.0\n",
              "2014-10-15   97.0"
            ]
          },
          "metadata": {
            "tags": []
          },
          "execution_count": 8
        }
      ]
    },
    {
      "cell_type": "code",
      "metadata": {
        "colab": {
          "base_uri": "https://localhost:8080/",
          "height": 282
        },
        "id": "H9gEuyYE82BM",
        "outputId": "caa869b4-2593-48e6-9d35-8145cf949b02"
      },
      "source": [
        "plt.plot(petrol)"
      ],
      "execution_count": 9,
      "outputs": [
        {
          "output_type": "execute_result",
          "data": {
            "text/plain": [
              "[<matplotlib.lines.Line2D at 0x7f8b87d6ff60>]"
            ]
          },
          "metadata": {
            "tags": []
          },
          "execution_count": 9
        },
        {
          "output_type": "display_data",
          "data": {
            "image/png": "[encoded data removed]",
            "text/plain": [
              "<Figure size 432x288 with 1 Axes>"
            ]
          },
          "metadata": {
            "tags": [],
            "needs_background": "light"
          }
        }
      ]
    },
    {
      "cell_type": "code",
      "metadata": {
        "colab": {
          "base_uri": "https://localhost:8080/"
        },
        "id": "m8GLq127pyIZ",
        "outputId": "1964630e-4a28-4d67-fffa-74690a63d016"
      },
      "source": [
        "petrol.info()"
      ],
      "execution_count": 10,
      "outputs": [
        {
          "output_type": "stream",
          "text": [
            "<class 'pandas.core.frame.DataFrame'>\n",
            "DatetimeIndex: 77 entries, 2014-05-15 to 2020-11-15\n",
            "Data columns (total 1 columns):\n",
            " #   Column  Non-Null Count  Dtype  \n",
            "---  ------  --------------  -----  \n",
            " 0   price   77 non-null     float64\n",
            "dtypes: float64(1)\n",
            "memory usage: 1.2 KB\n"
          ],
          "name": "stdout"
        }
      ]
    },
    {
      "cell_type": "markdown",
      "metadata": {
        "id": "Yp1GDcEzHXcu"
      },
      "source": [
        "## petrol"
      ]
    },
    {
      "cell_type": "markdown",
      "metadata": {
        "id": "x9G3bkDkcUYw"
      },
      "source": [
        "monthly data from 2014 - 2020; 7 years, 77 months"
      ]
    },
    {
      "cell_type": "markdown",
      "metadata": {
        "id": "irWW3zQToEOo"
      },
      "source": [
        "Convert data from time series to supervised learning.\n",
        "This can be done by creating look back features from the data. The number of look backs created can vary"
      ]
    },
    {
      "cell_type": "code",
      "metadata": {
        "colab": {
          "base_uri": "https://localhost:8080/"
        },
        "id": "cLIfw0PEpyIa",
        "outputId": "5ee31106-ebb5-40b6-894c-d6532e740f7e"
      },
      "source": [
        "price = petrol['price'].values.reshape(-1, 1)\n",
        "price[:5]"
      ],
      "execution_count": 11,
      "outputs": [
        {
          "output_type": "execute_result",
          "data": {
            "text/plain": [
              "array([[97.],\n",
              "       [97.],\n",
              "       [97.],\n",
              "       [97.],\n",
              "       [97.]])"
            ]
          },
          "metadata": {
            "tags": []
          },
          "execution_count": 11
        }
      ]
    },
    {
      "cell_type": "code",
      "metadata": {
        "id": "Ti-DARt1rXWY"
      },
      "source": [
        "#initialize scaler\n",
        "scaler = MinMaxScaler(feature_range=(-1, 1))\n",
        "\n",
        "scaler = scaler.fit(price)"
      ],
      "execution_count": 12,
      "outputs": []
    },
    {
      "cell_type": "code",
      "metadata": {
        "id": "36S3nk5PqqPt",
        "colab": {
          "base_uri": "https://localhost:8080/"
        },
        "outputId": "b8667ca0-a365-4608-8f15-9bc6266ea558"
      },
      "source": [
        "#scale data\n",
        "scaled_data = scaler.transform(price)\n",
        "scaled_data[:5]"
      ],
      "execution_count": 13,
      "outputs": [
        {
          "output_type": "execute_result",
          "data": {
            "text/plain": [
              "array([[-0.81884058],\n",
              "       [-0.81884058],\n",
              "       [-0.81884058],\n",
              "       [-0.81884058],\n",
              "       [-0.81884058]])"
            ]
          },
          "metadata": {
            "tags": []
          },
          "execution_count": 13
        }
      ]
    },
    {
      "cell_type": "code",
      "metadata": {
        "colab": {
          "base_uri": "https://localhost:8080/"
        },
        "id": "0yOp8qIAtcbG",
        "outputId": "e0ad844d-054a-49d7-95c9-9efcad0e150d"
      },
      "source": [
        "scaled_data.shape"
      ],
      "execution_count": 14,
      "outputs": [
        {
          "output_type": "execute_result",
          "data": {
            "text/plain": [
              "(77, 1)"
            ]
          },
          "metadata": {
            "tags": []
          },
          "execution_count": 14
        }
      ]
    },
    {
      "cell_type": "code",
      "metadata": {
        "colab": {
          "base_uri": "https://localhost:8080/"
        },
        "id": "-ylX59LitaVt",
        "outputId": "af5fbf25-cbd7-4412-f040-59e90c537288"
      },
      "source": [
        "scaled_data.shape"
      ],
      "execution_count": 15,
      "outputs": [
        {
          "output_type": "execute_result",
          "data": {
            "text/plain": [
              "(77, 1)"
            ]
          },
          "metadata": {
            "tags": []
          },
          "execution_count": 15
        }
      ]
    },
    {
      "cell_type": "code",
      "metadata": {
        "colab": {
          "base_uri": "https://localhost:8080/",
          "height": 204
        },
        "id": "FrZLxJmuOecn",
        "outputId": "0b55cca3-02ab-438a-8c39-d116fd3699e7"
      },
      "source": [
        "#make into supervised learning\n",
        "data_with_lag = utils.timeseries_to_supervised(scaled_data)\n",
        "data_with_lag.columns = ['price', 'lag_1']\n",
        "data_with_lag.head()"
      ],
      "execution_count": 16,
      "outputs": [
        {
          "output_type": "execute_result",
          "data": {
            "text/html": [
              "<div>\n",
              "<style scoped>\n",
              "    .dataframe tbody tr th:only-of-type {\n",
              "        vertical-align: middle;\n",
              "    }\n",
              "\n",
              "    .dataframe tbody tr th {\n",
              "        vertical-align: top;\n",
              "    }\n",
              "\n",
              "    .dataframe thead th {\n",
              "        text-align: right;\n",
              "    }\n",
              "</style>\n",
              "<table border=\"1\" class=\"dataframe\">\n",
              "  <thead>\n",
              "    <tr style=\"text-align: right;\">\n",
              "      <th></th>\n",
              "      <th>price</th>\n",
              "      <th>lag_1</th>\n",
              "    </tr>\n",
              "  </thead>\n",
              "  <tbody>\n",
              "    <tr>\n",
              "      <th>0</th>\n",
              "      <td>0.000000</td>\n",
              "      <td>-0.818841</td>\n",
              "    </tr>\n",
              "    <tr>\n",
              "      <th>1</th>\n",
              "      <td>-0.818841</td>\n",
              "      <td>-0.818841</td>\n",
              "    </tr>\n",
              "    <tr>\n",
              "      <th>2</th>\n",
              "      <td>-0.818841</td>\n",
              "      <td>-0.818841</td>\n",
              "    </tr>\n",
              "    <tr>\n",
              "      <th>3</th>\n",
              "      <td>-0.818841</td>\n",
              "      <td>-0.818841</td>\n",
              "    </tr>\n",
              "    <tr>\n",
              "      <th>4</th>\n",
              "      <td>-0.818841</td>\n",
              "      <td>-0.818841</td>\n",
              "    </tr>\n",
              "  </tbody>\n",
              "</table>\n",
              "</div>"
            ],
            "text/plain": [
              "      price     lag_1\n",
              "0  0.000000 -0.818841\n",
              "1 -0.818841 -0.818841\n",
              "2 -0.818841 -0.818841\n",
              "3 -0.818841 -0.818841\n",
              "4 -0.818841 -0.818841"
            ]
          },
          "metadata": {
            "tags": []
          },
          "execution_count": 16
        }
      ]
    },
    {
      "cell_type": "code",
      "metadata": {
        "id": "AyF8_8PWqGo8"
      },
      "source": [
        "#separate into feature and target sets\n",
        "X, y = utils.feature_target(data_with_lag)"
      ],
      "execution_count": 17,
      "outputs": []
    },
    {
      "cell_type": "code",
      "metadata": {
        "colab": {
          "base_uri": "https://localhost:8080/"
        },
        "id": "sfHxNq8GpyIb",
        "outputId": "1d2cbc0d-c11f-4d2a-f85d-2417cbfff3a4"
      },
      "source": [
        "X[:5]"
      ],
      "execution_count": 18,
      "outputs": [
        {
          "output_type": "execute_result",
          "data": {
            "text/plain": [
              "array([[[ 0.        ]],\n",
              "\n",
              "       [[-0.81884058]],\n",
              "\n",
              "       [[-0.81884058]],\n",
              "\n",
              "       [[-0.81884058]],\n",
              "\n",
              "       [[-0.81884058]]])"
            ]
          },
          "metadata": {
            "tags": []
          },
          "execution_count": 18
        }
      ]
    },
    {
      "cell_type": "code",
      "metadata": {
        "colab": {
          "base_uri": "https://localhost:8080/"
        },
        "id": "hW-SMn7KpyIb",
        "outputId": "e2279e2f-8806-458d-f614-6559b239133b"
      },
      "source": [
        "y[:5]"
      ],
      "execution_count": 19,
      "outputs": [
        {
          "output_type": "execute_result",
          "data": {
            "text/plain": [
              "array([[-0.81884058],\n",
              "       [-0.81884058],\n",
              "       [-0.81884058],\n",
              "       [-0.81884058],\n",
              "       [-0.81884058]])"
            ]
          },
          "metadata": {
            "tags": []
          },
          "execution_count": 19
        }
      ]
    },
    {
      "cell_type": "markdown",
      "metadata": {
        "id": "7uH3ZNrPr5Gt"
      },
      "source": [
        "Build LSTM Model"
      ]
    },
    {
      "cell_type": "code",
      "metadata": {
        "id": "wPvfXwnmrppM"
      },
      "source": [
        "model = utils.build_LSTM(X)"
      ],
      "execution_count": 20,
      "outputs": []
    },
    {
      "cell_type": "code",
      "metadata": {
        "colab": {
          "base_uri": "https://localhost:8080/"
        },
        "id": "LUhR2NRQsCn2",
        "outputId": "8743b538-8a1b-4067-8158-6cd409468523"
      },
      "source": [
        "history = model.fit(X, y, epochs=100, batch_size=1, verbose=1, shuffle=False)"
      ],
      "execution_count": 21,
      "outputs": [
        {
          "output_type": "stream",
          "text": [
            "Epoch 1/100\n",
            "77/77 [==============================] - 3s 2ms/step - loss: 0.2598\n",
            "Epoch 2/100\n",
            "77/77 [==============================] - 0s 2ms/step - loss: 0.2036\n",
            "Epoch 3/100\n",
            "77/77 [==============================] - 0s 2ms/step - loss: 0.1896\n",
            "Epoch 4/100\n",
            "77/77 [==============================] - 0s 3ms/step - loss: 0.1733\n",
            "Epoch 5/100\n",
            "77/77 [==============================] - 0s 3ms/step - loss: 0.1555\n",
            "Epoch 6/100\n",
            "77/77 [==============================] - 0s 2ms/step - loss: 0.1478\n",
            "Epoch 7/100\n",
            "77/77 [==============================] - 0s 3ms/step - loss: 0.1511\n",
            "Epoch 8/100\n",
            "77/77 [==============================] - 0s 2ms/step - loss: 0.1165\n",
            "Epoch 9/100\n",
            "77/77 [==============================] - 0s 2ms/step - loss: 0.1167\n",
            "Epoch 10/100\n",
            "77/77 [==============================] - 0s 3ms/step - loss: 0.1316\n",
            "Epoch 11/100\n",
            "77/77 [==============================] - 0s 2ms/step - loss: 0.1138\n",
            "Epoch 12/100\n",
            "77/77 [==============================] - 0s 3ms/step - loss: 0.1223\n",
            "Epoch 13/100\n",
            "77/77 [==============================] - 0s 3ms/step - loss: 0.1007\n",
            "Epoch 14/100\n",
            "77/77 [==============================] - 0s 3ms/step - loss: 0.1088\n",
            "Epoch 15/100\n",
            "77/77 [==============================] - 0s 2ms/step - loss: 0.1024\n",
            "Epoch 16/100\n",
            "77/77 [==============================] - 0s 2ms/step - loss: 0.0959\n",
            "Epoch 17/100\n",
            "77/77 [==============================] - 0s 2ms/step - loss: 0.0752\n",
            "Epoch 18/100\n",
            "77/77 [==============================] - 0s 3ms/step - loss: 0.0860\n",
            "Epoch 19/100\n",
            "77/77 [==============================] - 0s 3ms/step - loss: 0.0751\n",
            "Epoch 20/100\n",
            "77/77 [==============================] - 0s 3ms/step - loss: 0.0795\n",
            "Epoch 21/100\n",
            "77/77 [==============================] - 0s 3ms/step - loss: 0.1000\n",
            "Epoch 22/100\n",
            "77/77 [==============================] - 0s 2ms/step - loss: 0.0978\n",
            "Epoch 23/100\n",
            "77/77 [==============================] - 0s 3ms/step - loss: 0.0845\n",
            "Epoch 24/100\n",
            "77/77 [==============================] - 0s 3ms/step - loss: 0.0808\n",
            "Epoch 25/100\n",
            "77/77 [==============================] - 0s 3ms/step - loss: 0.0730\n",
            "Epoch 26/100\n",
            "77/77 [==============================] - 0s 2ms/step - loss: 0.0697\n",
            "Epoch 27/100\n",
            "77/77 [==============================] - 0s 3ms/step - loss: 0.0684\n",
            "Epoch 28/100\n",
            "77/77 [==============================] - 0s 2ms/step - loss: 0.0698\n",
            "Epoch 29/100\n",
            "77/77 [==============================] - 0s 2ms/step - loss: 0.0857\n",
            "Epoch 30/100\n",
            "77/77 [==============================] - 0s 3ms/step - loss: 0.0699\n",
            "Epoch 31/100\n",
            "77/77 [==============================] - 0s 3ms/step - loss: 0.0757\n",
            "Epoch 32/100\n",
            "77/77 [==============================] - 0s 3ms/step - loss: 0.0747\n",
            "Epoch 33/100\n",
            "77/77 [==============================] - 0s 2ms/step - loss: 0.0643\n",
            "Epoch 34/100\n",
            "77/77 [==============================] - 0s 2ms/step - loss: 0.0745\n",
            "Epoch 35/100\n",
            "77/77 [==============================] - 0s 2ms/step - loss: 0.0709\n",
            "Epoch 36/100\n",
            "77/77 [==============================] - 0s 3ms/step - loss: 0.0733\n",
            "Epoch 37/100\n",
            "77/77 [==============================] - 0s 2ms/step - loss: 0.0684\n",
            "Epoch 38/100\n",
            "77/77 [==============================] - 0s 2ms/step - loss: 0.0721\n",
            "Epoch 39/100\n",
            "77/77 [==============================] - 0s 2ms/step - loss: 0.0731\n",
            "Epoch 40/100\n",
            "77/77 [==============================] - 0s 3ms/step - loss: 0.0720\n",
            "Epoch 41/100\n",
            "77/77 [==============================] - 0s 2ms/step - loss: 0.0720\n",
            "Epoch 42/100\n",
            "77/77 [==============================] - 0s 2ms/step - loss: 0.0616\n",
            "Epoch 43/100\n",
            "77/77 [==============================] - 0s 3ms/step - loss: 0.0661\n",
            "Epoch 44/100\n",
            "77/77 [==============================] - 0s 3ms/step - loss: 0.0595\n",
            "Epoch 45/100\n",
            "77/77 [==============================] - 0s 3ms/step - loss: 0.0711\n",
            "Epoch 46/100\n",
            "77/77 [==============================] - 0s 3ms/step - loss: 0.0763\n",
            "Epoch 47/100\n",
            "77/77 [==============================] - 0s 3ms/step - loss: 0.0657\n",
            "Epoch 48/100\n",
            "77/77 [==============================] - 0s 3ms/step - loss: 0.0769\n",
            "Epoch 49/100\n",
            "77/77 [==============================] - 0s 3ms/step - loss: 0.0756\n",
            "Epoch 50/100\n",
            "77/77 [==============================] - 0s 3ms/step - loss: 0.0710\n",
            "Epoch 51/100\n",
            "77/77 [==============================] - 0s 3ms/step - loss: 0.0683\n",
            "Epoch 52/100\n",
            "77/77 [==============================] - 0s 3ms/step - loss: 0.0711\n",
            "Epoch 53/100\n",
            "77/77 [==============================] - 0s 3ms/step - loss: 0.0646\n",
            "Epoch 54/100\n",
            "77/77 [==============================] - 0s 3ms/step - loss: 0.0709\n",
            "Epoch 55/100\n",
            "77/77 [==============================] - 0s 3ms/step - loss: 0.0578\n",
            "Epoch 56/100\n",
            "77/77 [==============================] - 0s 2ms/step - loss: 0.0617\n",
            "Epoch 57/100\n",
            "77/77 [==============================] - 0s 2ms/step - loss: 0.0817\n",
            "Epoch 58/100\n",
            "77/77 [==============================] - 0s 2ms/step - loss: 0.0734\n",
            "Epoch 59/100\n",
            "77/77 [==============================] - 0s 2ms/step - loss: 0.0721\n",
            "Epoch 60/100\n",
            "77/77 [==============================] - 0s 3ms/step - loss: 0.0665\n",
            "Epoch 61/100\n",
            "77/77 [==============================] - 0s 3ms/step - loss: 0.0632\n",
            "Epoch 62/100\n",
            "77/77 [==============================] - 0s 3ms/step - loss: 0.0749\n",
            "Epoch 63/100\n",
            "77/77 [==============================] - 0s 3ms/step - loss: 0.0671\n",
            "Epoch 64/100\n",
            "77/77 [==============================] - 0s 3ms/step - loss: 0.0664\n",
            "Epoch 65/100\n",
            "77/77 [==============================] - 0s 3ms/step - loss: 0.0641\n",
            "Epoch 66/100\n",
            "77/77 [==============================] - 0s 2ms/step - loss: 0.0687\n",
            "Epoch 67/100\n",
            "77/77 [==============================] - 0s 3ms/step - loss: 0.0665\n",
            "Epoch 68/100\n",
            "77/77 [==============================] - 0s 2ms/step - loss: 0.0681\n",
            "Epoch 69/100\n",
            "77/77 [==============================] - 0s 3ms/step - loss: 0.0619\n",
            "Epoch 70/100\n",
            "77/77 [==============================] - 0s 3ms/step - loss: 0.0685\n",
            "Epoch 71/100\n",
            "77/77 [==============================] - 0s 2ms/step - loss: 0.0617\n",
            "Epoch 72/100\n",
            "77/77 [==============================] - 0s 3ms/step - loss: 0.0584\n",
            "Epoch 73/100\n",
            "77/77 [==============================] - 0s 3ms/step - loss: 0.0683\n",
            "Epoch 74/100\n",
            "77/77 [==============================] - 0s 3ms/step - loss: 0.0649\n",
            "Epoch 75/100\n",
            "77/77 [==============================] - 0s 3ms/step - loss: 0.0629\n",
            "Epoch 76/100\n",
            "77/77 [==============================] - 0s 3ms/step - loss: 0.0573\n",
            "Epoch 77/100\n",
            "77/77 [==============================] - 0s 3ms/step - loss: 0.0689\n",
            "Epoch 78/100\n",
            "77/77 [==============================] - 0s 2ms/step - loss: 0.0590\n",
            "Epoch 79/100\n",
            "77/77 [==============================] - 0s 3ms/step - loss: 0.0835\n",
            "Epoch 80/100\n",
            "77/77 [==============================] - 0s 3ms/step - loss: 0.0663\n",
            "Epoch 81/100\n",
            "77/77 [==============================] - 0s 3ms/step - loss: 0.0602\n",
            "Epoch 82/100\n",
            "77/77 [==============================] - 0s 3ms/step - loss: 0.0628\n",
            "Epoch 83/100\n",
            "77/77 [==============================] - 0s 3ms/step - loss: 0.0650\n",
            "Epoch 84/100\n",
            "77/77 [==============================] - 0s 2ms/step - loss: 0.0664\n",
            "Epoch 85/100\n",
            "77/77 [==============================] - 0s 3ms/step - loss: 0.0640\n",
            "Epoch 86/100\n",
            "77/77 [==============================] - 0s 3ms/step - loss: 0.0677\n",
            "Epoch 87/100\n",
            "77/77 [==============================] - 0s 3ms/step - loss: 0.0642\n",
            "Epoch 88/100\n",
            "77/77 [==============================] - 0s 3ms/step - loss: 0.0613\n",
            "Epoch 89/100\n",
            "77/77 [==============================] - 0s 2ms/step - loss: 0.0631\n",
            "Epoch 90/100\n",
            "77/77 [==============================] - 0s 3ms/step - loss: 0.0674\n",
            "Epoch 91/100\n",
            "77/77 [==============================] - 0s 3ms/step - loss: 0.0640\n",
            "Epoch 92/100\n",
            "77/77 [==============================] - 0s 3ms/step - loss: 0.0597\n",
            "Epoch 93/100\n",
            "77/77 [==============================] - 0s 2ms/step - loss: 0.0666\n",
            "Epoch 94/100\n",
            "77/77 [==============================] - 0s 3ms/step - loss: 0.0617\n",
            "Epoch 95/100\n",
            "77/77 [==============================] - 0s 3ms/step - loss: 0.0644\n",
            "Epoch 96/100\n",
            "77/77 [==============================] - 0s 3ms/step - loss: 0.0640\n",
            "Epoch 97/100\n",
            "77/77 [==============================] - 0s 2ms/step - loss: 0.0744\n",
            "Epoch 98/100\n",
            "77/77 [==============================] - 0s 3ms/step - loss: 0.0606\n",
            "Epoch 99/100\n",
            "77/77 [==============================] - 0s 3ms/step - loss: 0.0693\n",
            "Epoch 100/100\n",
            "77/77 [==============================] - 0s 3ms/step - loss: 0.0593\n"
          ],
          "name": "stdout"
        }
      ]
    },
    {
      "cell_type": "code",
      "metadata": {
        "colab": {
          "base_uri": "https://localhost:8080/",
          "height": 367
        },
        "id": "8F4CHAnKSBrP",
        "outputId": "ea781d46-9539-437e-ed07-9553347b89f6"
      },
      "source": [
        "plt.figure(figsize=(8,5))\n",
        "plt.plot(history.history['loss'])\n",
        "plt.xlabel(\"Epochs\")\n",
        "plt.ylabel(\"Loss\")\n",
        "plt.title(\"Model Accuracy\")"
      ],
      "execution_count": 22,
      "outputs": [
        {
          "output_type": "execute_result",
          "data": {
            "text/plain": [
              "Text(0.5, 1.0, 'Model Accuracy')"
            ]
          },
          "metadata": {
            "tags": []
          },
          "execution_count": 22
        },
        {
          "output_type": "display_data",
          "data": {
            "image/png": "[encoded data removed]",
            "text/plain": [
              "<Figure size 576x360 with 1 Axes>"
            ]
          },
          "metadata": {
            "tags": [],
            "needs_background": "light"
          }
        }
      ]
    },
    {
      "cell_type": "code",
      "metadata": {
        "id": "VVtpHZBOsQDU"
      },
      "source": [
        "y_pred = model.predict(X, batch_size=1)"
      ],
      "execution_count": 23,
      "outputs": []
    },
    {
      "cell_type": "markdown",
      "metadata": {
        "id": "fL-vD--bsz8_"
      },
      "source": [
        "To check how well the model performed\n",
        "- inverse transform the forecast for scaling\n",
        "- create a dataframe with the date, original and the predicted data\n",
        "- plot the data"
      ]
    },
    {
      "cell_type": "code",
      "metadata": {
        "colab": {
          "base_uri": "https://localhost:8080/"
        },
        "id": "S4noonb1zlUi",
        "outputId": "262fa7f7-2135-4bf1-ae4d-21b15288e7f6"
      },
      "source": [
        "#inverse transform prediction to get predicted price\n",
        "inverted_y_pred = scaler.inverse_transform(y_pred.reshape(-1, 1) )\n",
        "inverted_y_pred[:5]"
      ],
      "execution_count": 24,
      "outputs": [
        {
          "output_type": "execute_result",
          "data": {
            "text/plain": [
              "array([[134.94962 ],\n",
              "       [ 96.6414  ],\n",
              "       [ 88.409004],\n",
              "       [ 96.20622 ],\n",
              "       [ 98.89828 ]], dtype=float32)"
            ]
          },
          "metadata": {
            "tags": []
          },
          "execution_count": 24
        }
      ]
    },
    {
      "cell_type": "code",
      "metadata": {
        "colab": {
          "base_uri": "https://localhost:8080/",
          "height": 204
        },
        "id": "h7OZfEqK0qck",
        "outputId": "d916036f-b956-4722-a7a6-59b1dd511d34"
      },
      "source": [
        "df = pd.DataFrame()\n",
        "\n",
        "df['date'] = petrol.index\n",
        "df['price'] = list(petrol['price'])\n",
        "df['predicted_price'] = inverted_y_pred\n",
        "df.head()"
      ],
      "execution_count": 25,
      "outputs": [
        {
          "output_type": "execute_result",
          "data": {
            "text/html": [
              "<div>\n",
              "<style scoped>\n",
              "    .dataframe tbody tr th:only-of-type {\n",
              "        vertical-align: middle;\n",
              "    }\n",
              "\n",
              "    .dataframe tbody tr th {\n",
              "        vertical-align: top;\n",
              "    }\n",
              "\n",
              "    .dataframe thead th {\n",
              "        text-align: right;\n",
              "    }\n",
              "</style>\n",
              "<table border=\"1\" class=\"dataframe\">\n",
              "  <thead>\n",
              "    <tr style=\"text-align: right;\">\n",
              "      <th></th>\n",
              "      <th>date</th>\n",
              "      <th>price</th>\n",
              "      <th>predicted_price</th>\n",
              "    </tr>\n",
              "  </thead>\n",
              "  <tbody>\n",
              "    <tr>\n",
              "      <th>0</th>\n",
              "      <td>2014-05-15</td>\n",
              "      <td>97.0</td>\n",
              "      <td>134.949615</td>\n",
              "    </tr>\n",
              "    <tr>\n",
              "      <th>1</th>\n",
              "      <td>2014-07-15</td>\n",
              "      <td>97.0</td>\n",
              "      <td>96.641403</td>\n",
              "    </tr>\n",
              "    <tr>\n",
              "      <th>2</th>\n",
              "      <td>2014-08-15</td>\n",
              "      <td>97.0</td>\n",
              "      <td>88.409004</td>\n",
              "    </tr>\n",
              "    <tr>\n",
              "      <th>3</th>\n",
              "      <td>2014-09-15</td>\n",
              "      <td>97.0</td>\n",
              "      <td>96.206223</td>\n",
              "    </tr>\n",
              "    <tr>\n",
              "      <th>4</th>\n",
              "      <td>2014-10-15</td>\n",
              "      <td>97.0</td>\n",
              "      <td>98.898277</td>\n",
              "    </tr>\n",
              "  </tbody>\n",
              "</table>\n",
              "</div>"
            ],
            "text/plain": [
              "        date  price  predicted_price\n",
              "0 2014-05-15   97.0       134.949615\n",
              "1 2014-07-15   97.0        96.641403\n",
              "2 2014-08-15   97.0        88.409004\n",
              "3 2014-09-15   97.0        96.206223\n",
              "4 2014-10-15   97.0        98.898277"
            ]
          },
          "metadata": {
            "tags": []
          },
          "execution_count": 25
        }
      ]
    },
    {
      "cell_type": "code",
      "metadata": {
        "colab": {
          "base_uri": "https://localhost:8080/"
        },
        "id": "Wtk7ufUx0kNN",
        "outputId": "c97929e7-82f9-4a3d-f353-b643fd5cf57b"
      },
      "source": [
        "mean_squared_error(df['price'], df['predicted_price'])"
      ],
      "execution_count": 26,
      "outputs": [
        {
          "output_type": "execute_result",
          "data": {
            "text/plain": [
              "108.47061646103943"
            ]
          },
          "metadata": {
            "tags": []
          },
          "execution_count": 26
        }
      ]
    },
    {
      "cell_type": "code",
      "metadata": {
        "colab": {
          "base_uri": "https://localhost:8080/"
        },
        "id": "S3vy83pYahq3",
        "outputId": "c063d146-668a-48f2-faa5-5271c3b2904f"
      },
      "source": [
        "#rmse\n",
        "np.sqrt(mean_squared_error(df['price'], df['predicted_price']))"
      ],
      "execution_count": 27,
      "outputs": [
        {
          "output_type": "execute_result",
          "data": {
            "text/plain": [
              "10.414922777488052"
            ]
          },
          "metadata": {
            "tags": []
          },
          "execution_count": 27
        }
      ]
    },
    {
      "cell_type": "code",
      "metadata": {
        "colab": {
          "base_uri": "https://localhost:8080/"
        },
        "id": "jMcJLY1nu_vN",
        "outputId": "042037e1-d0c0-467d-f556-a3bb0c410bef"
      },
      "source": [
        "r2_score(df['price'], df['predicted_price'])"
      ],
      "execution_count": 28,
      "outputs": [
        {
          "output_type": "execute_result",
          "data": {
            "text/plain": [
              "0.7983591736030963"
            ]
          },
          "metadata": {
            "tags": []
          },
          "execution_count": 28
        }
      ]
    },
    {
      "cell_type": "code",
      "metadata": {
        "id": "_U2iu3QyEPot",
        "colab": {
          "base_uri": "https://localhost:8080/"
        },
        "outputId": "7e0f6e1a-46b9-4ba7-d81d-66430a42f821"
      },
      "source": [
        "mape = utils.mean_absolute_percentage_error(df['price'], df['predicted_price'])\n",
        "mape"
      ],
      "execution_count": 30,
      "outputs": [
        {
          "output_type": "execute_result",
          "data": {
            "text/plain": [
              "5.486296160002337"
            ]
          },
          "metadata": {
            "tags": []
          },
          "execution_count": 30
        }
      ]
    },
    {
      "cell_type": "code",
      "metadata": {
        "colab": {
          "base_uri": "https://localhost:8080/",
          "height": 516
        },
        "id": "AyL7PM7bFWZV",
        "outputId": "e40f39d7-7281-4bc2-8a14-d4393968976b"
      },
      "source": [
        "df.set_index('date', inplace=True)\n",
        "\n",
        "plt.figure(figsize=(12,8))\n",
        "plt.plot(df['price'], color=\"blue\", label=\"actual\")\n",
        "plt.plot(df['predicted_price'], color=\"red\", label=\"predicted\")\n",
        "plt.title(\"Petrol Price Forecast\")\n",
        "plt.legend()"
      ],
      "execution_count": 31,
      "outputs": [
        {
          "output_type": "execute_result",
          "data": {
            "text/plain": [
              "<matplotlib.legend.Legend at 0x7f8b808eccc0>"
            ]
          },
          "metadata": {
            "tags": []
          },
          "execution_count": 31
        },
        {
          "output_type": "display_data",
          "data": {
            "image/png": "[encoded data removed]",
            "text/plain": [
              "<Figure size 864x576 with 1 Axes>"
            ]
          },
          "metadata": {
            "tags": [],
            "needs_background": "light"
          }
        }
      ]
    },
    {
      "cell_type": "markdown",
      "metadata": {
        "id": "wGQbSzq0pdcd"
      },
      "source": [
        "The model did not perform as well as it did on the diesel data here on the petrol data, so it probably needs to more finetuning, but it still did reasonably well with an RMSE Score of 9.06 and r2 score of 84.7% on the existing data."
      ]
    },
    {
      "cell_type": "markdown",
      "metadata": {
        "id": "I3OdYmL1pyIe"
      },
      "source": [
        "## Future Prediction\n",
        "\n",
        "I will be predicting diesel prices 3 years into the future, 2021, 2022, 2023. That is 36 months."
      ]
    },
    {
      "cell_type": "code",
      "metadata": {
        "id": "i3C4LwKRwle7",
        "colab": {
          "base_uri": "https://localhost:8080/"
        },
        "outputId": "40cadca0-be22-4692-b07e-29fde33a1ef9"
      },
      "source": [
        "num_prediction = 36  #3 years, 36 months\n",
        "\n",
        "price_data = scaler.transform([petrol['price']]).reshape(-1)\n",
        "price_data[:5]"
      ],
      "execution_count": 32,
      "outputs": [
        {
          "output_type": "execute_result",
          "data": {
            "text/plain": [
              "array([-0.81884058, -0.81884058, -0.81884058, -0.81884058, -0.81884058])"
            ]
          },
          "metadata": {
            "tags": []
          },
          "execution_count": 32
        }
      ]
    },
    {
      "cell_type": "code",
      "metadata": {
        "id": "onRLMt0zUhYN"
      },
      "source": [
        "price_data.shape"
      ],
      "execution_count": null,
      "outputs": []
    },
    {
      "cell_type": "code",
      "metadata": {
        "id": "dVRtYEEuUvxU"
      },
      "source": [
        "forecast = utils.forecast(num_prediction, model, price_data, look_back=1)\n",
        "forecast_dates = utils.forecast_dates(petrol, num_prediction, frequency = 'MS')"
      ],
      "execution_count": 33,
      "outputs": []
    },
    {
      "cell_type": "code",
      "metadata": {
        "colab": {
          "base_uri": "https://localhost:8080/"
        },
        "id": "MVAFtGHGVg5Z",
        "scrolled": true,
        "outputId": "d6a51a1c-1c4c-4084-f441-2e7875a32c2d"
      },
      "source": [
        "forecast_dates[:5]"
      ],
      "execution_count": 34,
      "outputs": [
        {
          "output_type": "execute_result",
          "data": {
            "text/plain": [
              "[Timestamp('2020-12-01 00:00:00', freq='MS'),\n",
              " Timestamp('2021-01-01 00:00:00', freq='MS'),\n",
              " Timestamp('2021-02-01 00:00:00', freq='MS'),\n",
              " Timestamp('2021-03-01 00:00:00', freq='MS'),\n",
              " Timestamp('2021-04-01 00:00:00', freq='MS')]"
            ]
          },
          "metadata": {
            "tags": []
          },
          "execution_count": 34
        }
      ]
    },
    {
      "cell_type": "code",
      "metadata": {
        "colab": {
          "base_uri": "https://localhost:8080/"
        },
        "id": "mDysMn4pVFx9",
        "outputId": "785fe873-aa31-4060-cd5a-d914ae25ee17"
      },
      "source": [
        "forecast"
      ],
      "execution_count": 35,
      "outputs": [
        {
          "output_type": "execute_result",
          "data": {
            "text/plain": [
              "array([0.41304348, 0.48935705, 0.27412122, 0.15531698, 0.08537789,\n",
              "       0.06859368, 0.08939435, 0.12810463, 0.1665733 , 0.19270244,\n",
              "       0.20254488, 0.19902048, 0.18830362, 0.17637207, 0.16714317,\n",
              "       0.16212219, 0.16093686, 0.16219673, 0.16430642, 0.16602865,\n",
              "       0.16672821, 0.16633946, 0.1651687 , 0.16365601, 0.16218796,\n",
              "       0.16099979, 0.16016224, 0.15962356, 0.15927252, 0.15899512,\n",
              "       0.15870999, 0.1583803 , 0.15800738, 0.15761504, 0.15723304,\n",
              "       0.15688521, 0.15658388])"
            ]
          },
          "metadata": {
            "tags": []
          },
          "execution_count": 35
        }
      ]
    },
    {
      "cell_type": "code",
      "metadata": {
        "colab": {
          "base_uri": "https://localhost:8080/"
        },
        "id": "i3LZZ85xxfo6",
        "outputId": "dfaf8e48-9418-49bc-b99f-dec012af566b"
      },
      "source": [
        "len(forecast_dates)"
      ],
      "execution_count": 36,
      "outputs": [
        {
          "output_type": "execute_result",
          "data": {
            "text/plain": [
              "37"
            ]
          },
          "metadata": {
            "tags": []
          },
          "execution_count": 36
        }
      ]
    },
    {
      "cell_type": "code",
      "metadata": {
        "colab": {
          "base_uri": "https://localhost:8080/"
        },
        "id": "NEU_0hG3VJXP",
        "scrolled": true,
        "outputId": "d8565224-d3d3-48f7-914b-59f51fdf7759"
      },
      "source": [
        "#inverse transform forecast and reshape\n",
        "forecast = scaler.inverse_transform(forecast.reshape(-1, 1))\n",
        "forecast"
      ],
      "execution_count": 37,
      "outputs": [
        {
          "output_type": "execute_result",
          "data": {
            "text/plain": [
              "array([[165.        ],\n",
              "       [169.21250939],\n",
              "       [157.33149161],\n",
              "       [150.77349722],\n",
              "       [146.91285936],\n",
              "       [145.98637118],\n",
              "       [147.13456789],\n",
              "       [149.27137542],\n",
              "       [151.39484621],\n",
              "       [152.83717482],\n",
              "       [153.38047754],\n",
              "       [153.18593023],\n",
              "       [152.5943598 ],\n",
              "       [151.93573805],\n",
              "       [151.42630277],\n",
              "       [151.14914489],\n",
              "       [151.0837148 ],\n",
              "       [151.15325925],\n",
              "       [151.26971422],\n",
              "       [151.3647814 ],\n",
              "       [151.40339738],\n",
              "       [151.38193803],\n",
              "       [151.31731238],\n",
              "       [151.23381182],\n",
              "       [151.1527756 ],\n",
              "       [151.0871884 ],\n",
              "       [151.04095566],\n",
              "       [151.01122069],\n",
              "       [150.9918432 ],\n",
              "       [150.97653072],\n",
              "       [150.96079134],\n",
              "       [150.94259255],\n",
              "       [150.92200756],\n",
              "       [150.90034997],\n",
              "       [150.87926406],\n",
              "       [150.86006341],\n",
              "       [150.84342992]])"
            ]
          },
          "metadata": {
            "tags": []
          },
          "execution_count": 37
        }
      ]
    },
    {
      "cell_type": "code",
      "metadata": {
        "colab": {
          "base_uri": "https://localhost:8080/"
        },
        "id": "1sN3m4EkpyIf",
        "outputId": "502f7ecd-d096-4aa0-c52d-b0b7661c7362"
      },
      "source": [
        "len(forecast)"
      ],
      "execution_count": 38,
      "outputs": [
        {
          "output_type": "execute_result",
          "data": {
            "text/plain": [
              "37"
            ]
          },
          "metadata": {
            "tags": []
          },
          "execution_count": 38
        }
      ]
    },
    {
      "cell_type": "code",
      "metadata": {
        "colab": {
          "base_uri": "https://localhost:8080/",
          "height": 235
        },
        "id": "gF6-nYjnpyIf",
        "outputId": "bf6bcfdf-f390-4830-bca0-19733f2b3504"
      },
      "source": [
        "future = pd.DataFrame()\n",
        "\n",
        "future['date'] = list(forecast_dates)\n",
        "future['predicted_price'] = forecast\n",
        "future.set_index('date', inplace=True)\n",
        "future.head()"
      ],
      "execution_count": 39,
      "outputs": [
        {
          "output_type": "execute_result",
          "data": {
            "text/html": [
              "<div>\n",
              "<style scoped>\n",
              "    .dataframe tbody tr th:only-of-type {\n",
              "        vertical-align: middle;\n",
              "    }\n",
              "\n",
              "    .dataframe tbody tr th {\n",
              "        vertical-align: top;\n",
              "    }\n",
              "\n",
              "    .dataframe thead th {\n",
              "        text-align: right;\n",
              "    }\n",
              "</style>\n",
              "<table border=\"1\" class=\"dataframe\">\n",
              "  <thead>\n",
              "    <tr style=\"text-align: right;\">\n",
              "      <th></th>\n",
              "      <th>predicted_price</th>\n",
              "    </tr>\n",
              "    <tr>\n",
              "      <th>date</th>\n",
              "      <th></th>\n",
              "    </tr>\n",
              "  </thead>\n",
              "  <tbody>\n",
              "    <tr>\n",
              "      <th>2020-12-01</th>\n",
              "      <td>165.000000</td>\n",
              "    </tr>\n",
              "    <tr>\n",
              "      <th>2021-01-01</th>\n",
              "      <td>169.212509</td>\n",
              "    </tr>\n",
              "    <tr>\n",
              "      <th>2021-02-01</th>\n",
              "      <td>157.331492</td>\n",
              "    </tr>\n",
              "    <tr>\n",
              "      <th>2021-03-01</th>\n",
              "      <td>150.773497</td>\n",
              "    </tr>\n",
              "    <tr>\n",
              "      <th>2021-04-01</th>\n",
              "      <td>146.912859</td>\n",
              "    </tr>\n",
              "  </tbody>\n",
              "</table>\n",
              "</div>"
            ],
            "text/plain": [
              "            predicted_price\n",
              "date                       \n",
              "2020-12-01       165.000000\n",
              "2021-01-01       169.212509\n",
              "2021-02-01       157.331492\n",
              "2021-03-01       150.773497\n",
              "2021-04-01       146.912859"
            ]
          },
          "metadata": {
            "tags": []
          },
          "execution_count": 39
        }
      ]
    },
    {
      "cell_type": "code",
      "metadata": {
        "colab": {
          "base_uri": "https://localhost:8080/",
          "height": 499
        },
        "id": "oDCIIduzpyIg",
        "outputId": "3845f292-a55e-418e-de03-515c4dfc45b2"
      },
      "source": [
        "plt.figure(figsize=(12,8))\n",
        "\n",
        "plt.plot(petrol['price'], c='blue', label='past')\n",
        "plt.plot(future, c='red', label='future')\n",
        "plt.title('Future Petrol Price Predictions')\n",
        "plt.legend()\n",
        "plt.show()"
      ],
      "execution_count": 40,
      "outputs": [
        {
          "output_type": "display_data",
          "data": {
            "image/png": "[encoded data removed]",
            "text/plain": [
              "<Figure size 864x576 with 1 Axes>"
            ]
          },
          "metadata": {
            "tags": [],
            "needs_background": "light"
          }
        }
      ]
    },
    {
      "cell_type": "markdown",
      "metadata": {
        "id": "4FkPBJ7bp4Ib"
      },
      "source": [
        "## Conclusion\n",
        "\n",
        "The LSTM Model had an r2 score of 79,8% on the existing data, and has forecasted that petrol prices will reduce and remain steady for a while."
      ]
    },
    {
      "cell_type": "code",
      "metadata": {
        "id": "ORw5-eVaqY2-"
      },
      "source": [
        ""
      ],
      "execution_count": null,
      "outputs": []
    }
  ]
}